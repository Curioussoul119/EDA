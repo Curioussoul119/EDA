{
  "nbformat": 4,
  "nbformat_minor": 0,
  "metadata": {
    "colab": {
      "provenance": [],
      "collapsed_sections": [
        "K4fJJe_Emumz",
        "GoYxgdxyMNpx",
        "mz27IEk8xu9b",
        "uiQq0-c8evCO"
      ],
      "toc_visible": true,
      "mount_file_id": "1fVUc7voQoJxTaHi_BAGbGNue6pAikt0t",
      "authorship_tag": "ABX9TyNhr5aa0GfZPsZWwGqeEoyV",
      "include_colab_link": true
    },
    "kernelspec": {
      "name": "python3",
      "display_name": "Python 3"
    },
    "language_info": {
      "name": "python"
    }
  },
  "cells": [
    {
      "cell_type": "markdown",
      "metadata": {
        "id": "view-in-github",
        "colab_type": "text"
      },
      "source": [
        "<a href=\"https://colab.research.google.com/github/Curioussoul119/EDA/blob/main/John_Assignment_cs6300.ipynb\" target=\"_parent\"><img src=\"https://colab.research.google.com/assets/colab-badge.svg\" alt=\"Open In Colab\"/></a>"
      ]
    },
    {
      "cell_type": "markdown",
      "source": [
        "# III. Compute the histograms of durations for each of the vowels, and all syllables, syllable rate."
      ],
      "metadata": {
        "id": "dp61qRxemBsy"
      }
    },
    {
      "cell_type": "markdown",
      "source": [
        "## Import libraries\n"
      ],
      "metadata": {
        "id": "K4fJJe_Emumz"
      }
    },
    {
      "cell_type": "code",
      "execution_count": 1,
      "metadata": {
        "id": "qgtHQvMhlV2Q"
      },
      "outputs": [],
      "source": [
        "from matplotlib import pyplot as plt\n",
        "import numpy as np\n",
        "import pandas as pd"
      ]
    },
    {
      "cell_type": "markdown",
      "source": [
        "Syllables path"
      ],
      "metadata": {
        "id": "u5rjduo2n8MK"
      }
    },
    {
      "cell_type": "code",
      "source": [
        "ps1='/content/drive/MyDrive/SMT/Speech Technologies/Assignment 1/CS20S013/Labels/Syllables/sa1.txt'"
      ],
      "metadata": {
        "id": "zMnjaZoqnh14"
      },
      "execution_count": 2,
      "outputs": []
    },
    {
      "cell_type": "code",
      "source": [
        "ps2='/content/drive/MyDrive/SMT/Speech Technologies/Assignment 1/CS20S013/Labels/Syllables/sa2.txt'"
      ],
      "metadata": {
        "id": "Lg2cnXd-nhr_"
      },
      "execution_count": 3,
      "outputs": []
    },
    {
      "cell_type": "code",
      "source": [
        "ps3='/content/drive/MyDrive/SMT/Speech Technologies/Assignment 1/CS20S013/Labels/Syllables/sb1.txt'\n",
        "ps4='/content/drive/MyDrive/SMT/Speech Technologies/Assignment 1/CS20S013/Labels/Syllables/sb2.txt'\n",
        "ps5='/content/drive/MyDrive/SMT/Speech Technologies/Assignment 1/CS20S013/Labels/Syllables/sc1.txt'\n",
        "ps6='/content/drive/MyDrive/SMT/Speech Technologies/Assignment 1/CS20S013/Labels/Syllables/sc2.txt'\n",
        "ps7='/content/drive/MyDrive/SMT/Speech Technologies/Assignment 1/CS20S013/Labels/Syllables/sd1.txt'\n",
        "ps8='/content/drive/MyDrive/SMT/Speech Technologies/Assignment 1/CS20S013/Labels/Syllables/sd2.txt'\n",
        "ps9='/content/drive/MyDrive/SMT/Speech Technologies/Assignment 1/CS20S013/Labels/Syllables/se1.txt'\n",
        "ps10='/content/drive/MyDrive/SMT/Speech Technologies/Assignment 1/CS20S013/Labels/Syllables/se2.txt'\n",
        "ps11='/content/drive/MyDrive/SMT/Speech Technologies/Assignment 1/CS20S013/Labels/Syllables/sf1.txt'\n",
        "ps12='/content/drive/MyDrive/SMT/Speech Technologies/Assignment 1/CS20S013/Labels/Syllables/sf2.txt'\n",
        "ps13='/content/drive/MyDrive/SMT/Speech Technologies/Assignment 1/CS20S013/Labels/Syllables/sg1.txt'\n",
        "ps14='/content/drive/MyDrive/SMT/Speech Technologies/Assignment 1/CS20S013/Labels/Syllables/sg2.txt'\n",
        "ps15='/content/drive/MyDrive/SMT/Speech Technologies/Assignment 1/CS20S013/Labels/Syllables/sh1.txt'\n",
        "ps16='/content/drive/MyDrive/SMT/Speech Technologies/Assignment 1/CS20S013/Labels/Syllables/sh2.txt'\n",
        "ps17='/content/drive/MyDrive/SMT/Speech Technologies/Assignment 1/CS20S013/Labels/Syllables/si1.txt'\n",
        "ps18='/content/drive/MyDrive/SMT/Speech Technologies/Assignment 1/CS20S013/Labels/Syllables/si2.txt'\n",
        "ps19='/content/drive/MyDrive/SMT/Speech Technologies/Assignment 1/CS20S013/Labels/Syllables/sj1.txt'\n",
        "ps20='/content/drive/MyDrive/SMT/Speech Technologies/Assignment 1/CS20S013/Labels/Syllables/sj2.txt'\n"
      ],
      "metadata": {
        "id": "I20qj-wpnhi4"
      },
      "execution_count": 19,
      "outputs": []
    },
    {
      "cell_type": "markdown",
      "source": [
        "Vowels path"
      ],
      "metadata": {
        "id": "TRcoM-MzobJG"
      }
    },
    {
      "cell_type": "code",
      "source": [
        "pv1='/content/drive/MyDrive/SMT/Speech Technologies/Assignment 1/CS20S013/Labels/Vowels/va1.txt'"
      ],
      "metadata": {
        "id": "1wqqH_a-nhZm"
      },
      "execution_count": 5,
      "outputs": []
    },
    {
      "cell_type": "code",
      "source": [
        "pv2='/content/drive/MyDrive/SMT/Speech Technologies/Assignment 1/CS20S013/Labels/Vowels/va2.txt'"
      ],
      "metadata": {
        "id": "JgyQKHr2nhQt"
      },
      "execution_count": 6,
      "outputs": []
    },
    {
      "cell_type": "code",
      "source": [
        "pv3='/content/drive/MyDrive/SMT/Speech Technologies/Assignment 1/CS20S013/Labels/Vowels/vb1.txt'\n",
        "pv4='/content/drive/MyDrive/SMT/Speech Technologies/Assignment 1/CS20S013/Labels/Vowels/vb2.txt'\n",
        "pv5='/content/drive/MyDrive/SMT/Speech Technologies/Assignment 1/CS20S013/Labels/Vowels/vc1.txt'\n",
        "pv6='/content/drive/MyDrive/SMT/Speech Technologies/Assignment 1/CS20S013/Labels/Vowels/vc2.txt'\n",
        "pv7='/content/drive/MyDrive/SMT/Speech Technologies/Assignment 1/CS20S013/Labels/Vowels/vd1.txt'\n",
        "pv8='/content/drive/MyDrive/SMT/Speech Technologies/Assignment 1/CS20S013/Labels/Vowels/vd2.txt'\n",
        "pv9='/content/drive/MyDrive/SMT/Speech Technologies/Assignment 1/CS20S013/Labels/Vowels/ve1.txt'\n",
        "pv10='/content/drive/MyDrive/SMT/Speech Technologies/Assignment 1/CS20S013/Labels/Vowels/ve2.txt'\n",
        "pv11='/content/drive/MyDrive/SMT/Speech Technologies/Assignment 1/CS20S013/Labels/Vowels/vf1.txt'\n",
        "pv12='/content/drive/MyDrive/SMT/Speech Technologies/Assignment 1/CS20S013/Labels/Vowels/vf2.txt'\n",
        "pv13='/content/drive/MyDrive/SMT/Speech Technologies/Assignment 1/CS20S013/Labels/Vowels/vg1.txt'\n",
        "pv14='/content/drive/MyDrive/SMT/Speech Technologies/Assignment 1/CS20S013/Labels/Vowels/vg2.txt'\n",
        "pv15='/content/drive/MyDrive/SMT/Speech Technologies/Assignment 1/CS20S013/Labels/Vowels/vh1.txt'\n",
        "pv16='/content/drive/MyDrive/SMT/Speech Technologies/Assignment 1/CS20S013/Labels/Vowels/vh2.txt'\n",
        "pv17='/content/drive/MyDrive/SMT/Speech Technologies/Assignment 1/CS20S013/Labels/Vowels/vi1.txt'\n",
        "pv18='/content/drive/MyDrive/SMT/Speech Technologies/Assignment 1/CS20S013/Labels/Vowels/vi2.txt'\n",
        "pv19='/content/drive/MyDrive/SMT/Speech Technologies/Assignment 1/CS20S013/Labels/Vowels/vj1.txt'\n",
        "pv20='/content/drive/MyDrive/SMT/Speech Technologies/Assignment 1/CS20S013/Labels/Vowels/vj2.txt'"
      ],
      "metadata": {
        "id": "pD6x3sP0nhHG"
      },
      "execution_count": 24,
      "outputs": []
    },
    {
      "cell_type": "markdown",
      "source": [
        "Words path"
      ],
      "metadata": {
        "id": "U4FAPEgno6QE"
      }
    },
    {
      "cell_type": "code",
      "source": [
        "pw1='/content/drive/MyDrive/SMT/Speech Technologies/Assignment 1/CS20S013/Labels/Words/wa1.txt'"
      ],
      "metadata": {
        "id": "XpOJZH6Ang-H"
      },
      "execution_count": 8,
      "outputs": []
    },
    {
      "cell_type": "code",
      "source": [
        "pw2='/content/drive/MyDrive/SMT/Speech Technologies/Assignment 1/CS20S013/Labels/Words/wa2.txt'"
      ],
      "metadata": {
        "id": "kHckzIJ5ng0z"
      },
      "execution_count": 9,
      "outputs": []
    },
    {
      "cell_type": "code",
      "source": [
        "pw3='/content/drive/MyDrive/SMT/Speech Technologies/Assignment 1/CS20S013/Labels/Words/wb1.txt'\n",
        "pw4='/content/drive/MyDrive/SMT/Speech Technologies/Assignment 1/CS20S013/Labels/Words/wb2.txt'\n",
        "pw5='/content/drive/MyDrive/SMT/Speech Technologies/Assignment 1/CS20S013/Labels/Words/wc1.txt'\n",
        "pw6='/content/drive/MyDrive/SMT/Speech Technologies/Assignment 1/CS20S013/Labels/Words/wc2.txt'\n",
        "pw7='/content/drive/MyDrive/SMT/Speech Technologies/Assignment 1/CS20S013/Labels/Words/wd1.txt'\n",
        "pw8='/content/drive/MyDrive/SMT/Speech Technologies/Assignment 1/CS20S013/Labels/Words/wd2.txt'\n",
        "pw9='/content/drive/MyDrive/SMT/Speech Technologies/Assignment 1/CS20S013/Labels/Words/we1.txt'\n",
        "pw10='/content/drive/MyDrive/SMT/Speech Technologies/Assignment 1/CS20S013/Labels/Words/we2.txt'\n",
        "pw11='/content/drive/MyDrive/SMT/Speech Technologies/Assignment 1/CS20S013/Labels/Words/wf1.txt'\n",
        "pw12='/content/drive/MyDrive/SMT/Speech Technologies/Assignment 1/CS20S013/Labels/Words/wf2.txt'\n",
        "pw13='/content/drive/MyDrive/SMT/Speech Technologies/Assignment 1/CS20S013/Labels/Words/wg1.txt'\n",
        "pw14='/content/drive/MyDrive/SMT/Speech Technologies/Assignment 1/CS20S013/Labels/Words/wg2.txt'\n",
        "pw15='/content/drive/MyDrive/SMT/Speech Technologies/Assignment 1/CS20S013/Labels/Words/wh1.txt'\n",
        "pw16='/content/drive/MyDrive/SMT/Speech Technologies/Assignment 1/CS20S013/Labels/Words/wh2.txt'\n",
        "pw17='/content/drive/MyDrive/SMT/Speech Technologies/Assignment 1/CS20S013/Labels/Words/wi1.txt'\n",
        "pw18='/content/drive/MyDrive/SMT/Speech Technologies/Assignment 1/CS20S013/Labels/Words/wi2.txt'\n",
        "pw19='/content/drive/MyDrive/SMT/Speech Technologies/Assignment 1/CS20S013/Labels/Words/wj1.txt'\n",
        "pw20='/content/drive/MyDrive/SMT/Speech Technologies/Assignment 1/CS20S013/Labels/Words/wj2.txt'"
      ],
      "metadata": {
        "id": "sPR0jCUnngne"
      },
      "execution_count": 25,
      "outputs": []
    },
    {
      "cell_type": "markdown",
      "source": [
        "Read txt files\n",
        "\n",
        "1.read Syllables"
      ],
      "metadata": {
        "id": "W7ug1iXspaQ_"
      }
    },
    {
      "cell_type": "code",
      "source": [
        "ds1=pd.read_csv(ps1, sep='\\t', names= ['start', 'end', 'syllables'])\n",
        "ds2=pd.read_csv(ps2, sep='\\t', names= ['start', 'end', 'syllables'])\n",
        "ds3=pd.read_csv(ps3, sep='\\t', names= ['start', 'end', 'syllables'])\n",
        "ds4=pd.read_csv(ps4, sep='\\t', names= ['start', 'end', 'syllables'])\n",
        "ds5=pd.read_csv(ps5, sep='\\t', names= ['start', 'end', 'syllables'])\n",
        "ds6=pd.read_csv(ps6, sep='\\t', names= ['start', 'end', 'syllables'])\n",
        "ds7=pd.read_csv(ps7, sep='\\t', names= ['start', 'end', 'syllables'])\n",
        "ds8=pd.read_csv(ps8, sep='\\t', names= ['start', 'end', 'syllables'])\n",
        "ds9=pd.read_csv(ps9, sep='\\t', names= ['start', 'end', 'syllables'])\n",
        "ds10=pd.read_csv(ps10, sep='\\t', names= ['start', 'end', 'syllables'])\n",
        "ds11=pd.read_csv(ps11, sep='\\t', names= ['start', 'end', 'syllables'])\n",
        "ds12=pd.read_csv(ps12, sep='\\t', names= ['start', 'end', 'syllables'])\n",
        "ds13=pd.read_csv(ps13, sep='\\t', names= ['start', 'end', 'syllables'])\n",
        "ds14=pd.read_csv(ps14, sep='\\t', names= ['start', 'end', 'syllables'])\n",
        "ds15=pd.read_csv(ps15, sep='\\t', names= ['start', 'end', 'syllables'])\n",
        "ds16=pd.read_csv(ps16, sep='\\t', names= ['start', 'end', 'syllables'])\n",
        "ds17=pd.read_csv(ps17, sep='\\t', names= ['start', 'end', 'syllables'])\n",
        "ds18=pd.read_csv(ps18, sep='\\t', names= ['start', 'end', 'syllables'])\n",
        "ds19=pd.read_csv(ps19, sep='\\t', names= ['start', 'end', 'syllables'])\n",
        "ds20=pd.read_csv(ps20, sep='\\t', names= ['start', 'end', 'syllables'])"
      ],
      "metadata": {
        "id": "a-45SWXjplIO"
      },
      "execution_count": 36,
      "outputs": []
    },
    {
      "cell_type": "markdown",
      "source": [
        "2.read Vowels\n"
      ],
      "metadata": {
        "id": "_AB31ikbI4se"
      }
    },
    {
      "cell_type": "code",
      "source": [
        "dv1=pd.read_csv(pv1, sep='\\t', names= ['start', 'end', 'vowels'])\n",
        "dv2=pd.read_csv(pv2, sep='\\t', names= ['start', 'end', 'vowels'])\n",
        "dv3=pd.read_csv(pv3, sep='\\t', names= ['start', 'end', 'vowels'])\n",
        "dv4=pd.read_csv(pv4, sep='\\t', names= ['start', 'end', 'vowels'])\n",
        "dv5=pd.read_csv(pv5, sep='\\t', names= ['start', 'end', 'vowels'])\n",
        "dv6=pd.read_csv(pv6, sep='\\t', names= ['start', 'end', 'vowels'])\n",
        "dv7=pd.read_csv(pv7, sep='\\t', names= ['start', 'end', 'vowels'])\n",
        "dv8=pd.read_csv(pv8, sep='\\t', names= ['start', 'end', 'vowels'])\n",
        "dv9=pd.read_csv(pv9, sep='\\t', names= ['start', 'end', 'vowels'])\n",
        "dv10=pd.read_csv(pv10, sep='\\t', names= ['start', 'end', 'vowels'])\n",
        "dv11=pd.read_csv(pv11, sep='\\t', names= ['start', 'end', 'vowels'])\n",
        "dv12=pd.read_csv(pv12, sep='\\t', names= ['start', 'end', 'vowels'])\n",
        "dv13=pd.read_csv(pv13, sep='\\t', names= ['start', 'end', 'vowels'])\n",
        "dv14=pd.read_csv(pv14, sep='\\t', names= ['start', 'end', 'vowels'])\n",
        "dv15=pd.read_csv(pv15, sep='\\t', names= ['start', 'end', 'vowels'])\n",
        "dv16=pd.read_csv(pv16, sep='\\t', names= ['start', 'end', 'vowels'])\n",
        "dv17=pd.read_csv(pv17, sep='\\t', names= ['start', 'end', 'vowels'])\n",
        "dv18=pd.read_csv(pv18, sep='\\t', names= ['start', 'end', 'vowels'])\n",
        "dv19=pd.read_csv(pv19, sep='\\t', names= ['start', 'end', 'vowels'])\n",
        "dv20=pd.read_csv(pv20, sep='\\t', names= ['start', 'end', 'vowels'])"
      ],
      "metadata": {
        "id": "q7wAAqWbI3q5"
      },
      "execution_count": 37,
      "outputs": []
    },
    {
      "cell_type": "markdown",
      "source": [
        "3. Read words"
      ],
      "metadata": {
        "id": "cs5Vi8OGKspX"
      }
    },
    {
      "cell_type": "code",
      "source": [
        "dw1=pd.read_csv(pw1, sep='\\t', names= ['start', 'end', 'words'])\n",
        "dw2=pd.read_csv(pw2, sep='\\t', names= ['start', 'end', 'words'])\n",
        "dw3=pd.read_csv(pw3, sep='\\t', names= ['start', 'end', 'words'])\n",
        "dw4=pd.read_csv(pw4, sep='\\t', names= ['start', 'end', 'words'])\n",
        "dw5=pd.read_csv(pw5, sep='\\t', names= ['start', 'end', 'words'])\n",
        "dw6=pd.read_csv(pw6, sep='\\t', names= ['start', 'end', 'words'])\n",
        "dw7=pd.read_csv(pw7, sep='\\t', names= ['start', 'end', 'words'])\n",
        "dw8=pd.read_csv(pw8, sep='\\t', names= ['start', 'end', 'words'])\n",
        "dw9=pd.read_csv(pw9, sep='\\t', names= ['start', 'end', 'words'])\n",
        "dw10=pd.read_csv(pw10, sep='\\t', names= ['start', 'end', 'words'])\n",
        "dw11=pd.read_csv(pw11, sep='\\t', names= ['start', 'end', 'words'])\n",
        "dw12=pd.read_csv(pw12, sep='\\t', names= ['start', 'end', 'words'])\n",
        "dw13=pd.read_csv(pw13, sep='\\t', names= ['start', 'end', 'words'])\n",
        "dw14=pd.read_csv(pw14, sep='\\t', names= ['start', 'end', 'words'])\n",
        "dw15=pd.read_csv(pw15, sep='\\t', names= ['start', 'end', 'words'])\n",
        "dw16=pd.read_csv(pw16, sep='\\t', names= ['start', 'end', 'words'])\n",
        "dw17=pd.read_csv(pw17, sep='\\t', names= ['start', 'end', 'words'])\n",
        "dw18=pd.read_csv(pw18, sep='\\t', names= ['start', 'end', 'words'])\n",
        "dw19=pd.read_csv(pw19, sep='\\t', names= ['start', 'end', 'words'])\n",
        "dw20=pd.read_csv(pw20, sep='\\t', names= ['start', 'end', 'words'])"
      ],
      "metadata": {
        "id": "o_HK0-r9Kriy"
      },
      "execution_count": 39,
      "outputs": []
    },
    {
      "cell_type": "code",
      "source": [
        "ds1"
      ],
      "metadata": {
        "colab": {
          "base_uri": "https://localhost:8080/",
          "height": 457
        },
        "id": "XnUxle6LqgaY",
        "outputId": "ff16eb4a-a7ff-4a65-9739-8406ae4020dd"
      },
      "execution_count": 12,
      "outputs": [
        {
          "output_type": "execute_result",
          "data": {
            "text/plain": [
              "       start       end syllables\n",
              "0   1.257231  1.549610       she\n",
              "1   1.549610  1.754276       had\n",
              "2   1.777666  2.087588      your\n",
              "3   2.087588  2.450138      dark\n",
              "4   2.450138  2.859469      suit\n",
              "5   2.917945  3.163544        in\n",
              "6   3.210324  3.438380       gri\n",
              "7   3.438380  3.625503       siy\n",
              "8   3.625503  3.988053      wash\n",
              "9   3.988053  4.251195        wa\n",
              "10  4.251195  4.473403       ter\n",
              "11  4.602050  4.835953       all\n",
              "12  4.900277  5.192656      year"
            ],
            "text/html": [
              "\n",
              "  <div id=\"df-d8f3166b-a24b-4451-9cef-9ca77f152f8f\">\n",
              "    <div class=\"colab-df-container\">\n",
              "      <div>\n",
              "<style scoped>\n",
              "    .dataframe tbody tr th:only-of-type {\n",
              "        vertical-align: middle;\n",
              "    }\n",
              "\n",
              "    .dataframe tbody tr th {\n",
              "        vertical-align: top;\n",
              "    }\n",
              "\n",
              "    .dataframe thead th {\n",
              "        text-align: right;\n",
              "    }\n",
              "</style>\n",
              "<table border=\"1\" class=\"dataframe\">\n",
              "  <thead>\n",
              "    <tr style=\"text-align: right;\">\n",
              "      <th></th>\n",
              "      <th>start</th>\n",
              "      <th>end</th>\n",
              "      <th>syllables</th>\n",
              "    </tr>\n",
              "  </thead>\n",
              "  <tbody>\n",
              "    <tr>\n",
              "      <th>0</th>\n",
              "      <td>1.257231</td>\n",
              "      <td>1.549610</td>\n",
              "      <td>she</td>\n",
              "    </tr>\n",
              "    <tr>\n",
              "      <th>1</th>\n",
              "      <td>1.549610</td>\n",
              "      <td>1.754276</td>\n",
              "      <td>had</td>\n",
              "    </tr>\n",
              "    <tr>\n",
              "      <th>2</th>\n",
              "      <td>1.777666</td>\n",
              "      <td>2.087588</td>\n",
              "      <td>your</td>\n",
              "    </tr>\n",
              "    <tr>\n",
              "      <th>3</th>\n",
              "      <td>2.087588</td>\n",
              "      <td>2.450138</td>\n",
              "      <td>dark</td>\n",
              "    </tr>\n",
              "    <tr>\n",
              "      <th>4</th>\n",
              "      <td>2.450138</td>\n",
              "      <td>2.859469</td>\n",
              "      <td>suit</td>\n",
              "    </tr>\n",
              "    <tr>\n",
              "      <th>5</th>\n",
              "      <td>2.917945</td>\n",
              "      <td>3.163544</td>\n",
              "      <td>in</td>\n",
              "    </tr>\n",
              "    <tr>\n",
              "      <th>6</th>\n",
              "      <td>3.210324</td>\n",
              "      <td>3.438380</td>\n",
              "      <td>gri</td>\n",
              "    </tr>\n",
              "    <tr>\n",
              "      <th>7</th>\n",
              "      <td>3.438380</td>\n",
              "      <td>3.625503</td>\n",
              "      <td>siy</td>\n",
              "    </tr>\n",
              "    <tr>\n",
              "      <th>8</th>\n",
              "      <td>3.625503</td>\n",
              "      <td>3.988053</td>\n",
              "      <td>wash</td>\n",
              "    </tr>\n",
              "    <tr>\n",
              "      <th>9</th>\n",
              "      <td>3.988053</td>\n",
              "      <td>4.251195</td>\n",
              "      <td>wa</td>\n",
              "    </tr>\n",
              "    <tr>\n",
              "      <th>10</th>\n",
              "      <td>4.251195</td>\n",
              "      <td>4.473403</td>\n",
              "      <td>ter</td>\n",
              "    </tr>\n",
              "    <tr>\n",
              "      <th>11</th>\n",
              "      <td>4.602050</td>\n",
              "      <td>4.835953</td>\n",
              "      <td>all</td>\n",
              "    </tr>\n",
              "    <tr>\n",
              "      <th>12</th>\n",
              "      <td>4.900277</td>\n",
              "      <td>5.192656</td>\n",
              "      <td>year</td>\n",
              "    </tr>\n",
              "  </tbody>\n",
              "</table>\n",
              "</div>\n",
              "      <button class=\"colab-df-convert\" onclick=\"convertToInteractive('df-d8f3166b-a24b-4451-9cef-9ca77f152f8f')\"\n",
              "              title=\"Convert this dataframe to an interactive table.\"\n",
              "              style=\"display:none;\">\n",
              "        \n",
              "  <svg xmlns=\"http://www.w3.org/2000/svg\" height=\"24px\"viewBox=\"0 0 24 24\"\n",
              "       width=\"24px\">\n",
              "    <path d=\"M0 0h24v24H0V0z\" fill=\"none\"/>\n",
              "    <path d=\"M18.56 5.44l.94 2.06.94-2.06 2.06-.94-2.06-.94-.94-2.06-.94 2.06-2.06.94zm-11 1L8.5 8.5l.94-2.06 2.06-.94-2.06-.94L8.5 2.5l-.94 2.06-2.06.94zm10 10l.94 2.06.94-2.06 2.06-.94-2.06-.94-.94-2.06-.94 2.06-2.06.94z\"/><path d=\"M17.41 7.96l-1.37-1.37c-.4-.4-.92-.59-1.43-.59-.52 0-1.04.2-1.43.59L10.3 9.45l-7.72 7.72c-.78.78-.78 2.05 0 2.83L4 21.41c.39.39.9.59 1.41.59.51 0 1.02-.2 1.41-.59l7.78-7.78 2.81-2.81c.8-.78.8-2.07 0-2.86zM5.41 20L4 18.59l7.72-7.72 1.47 1.35L5.41 20z\"/>\n",
              "  </svg>\n",
              "      </button>\n",
              "      \n",
              "  <style>\n",
              "    .colab-df-container {\n",
              "      display:flex;\n",
              "      flex-wrap:wrap;\n",
              "      gap: 12px;\n",
              "    }\n",
              "\n",
              "    .colab-df-convert {\n",
              "      background-color: #E8F0FE;\n",
              "      border: none;\n",
              "      border-radius: 50%;\n",
              "      cursor: pointer;\n",
              "      display: none;\n",
              "      fill: #1967D2;\n",
              "      height: 32px;\n",
              "      padding: 0 0 0 0;\n",
              "      width: 32px;\n",
              "    }\n",
              "\n",
              "    .colab-df-convert:hover {\n",
              "      background-color: #E2EBFA;\n",
              "      box-shadow: 0px 1px 2px rgba(60, 64, 67, 0.3), 0px 1px 3px 1px rgba(60, 64, 67, 0.15);\n",
              "      fill: #174EA6;\n",
              "    }\n",
              "\n",
              "    [theme=dark] .colab-df-convert {\n",
              "      background-color: #3B4455;\n",
              "      fill: #D2E3FC;\n",
              "    }\n",
              "\n",
              "    [theme=dark] .colab-df-convert:hover {\n",
              "      background-color: #434B5C;\n",
              "      box-shadow: 0px 1px 3px 1px rgba(0, 0, 0, 0.15);\n",
              "      filter: drop-shadow(0px 1px 2px rgba(0, 0, 0, 0.3));\n",
              "      fill: #FFFFFF;\n",
              "    }\n",
              "  </style>\n",
              "\n",
              "      <script>\n",
              "        const buttonEl =\n",
              "          document.querySelector('#df-d8f3166b-a24b-4451-9cef-9ca77f152f8f button.colab-df-convert');\n",
              "        buttonEl.style.display =\n",
              "          google.colab.kernel.accessAllowed ? 'block' : 'none';\n",
              "\n",
              "        async function convertToInteractive(key) {\n",
              "          const element = document.querySelector('#df-d8f3166b-a24b-4451-9cef-9ca77f152f8f');\n",
              "          const dataTable =\n",
              "            await google.colab.kernel.invokeFunction('convertToInteractive',\n",
              "                                                     [key], {});\n",
              "          if (!dataTable) return;\n",
              "\n",
              "          const docLinkHtml = 'Like what you see? Visit the ' +\n",
              "            '<a target=\"_blank\" href=https://colab.research.google.com/notebooks/data_table.ipynb>data table notebook</a>'\n",
              "            + ' to learn more about interactive tables.';\n",
              "          element.innerHTML = '';\n",
              "          dataTable['output_type'] = 'display_data';\n",
              "          await google.colab.output.renderOutput(dataTable, element);\n",
              "          const docLink = document.createElement('div');\n",
              "          docLink.innerHTML = docLinkHtml;\n",
              "          element.appendChild(docLink);\n",
              "        }\n",
              "      </script>\n",
              "    </div>\n",
              "  </div>\n",
              "  "
            ]
          },
          "metadata": {},
          "execution_count": 12
        }
      ]
    },
    {
      "cell_type": "markdown",
      "source": [
        "## Duration Histogram for each vowel"
      ],
      "metadata": {
        "id": "GoYxgdxyMNpx"
      }
    },
    {
      "cell_type": "code",
      "source": [
        "dvf=[dv1,dv2,dv3,dv4,dv5,dv6,dv7,dv8,dv9,dv10,dv11,dv12,dv13,dv14,dv15,dv16,dv17,dv18,dv19,dv20]\n",
        "voweldf=pd.concat(dvf)\n",
        "voweldf"
      ],
      "metadata": {
        "colab": {
          "base_uri": "https://localhost:8080/",
          "height": 424
        },
        "id": "fuRE4U55NAcN",
        "outputId": "fbb2c1c8-65b4-4549-9aef-e066fb0b853b"
      },
      "execution_count": 42,
      "outputs": [
        {
          "output_type": "execute_result",
          "data": {
            "text/plain": [
              "       start       end vowels\n",
              "0   0.322043  0.482627    /i/\n",
              "1   0.741141  0.891133    /a/\n",
              "2   1.724916  1.826382    /a/\n",
              "3   2.726327  2.876331    /i/\n",
              "4   3.335132  3.493948    /i/\n",
              "..       ...       ...    ...\n",
              "1   0.309677  0.415496    /i/\n",
              "2   0.961652  0.995623    /i/\n",
              "3   1.131509  1.178546    /u/\n",
              "4   1.270008  1.332724    /a/\n",
              "5   1.527406  1.625401    /o/\n",
              "\n",
              "[177 rows x 3 columns]"
            ],
            "text/html": [
              "\n",
              "  <div id=\"df-d960b390-0c40-4d43-a424-ee8691ed6362\">\n",
              "    <div class=\"colab-df-container\">\n",
              "      <div>\n",
              "<style scoped>\n",
              "    .dataframe tbody tr th:only-of-type {\n",
              "        vertical-align: middle;\n",
              "    }\n",
              "\n",
              "    .dataframe tbody tr th {\n",
              "        vertical-align: top;\n",
              "    }\n",
              "\n",
              "    .dataframe thead th {\n",
              "        text-align: right;\n",
              "    }\n",
              "</style>\n",
              "<table border=\"1\" class=\"dataframe\">\n",
              "  <thead>\n",
              "    <tr style=\"text-align: right;\">\n",
              "      <th></th>\n",
              "      <th>start</th>\n",
              "      <th>end</th>\n",
              "      <th>vowels</th>\n",
              "    </tr>\n",
              "  </thead>\n",
              "  <tbody>\n",
              "    <tr>\n",
              "      <th>0</th>\n",
              "      <td>0.322043</td>\n",
              "      <td>0.482627</td>\n",
              "      <td>/i/</td>\n",
              "    </tr>\n",
              "    <tr>\n",
              "      <th>1</th>\n",
              "      <td>0.741141</td>\n",
              "      <td>0.891133</td>\n",
              "      <td>/a/</td>\n",
              "    </tr>\n",
              "    <tr>\n",
              "      <th>2</th>\n",
              "      <td>1.724916</td>\n",
              "      <td>1.826382</td>\n",
              "      <td>/a/</td>\n",
              "    </tr>\n",
              "    <tr>\n",
              "      <th>3</th>\n",
              "      <td>2.726327</td>\n",
              "      <td>2.876331</td>\n",
              "      <td>/i/</td>\n",
              "    </tr>\n",
              "    <tr>\n",
              "      <th>4</th>\n",
              "      <td>3.335132</td>\n",
              "      <td>3.493948</td>\n",
              "      <td>/i/</td>\n",
              "    </tr>\n",
              "    <tr>\n",
              "      <th>...</th>\n",
              "      <td>...</td>\n",
              "      <td>...</td>\n",
              "      <td>...</td>\n",
              "    </tr>\n",
              "    <tr>\n",
              "      <th>1</th>\n",
              "      <td>0.309677</td>\n",
              "      <td>0.415496</td>\n",
              "      <td>/i/</td>\n",
              "    </tr>\n",
              "    <tr>\n",
              "      <th>2</th>\n",
              "      <td>0.961652</td>\n",
              "      <td>0.995623</td>\n",
              "      <td>/i/</td>\n",
              "    </tr>\n",
              "    <tr>\n",
              "      <th>3</th>\n",
              "      <td>1.131509</td>\n",
              "      <td>1.178546</td>\n",
              "      <td>/u/</td>\n",
              "    </tr>\n",
              "    <tr>\n",
              "      <th>4</th>\n",
              "      <td>1.270008</td>\n",
              "      <td>1.332724</td>\n",
              "      <td>/a/</td>\n",
              "    </tr>\n",
              "    <tr>\n",
              "      <th>5</th>\n",
              "      <td>1.527406</td>\n",
              "      <td>1.625401</td>\n",
              "      <td>/o/</td>\n",
              "    </tr>\n",
              "  </tbody>\n",
              "</table>\n",
              "<p>177 rows × 3 columns</p>\n",
              "</div>\n",
              "      <button class=\"colab-df-convert\" onclick=\"convertToInteractive('df-d960b390-0c40-4d43-a424-ee8691ed6362')\"\n",
              "              title=\"Convert this dataframe to an interactive table.\"\n",
              "              style=\"display:none;\">\n",
              "        \n",
              "  <svg xmlns=\"http://www.w3.org/2000/svg\" height=\"24px\"viewBox=\"0 0 24 24\"\n",
              "       width=\"24px\">\n",
              "    <path d=\"M0 0h24v24H0V0z\" fill=\"none\"/>\n",
              "    <path d=\"M18.56 5.44l.94 2.06.94-2.06 2.06-.94-2.06-.94-.94-2.06-.94 2.06-2.06.94zm-11 1L8.5 8.5l.94-2.06 2.06-.94-2.06-.94L8.5 2.5l-.94 2.06-2.06.94zm10 10l.94 2.06.94-2.06 2.06-.94-2.06-.94-.94-2.06-.94 2.06-2.06.94z\"/><path d=\"M17.41 7.96l-1.37-1.37c-.4-.4-.92-.59-1.43-.59-.52 0-1.04.2-1.43.59L10.3 9.45l-7.72 7.72c-.78.78-.78 2.05 0 2.83L4 21.41c.39.39.9.59 1.41.59.51 0 1.02-.2 1.41-.59l7.78-7.78 2.81-2.81c.8-.78.8-2.07 0-2.86zM5.41 20L4 18.59l7.72-7.72 1.47 1.35L5.41 20z\"/>\n",
              "  </svg>\n",
              "      </button>\n",
              "      \n",
              "  <style>\n",
              "    .colab-df-container {\n",
              "      display:flex;\n",
              "      flex-wrap:wrap;\n",
              "      gap: 12px;\n",
              "    }\n",
              "\n",
              "    .colab-df-convert {\n",
              "      background-color: #E8F0FE;\n",
              "      border: none;\n",
              "      border-radius: 50%;\n",
              "      cursor: pointer;\n",
              "      display: none;\n",
              "      fill: #1967D2;\n",
              "      height: 32px;\n",
              "      padding: 0 0 0 0;\n",
              "      width: 32px;\n",
              "    }\n",
              "\n",
              "    .colab-df-convert:hover {\n",
              "      background-color: #E2EBFA;\n",
              "      box-shadow: 0px 1px 2px rgba(60, 64, 67, 0.3), 0px 1px 3px 1px rgba(60, 64, 67, 0.15);\n",
              "      fill: #174EA6;\n",
              "    }\n",
              "\n",
              "    [theme=dark] .colab-df-convert {\n",
              "      background-color: #3B4455;\n",
              "      fill: #D2E3FC;\n",
              "    }\n",
              "\n",
              "    [theme=dark] .colab-df-convert:hover {\n",
              "      background-color: #434B5C;\n",
              "      box-shadow: 0px 1px 3px 1px rgba(0, 0, 0, 0.15);\n",
              "      filter: drop-shadow(0px 1px 2px rgba(0, 0, 0, 0.3));\n",
              "      fill: #FFFFFF;\n",
              "    }\n",
              "  </style>\n",
              "\n",
              "      <script>\n",
              "        const buttonEl =\n",
              "          document.querySelector('#df-d960b390-0c40-4d43-a424-ee8691ed6362 button.colab-df-convert');\n",
              "        buttonEl.style.display =\n",
              "          google.colab.kernel.accessAllowed ? 'block' : 'none';\n",
              "\n",
              "        async function convertToInteractive(key) {\n",
              "          const element = document.querySelector('#df-d960b390-0c40-4d43-a424-ee8691ed6362');\n",
              "          const dataTable =\n",
              "            await google.colab.kernel.invokeFunction('convertToInteractive',\n",
              "                                                     [key], {});\n",
              "          if (!dataTable) return;\n",
              "\n",
              "          const docLinkHtml = 'Like what you see? Visit the ' +\n",
              "            '<a target=\"_blank\" href=https://colab.research.google.com/notebooks/data_table.ipynb>data table notebook</a>'\n",
              "            + ' to learn more about interactive tables.';\n",
              "          element.innerHTML = '';\n",
              "          dataTable['output_type'] = 'display_data';\n",
              "          await google.colab.output.renderOutput(dataTable, element);\n",
              "          const docLink = document.createElement('div');\n",
              "          docLink.innerHTML = docLinkHtml;\n",
              "          element.appendChild(docLink);\n",
              "        }\n",
              "      </script>\n",
              "    </div>\n",
              "  </div>\n",
              "  "
            ]
          },
          "metadata": {},
          "execution_count": 42
        }
      ]
    },
    {
      "cell_type": "code",
      "source": [
        "voweldf['duration'] = voweldf.apply(lambda x: x['end'] - x['start'], axis=1)\n",
        "voweldf"
      ],
      "metadata": {
        "colab": {
          "base_uri": "https://localhost:8080/",
          "height": 424
        },
        "id": "aWPrBj4tNAm0",
        "outputId": "0a727b12-223e-45f6-d940-842c351b5f35"
      },
      "execution_count": 43,
      "outputs": [
        {
          "output_type": "execute_result",
          "data": {
            "text/plain": [
              "       start       end vowels  duration\n",
              "0   0.322043  0.482627    /i/  0.160584\n",
              "1   0.741141  0.891133    /a/  0.149992\n",
              "2   1.724916  1.826382    /a/  0.101466\n",
              "3   2.726327  2.876331    /i/  0.150004\n",
              "4   3.335132  3.493948    /i/  0.158816\n",
              "..       ...       ...    ...       ...\n",
              "1   0.309677  0.415496    /i/  0.105819\n",
              "2   0.961652  0.995623    /i/  0.033971\n",
              "3   1.131509  1.178546    /u/  0.047037\n",
              "4   1.270008  1.332724    /a/  0.062716\n",
              "5   1.527406  1.625401    /o/  0.097995\n",
              "\n",
              "[177 rows x 4 columns]"
            ],
            "text/html": [
              "\n",
              "  <div id=\"df-12fc027d-ad80-48a6-bad4-cb0d3d8d381a\">\n",
              "    <div class=\"colab-df-container\">\n",
              "      <div>\n",
              "<style scoped>\n",
              "    .dataframe tbody tr th:only-of-type {\n",
              "        vertical-align: middle;\n",
              "    }\n",
              "\n",
              "    .dataframe tbody tr th {\n",
              "        vertical-align: top;\n",
              "    }\n",
              "\n",
              "    .dataframe thead th {\n",
              "        text-align: right;\n",
              "    }\n",
              "</style>\n",
              "<table border=\"1\" class=\"dataframe\">\n",
              "  <thead>\n",
              "    <tr style=\"text-align: right;\">\n",
              "      <th></th>\n",
              "      <th>start</th>\n",
              "      <th>end</th>\n",
              "      <th>vowels</th>\n",
              "      <th>duration</th>\n",
              "    </tr>\n",
              "  </thead>\n",
              "  <tbody>\n",
              "    <tr>\n",
              "      <th>0</th>\n",
              "      <td>0.322043</td>\n",
              "      <td>0.482627</td>\n",
              "      <td>/i/</td>\n",
              "      <td>0.160584</td>\n",
              "    </tr>\n",
              "    <tr>\n",
              "      <th>1</th>\n",
              "      <td>0.741141</td>\n",
              "      <td>0.891133</td>\n",
              "      <td>/a/</td>\n",
              "      <td>0.149992</td>\n",
              "    </tr>\n",
              "    <tr>\n",
              "      <th>2</th>\n",
              "      <td>1.724916</td>\n",
              "      <td>1.826382</td>\n",
              "      <td>/a/</td>\n",
              "      <td>0.101466</td>\n",
              "    </tr>\n",
              "    <tr>\n",
              "      <th>3</th>\n",
              "      <td>2.726327</td>\n",
              "      <td>2.876331</td>\n",
              "      <td>/i/</td>\n",
              "      <td>0.150004</td>\n",
              "    </tr>\n",
              "    <tr>\n",
              "      <th>4</th>\n",
              "      <td>3.335132</td>\n",
              "      <td>3.493948</td>\n",
              "      <td>/i/</td>\n",
              "      <td>0.158816</td>\n",
              "    </tr>\n",
              "    <tr>\n",
              "      <th>...</th>\n",
              "      <td>...</td>\n",
              "      <td>...</td>\n",
              "      <td>...</td>\n",
              "      <td>...</td>\n",
              "    </tr>\n",
              "    <tr>\n",
              "      <th>1</th>\n",
              "      <td>0.309677</td>\n",
              "      <td>0.415496</td>\n",
              "      <td>/i/</td>\n",
              "      <td>0.105819</td>\n",
              "    </tr>\n",
              "    <tr>\n",
              "      <th>2</th>\n",
              "      <td>0.961652</td>\n",
              "      <td>0.995623</td>\n",
              "      <td>/i/</td>\n",
              "      <td>0.033971</td>\n",
              "    </tr>\n",
              "    <tr>\n",
              "      <th>3</th>\n",
              "      <td>1.131509</td>\n",
              "      <td>1.178546</td>\n",
              "      <td>/u/</td>\n",
              "      <td>0.047037</td>\n",
              "    </tr>\n",
              "    <tr>\n",
              "      <th>4</th>\n",
              "      <td>1.270008</td>\n",
              "      <td>1.332724</td>\n",
              "      <td>/a/</td>\n",
              "      <td>0.062716</td>\n",
              "    </tr>\n",
              "    <tr>\n",
              "      <th>5</th>\n",
              "      <td>1.527406</td>\n",
              "      <td>1.625401</td>\n",
              "      <td>/o/</td>\n",
              "      <td>0.097995</td>\n",
              "    </tr>\n",
              "  </tbody>\n",
              "</table>\n",
              "<p>177 rows × 4 columns</p>\n",
              "</div>\n",
              "      <button class=\"colab-df-convert\" onclick=\"convertToInteractive('df-12fc027d-ad80-48a6-bad4-cb0d3d8d381a')\"\n",
              "              title=\"Convert this dataframe to an interactive table.\"\n",
              "              style=\"display:none;\">\n",
              "        \n",
              "  <svg xmlns=\"http://www.w3.org/2000/svg\" height=\"24px\"viewBox=\"0 0 24 24\"\n",
              "       width=\"24px\">\n",
              "    <path d=\"M0 0h24v24H0V0z\" fill=\"none\"/>\n",
              "    <path d=\"M18.56 5.44l.94 2.06.94-2.06 2.06-.94-2.06-.94-.94-2.06-.94 2.06-2.06.94zm-11 1L8.5 8.5l.94-2.06 2.06-.94-2.06-.94L8.5 2.5l-.94 2.06-2.06.94zm10 10l.94 2.06.94-2.06 2.06-.94-2.06-.94-.94-2.06-.94 2.06-2.06.94z\"/><path d=\"M17.41 7.96l-1.37-1.37c-.4-.4-.92-.59-1.43-.59-.52 0-1.04.2-1.43.59L10.3 9.45l-7.72 7.72c-.78.78-.78 2.05 0 2.83L4 21.41c.39.39.9.59 1.41.59.51 0 1.02-.2 1.41-.59l7.78-7.78 2.81-2.81c.8-.78.8-2.07 0-2.86zM5.41 20L4 18.59l7.72-7.72 1.47 1.35L5.41 20z\"/>\n",
              "  </svg>\n",
              "      </button>\n",
              "      \n",
              "  <style>\n",
              "    .colab-df-container {\n",
              "      display:flex;\n",
              "      flex-wrap:wrap;\n",
              "      gap: 12px;\n",
              "    }\n",
              "\n",
              "    .colab-df-convert {\n",
              "      background-color: #E8F0FE;\n",
              "      border: none;\n",
              "      border-radius: 50%;\n",
              "      cursor: pointer;\n",
              "      display: none;\n",
              "      fill: #1967D2;\n",
              "      height: 32px;\n",
              "      padding: 0 0 0 0;\n",
              "      width: 32px;\n",
              "    }\n",
              "\n",
              "    .colab-df-convert:hover {\n",
              "      background-color: #E2EBFA;\n",
              "      box-shadow: 0px 1px 2px rgba(60, 64, 67, 0.3), 0px 1px 3px 1px rgba(60, 64, 67, 0.15);\n",
              "      fill: #174EA6;\n",
              "    }\n",
              "\n",
              "    [theme=dark] .colab-df-convert {\n",
              "      background-color: #3B4455;\n",
              "      fill: #D2E3FC;\n",
              "    }\n",
              "\n",
              "    [theme=dark] .colab-df-convert:hover {\n",
              "      background-color: #434B5C;\n",
              "      box-shadow: 0px 1px 3px 1px rgba(0, 0, 0, 0.15);\n",
              "      filter: drop-shadow(0px 1px 2px rgba(0, 0, 0, 0.3));\n",
              "      fill: #FFFFFF;\n",
              "    }\n",
              "  </style>\n",
              "\n",
              "      <script>\n",
              "        const buttonEl =\n",
              "          document.querySelector('#df-12fc027d-ad80-48a6-bad4-cb0d3d8d381a button.colab-df-convert');\n",
              "        buttonEl.style.display =\n",
              "          google.colab.kernel.accessAllowed ? 'block' : 'none';\n",
              "\n",
              "        async function convertToInteractive(key) {\n",
              "          const element = document.querySelector('#df-12fc027d-ad80-48a6-bad4-cb0d3d8d381a');\n",
              "          const dataTable =\n",
              "            await google.colab.kernel.invokeFunction('convertToInteractive',\n",
              "                                                     [key], {});\n",
              "          if (!dataTable) return;\n",
              "\n",
              "          const docLinkHtml = 'Like what you see? Visit the ' +\n",
              "            '<a target=\"_blank\" href=https://colab.research.google.com/notebooks/data_table.ipynb>data table notebook</a>'\n",
              "            + ' to learn more about interactive tables.';\n",
              "          element.innerHTML = '';\n",
              "          dataTable['output_type'] = 'display_data';\n",
              "          await google.colab.output.renderOutput(dataTable, element);\n",
              "          const docLink = document.createElement('div');\n",
              "          docLink.innerHTML = docLinkHtml;\n",
              "          element.appendChild(docLink);\n",
              "        }\n",
              "      </script>\n",
              "    </div>\n",
              "  </div>\n",
              "  "
            ]
          },
          "metadata": {},
          "execution_count": 43
        }
      ]
    },
    {
      "cell_type": "code",
      "source": [
        "voweldf['vowels'].unique()"
      ],
      "metadata": {
        "colab": {
          "base_uri": "https://localhost:8080/"
        },
        "id": "sd07qFfhNAuN",
        "outputId": "c1bc8709-a140-48fd-9419-08b88573037b"
      },
      "execution_count": 45,
      "outputs": [
        {
          "output_type": "execute_result",
          "data": {
            "text/plain": [
              "array(['/i/', '/a/', '/o/', '/u/', '/e/'], dtype=object)"
            ]
          },
          "metadata": {},
          "execution_count": 45
        }
      ]
    },
    {
      "cell_type": "markdown",
      "source": [
        "vowel_a = voweldf[voweldf[vowels]=='/a/')]"
      ],
      "metadata": {
        "id": "E1GQKTwiRPb9"
      }
    },
    {
      "cell_type": "code",
      "source": [
        "vowel_a = voweldf[voweldf['vowels']=='/a/']\n"
      ],
      "metadata": {
        "id": "aFiqjF3ONAzG"
      },
      "execution_count": 53,
      "outputs": []
    },
    {
      "cell_type": "code",
      "source": [
        "bins_width= (vowel_a['duration'].max()-vowel_a['duration'].min())/6\n",
        "bins_a"
      ],
      "metadata": {
        "colab": {
          "base_uri": "https://localhost:8080/"
        },
        "id": "1HaQCINwTevC",
        "outputId": "e91c28d4-8055-467a-c22d-3576f0d2b250"
      },
      "execution_count": 59,
      "outputs": [
        {
          "output_type": "execute_result",
          "data": {
            "text/plain": [
              "0.040712333333333274"
            ]
          },
          "metadata": {},
          "execution_count": 59
        }
      ]
    },
    {
      "cell_type": "code",
      "source": [
        "plt.hist(vowel_a['duration'], bins=6)\n",
        "plt.title('Duration Histogram for /a/')"
      ],
      "metadata": {
        "colab": {
          "base_uri": "https://localhost:8080/",
          "height": 298
        },
        "id": "JBhuU2l4UMh0",
        "outputId": "9188f857-035f-417b-a15c-7dae768a1f95"
      },
      "execution_count": 61,
      "outputs": [
        {
          "output_type": "execute_result",
          "data": {
            "text/plain": [
              "Text(0.5, 1.0, 'Duration Histogram for /a/')"
            ]
          },
          "metadata": {},
          "execution_count": 61
        },
        {
          "output_type": "display_data",
          "data": {
            "text/plain": [
              "<Figure size 432x288 with 1 Axes>"
            ],
            "image/png": "[encoded data removed]"
          },
          "metadata": {
            "needs_background": "light"
          }
        }
      ]
    },
    {
      "cell_type": "code",
      "source": [
        "vowel_e = voweldf[voweldf['vowels']=='/e/']\n",
        "plt.hist(vowel_e['duration'], bins=6)\n",
        "plt.title('Duration Histogram for /e/')"
      ],
      "metadata": {
        "colab": {
          "base_uri": "https://localhost:8080/",
          "height": 298
        },
        "id": "mDrmhNudNA2p",
        "outputId": "31362f6f-733f-4b2a-c98d-cde2176ecbb4"
      },
      "execution_count": 62,
      "outputs": [
        {
          "output_type": "execute_result",
          "data": {
            "text/plain": [
              "Text(0.5, 1.0, 'Duration Histogram for /e/')"
            ]
          },
          "metadata": {},
          "execution_count": 62
        },
        {
          "output_type": "display_data",
          "data": {
            "text/plain": [
              "<Figure size 432x288 with 1 Axes>"
            ],
            "image/png": "[encoded data removed]"
          },
          "metadata": {
            "needs_background": "light"
          }
        }
      ]
    },
    {
      "cell_type": "code",
      "source": [
        "vowel_i = voweldf[voweldf['vowels']=='/i/']\n",
        "plt.hist(vowel_i['duration'], bins=6)\n",
        "plt.title('Duration Histogram for /i/')"
      ],
      "metadata": {
        "colab": {
          "base_uri": "https://localhost:8080/",
          "height": 298
        },
        "id": "SpVny8elNA5S",
        "outputId": "73997f1f-18b9-4a94-e068-f95d65bbcf47"
      },
      "execution_count": 63,
      "outputs": [
        {
          "output_type": "execute_result",
          "data": {
            "text/plain": [
              "Text(0.5, 1.0, 'Duration Histogram for /i/')"
            ]
          },
          "metadata": {},
          "execution_count": 63
        },
        {
          "output_type": "display_data",
          "data": {
            "text/plain": [
              "<Figure size 432x288 with 1 Axes>"
            ],
            "image/png": "[encoded data removed]"
          },
          "metadata": {
            "needs_background": "light"
          }
        }
      ]
    },
    {
      "cell_type": "code",
      "source": [
        "vowel_o = voweldf[voweldf['vowels']=='/o/']\n",
        "plt.hist(vowel_o['duration'], bins=6)\n",
        "plt.title('Duration Histogram for /o/')"
      ],
      "metadata": {
        "colab": {
          "base_uri": "https://localhost:8080/",
          "height": 298
        },
        "id": "6VXKPCd-NA7q",
        "outputId": "763e0558-b1f4-4cd7-d382-e0dea8aef7bc"
      },
      "execution_count": 64,
      "outputs": [
        {
          "output_type": "execute_result",
          "data": {
            "text/plain": [
              "Text(0.5, 1.0, 'Duration Histogram for /o/')"
            ]
          },
          "metadata": {},
          "execution_count": 64
        },
        {
          "output_type": "display_data",
          "data": {
            "text/plain": [
              "<Figure size 432x288 with 1 Axes>"
            ],
            "image/png": "[encoded data removed]"
          },
          "metadata": {
            "needs_background": "light"
          }
        }
      ]
    },
    {
      "cell_type": "code",
      "source": [
        "vowel_u = voweldf[voweldf['vowels']=='/u/']\n",
        "plt.hist(vowel_u['duration'], bins=6)\n",
        "plt.title('Duration Histogram for /u/')"
      ],
      "metadata": {
        "colab": {
          "base_uri": "https://localhost:8080/",
          "height": 298
        },
        "id": "0Vlf6hKDNA_B",
        "outputId": "ee97e939-3a16-4598-88f0-6c83a6453802"
      },
      "execution_count": 65,
      "outputs": [
        {
          "output_type": "execute_result",
          "data": {
            "text/plain": [
              "Text(0.5, 1.0, 'Duration Histogram for /u/')"
            ]
          },
          "metadata": {},
          "execution_count": 65
        },
        {
          "output_type": "display_data",
          "data": {
            "text/plain": [
              "<Figure size 432x288 with 1 Axes>"
            ],
            "image/png": "[encoded data removed]"
          },
          "metadata": {
            "needs_background": "light"
          }
        }
      ]
    },
    {
      "cell_type": "markdown",
      "source": [
        "## Duration Histogram for syallbles"
      ],
      "metadata": {
        "id": "mz27IEk8xu9b"
      }
    },
    {
      "cell_type": "code",
      "source": [
        "dsf=[ds1,ds2,ds3,ds4,ds5,ds6,ds7,ds8,ds9,ds10,ds11,ds12,ds13,ds14,ds15,ds16,ds17,ds18,ds19,ds20]\n",
        "syllable_df=pd.concat(dsf)\n",
        "syllable_df['duration'] = syllable_df.apply(lambda x: x['end'] - x['start'], axis=1)\n",
        "syllable_df.head()"
      ],
      "metadata": {
        "colab": {
          "base_uri": "https://localhost:8080/",
          "height": 206
        },
        "id": "sHRHwZxpagnp",
        "outputId": "31846fb9-ddb8-40d2-d76c-aea610615984"
      },
      "execution_count": 68,
      "outputs": [
        {
          "output_type": "execute_result",
          "data": {
            "text/plain": [
              "      start       end syllables  duration\n",
              "0  1.257231  1.549610       she  0.292379\n",
              "1  1.549610  1.754276       had  0.204666\n",
              "2  1.777666  2.087588      your  0.309922\n",
              "3  2.087588  2.450138      dark  0.362550\n",
              "4  2.450138  2.859469      suit  0.409331"
            ],
            "text/html": [
              "\n",
              "  <div id=\"df-d0be1998-6205-4d5e-8c0e-2c4a90388f5b\">\n",
              "    <div class=\"colab-df-container\">\n",
              "      <div>\n",
              "<style scoped>\n",
              "    .dataframe tbody tr th:only-of-type {\n",
              "        vertical-align: middle;\n",
              "    }\n",
              "\n",
              "    .dataframe tbody tr th {\n",
              "        vertical-align: top;\n",
              "    }\n",
              "\n",
              "    .dataframe thead th {\n",
              "        text-align: right;\n",
              "    }\n",
              "</style>\n",
              "<table border=\"1\" class=\"dataframe\">\n",
              "  <thead>\n",
              "    <tr style=\"text-align: right;\">\n",
              "      <th></th>\n",
              "      <th>start</th>\n",
              "      <th>end</th>\n",
              "      <th>syllables</th>\n",
              "      <th>duration</th>\n",
              "    </tr>\n",
              "  </thead>\n",
              "  <tbody>\n",
              "    <tr>\n",
              "      <th>0</th>\n",
              "      <td>1.257231</td>\n",
              "      <td>1.549610</td>\n",
              "      <td>she</td>\n",
              "      <td>0.292379</td>\n",
              "    </tr>\n",
              "    <tr>\n",
              "      <th>1</th>\n",
              "      <td>1.549610</td>\n",
              "      <td>1.754276</td>\n",
              "      <td>had</td>\n",
              "      <td>0.204666</td>\n",
              "    </tr>\n",
              "    <tr>\n",
              "      <th>2</th>\n",
              "      <td>1.777666</td>\n",
              "      <td>2.087588</td>\n",
              "      <td>your</td>\n",
              "      <td>0.309922</td>\n",
              "    </tr>\n",
              "    <tr>\n",
              "      <th>3</th>\n",
              "      <td>2.087588</td>\n",
              "      <td>2.450138</td>\n",
              "      <td>dark</td>\n",
              "      <td>0.362550</td>\n",
              "    </tr>\n",
              "    <tr>\n",
              "      <th>4</th>\n",
              "      <td>2.450138</td>\n",
              "      <td>2.859469</td>\n",
              "      <td>suit</td>\n",
              "      <td>0.409331</td>\n",
              "    </tr>\n",
              "  </tbody>\n",
              "</table>\n",
              "</div>\n",
              "      <button class=\"colab-df-convert\" onclick=\"convertToInteractive('df-d0be1998-6205-4d5e-8c0e-2c4a90388f5b')\"\n",
              "              title=\"Convert this dataframe to an interactive table.\"\n",
              "              style=\"display:none;\">\n",
              "        \n",
              "  <svg xmlns=\"http://www.w3.org/2000/svg\" height=\"24px\"viewBox=\"0 0 24 24\"\n",
              "       width=\"24px\">\n",
              "    <path d=\"M0 0h24v24H0V0z\" fill=\"none\"/>\n",
              "    <path d=\"M18.56 5.44l.94 2.06.94-2.06 2.06-.94-2.06-.94-.94-2.06-.94 2.06-2.06.94zm-11 1L8.5 8.5l.94-2.06 2.06-.94-2.06-.94L8.5 2.5l-.94 2.06-2.06.94zm10 10l.94 2.06.94-2.06 2.06-.94-2.06-.94-.94-2.06-.94 2.06-2.06.94z\"/><path d=\"M17.41 7.96l-1.37-1.37c-.4-.4-.92-.59-1.43-.59-.52 0-1.04.2-1.43.59L10.3 9.45l-7.72 7.72c-.78.78-.78 2.05 0 2.83L4 21.41c.39.39.9.59 1.41.59.51 0 1.02-.2 1.41-.59l7.78-7.78 2.81-2.81c.8-.78.8-2.07 0-2.86zM5.41 20L4 18.59l7.72-7.72 1.47 1.35L5.41 20z\"/>\n",
              "  </svg>\n",
              "      </button>\n",
              "      \n",
              "  <style>\n",
              "    .colab-df-container {\n",
              "      display:flex;\n",
              "      flex-wrap:wrap;\n",
              "      gap: 12px;\n",
              "    }\n",
              "\n",
              "    .colab-df-convert {\n",
              "      background-color: #E8F0FE;\n",
              "      border: none;\n",
              "      border-radius: 50%;\n",
              "      cursor: pointer;\n",
              "      display: none;\n",
              "      fill: #1967D2;\n",
              "      height: 32px;\n",
              "      padding: 0 0 0 0;\n",
              "      width: 32px;\n",
              "    }\n",
              "\n",
              "    .colab-df-convert:hover {\n",
              "      background-color: #E2EBFA;\n",
              "      box-shadow: 0px 1px 2px rgba(60, 64, 67, 0.3), 0px 1px 3px 1px rgba(60, 64, 67, 0.15);\n",
              "      fill: #174EA6;\n",
              "    }\n",
              "\n",
              "    [theme=dark] .colab-df-convert {\n",
              "      background-color: #3B4455;\n",
              "      fill: #D2E3FC;\n",
              "    }\n",
              "\n",
              "    [theme=dark] .colab-df-convert:hover {\n",
              "      background-color: #434B5C;\n",
              "      box-shadow: 0px 1px 3px 1px rgba(0, 0, 0, 0.15);\n",
              "      filter: drop-shadow(0px 1px 2px rgba(0, 0, 0, 0.3));\n",
              "      fill: #FFFFFF;\n",
              "    }\n",
              "  </style>\n",
              "\n",
              "      <script>\n",
              "        const buttonEl =\n",
              "          document.querySelector('#df-d0be1998-6205-4d5e-8c0e-2c4a90388f5b button.colab-df-convert');\n",
              "        buttonEl.style.display =\n",
              "          google.colab.kernel.accessAllowed ? 'block' : 'none';\n",
              "\n",
              "        async function convertToInteractive(key) {\n",
              "          const element = document.querySelector('#df-d0be1998-6205-4d5e-8c0e-2c4a90388f5b');\n",
              "          const dataTable =\n",
              "            await google.colab.kernel.invokeFunction('convertToInteractive',\n",
              "                                                     [key], {});\n",
              "          if (!dataTable) return;\n",
              "\n",
              "          const docLinkHtml = 'Like what you see? Visit the ' +\n",
              "            '<a target=\"_blank\" href=https://colab.research.google.com/notebooks/data_table.ipynb>data table notebook</a>'\n",
              "            + ' to learn more about interactive tables.';\n",
              "          element.innerHTML = '';\n",
              "          dataTable['output_type'] = 'display_data';\n",
              "          await google.colab.output.renderOutput(dataTable, element);\n",
              "          const docLink = document.createElement('div');\n",
              "          docLink.innerHTML = docLinkHtml;\n",
              "          element.appendChild(docLink);\n",
              "        }\n",
              "      </script>\n",
              "    </div>\n",
              "  </div>\n",
              "  "
            ]
          },
          "metadata": {},
          "execution_count": 68
        }
      ]
    },
    {
      "cell_type": "code",
      "source": [
        "syllable_df.shape"
      ],
      "metadata": {
        "colab": {
          "base_uri": "https://localhost:8080/"
        },
        "id": "FAgYgFziceP5",
        "outputId": "126dc3d7-61ab-41c4-f21b-5d4138edceaf"
      },
      "execution_count": 74,
      "outputs": [
        {
          "output_type": "execute_result",
          "data": {
            "text/plain": [
              "(208, 4)"
            ]
          },
          "metadata": {},
          "execution_count": 74
        }
      ]
    },
    {
      "cell_type": "code",
      "source": [
        "syllable_df['syllables'].unique()"
      ],
      "metadata": {
        "colab": {
          "base_uri": "https://localhost:8080/"
        },
        "id": "XSi7whSvbh9A",
        "outputId": "6ee89d03-4fc6-49ec-c6a8-fef1b5fac2cf"
      },
      "execution_count": 71,
      "outputs": [
        {
          "output_type": "execute_result",
          "data": {
            "text/plain": [
              "array(['she', 'had', 'your', 'dark', 'suit', 'in', 'gri', 'siy', 'wash',\n",
              "       'wa', 'ter', 'all', 'year', 'dont', 'ask', 'me', 'to', 'car',\n",
              "       'riy', 'an', 'oi', 'liy', 'rag', 'laik', 'that', 'this', 'was',\n",
              "       'ea', 'for', 'us', 'wher', 'wer', 'you', 'vil', 'we', 'a', 'way',\n",
              "       'the', 'mu', 'se', 'um', 'hai', 'ers', 'si', 'ci', 'ans', 'ev',\n",
              "       'ry', 'ning', 'berth', 'day', 'par', 'ties', 'hav', 'cup', 'keks',\n",
              "       'and', 'ais', 'crim', 'briks', 'ar', 'al', 'na', 'tiv', 'pab',\n",
              "       'li', 'tiy', 'no', 'ri', 'go', 'hand', 'lu', 'mi', 'num', 'sil',\n",
              "       'ver', 'can ', 'of', 'ten', 'be', 'flim', 'sy', 'can', 'is', 'ao',\n",
              "       'er', 'sin', 'gu', 'lar', 'gol'], dtype=object)"
            ]
          },
          "metadata": {},
          "execution_count": 71
        }
      ]
    },
    {
      "cell_type": "code",
      "source": [
        "plt.hist(syllable_df['duration'], bins=90)\n",
        "plt.title('Duration histogram for syllables')"
      ],
      "metadata": {
        "colab": {
          "base_uri": "https://localhost:8080/",
          "height": 298
        },
        "id": "vmv4FVGybiIx",
        "outputId": "9a54692f-9dee-4138-8514-cdd900b40a2b"
      },
      "execution_count": 75,
      "outputs": [
        {
          "output_type": "execute_result",
          "data": {
            "text/plain": [
              "Text(0.5, 1.0, 'Duration histogram for syllables')"
            ]
          },
          "metadata": {},
          "execution_count": 75
        },
        {
          "output_type": "display_data",
          "data": {
            "text/plain": [
              "<Figure size 432x288 with 1 Axes>"
            ],
            "image/png": "[encoded data removed]"
          },
          "metadata": {
            "needs_background": "light"
          }
        }
      ]
    },
    {
      "cell_type": "code",
      "source": [
        "plt.hist(ds1['duration'])\n",
        "plt.title('Histogram of sa1.txt')"
      ],
      "metadata": {
        "colab": {
          "base_uri": "https://localhost:8080/",
          "height": 298
        },
        "id": "FRUZayPuqguM",
        "outputId": "8bf47791-f656-41f6-ad8a-0b86d2b34c3f"
      },
      "execution_count": 14,
      "outputs": [
        {
          "output_type": "execute_result",
          "data": {
            "text/plain": [
              "Text(0.5, 1.0, 'Histogram of sa1.txt')"
            ]
          },
          "metadata": {},
          "execution_count": 14
        },
        {
          "output_type": "display_data",
          "data": {
            "text/plain": [
              "<Figure size 432x288 with 1 Axes>"
            ],
            "image/png": "[encoded data removed]"
          },
          "metadata": {
            "needs_background": "light"
          }
        }
      ]
    },
    {
      "cell_type": "markdown",
      "source": [
        "## Syallable rate\n"
      ],
      "metadata": {
        "id": "uiQq0-c8evCO"
      }
    },
    {
      "cell_type": "code",
      "source": [
        "syllable_df['CUMSUM_duration'] = syllable_df['duration'].cumsum()\n",
        "syllable_df"
      ],
      "metadata": {
        "colab": {
          "base_uri": "https://localhost:8080/",
          "height": 424
        },
        "id": "JaTukT5DiwTe",
        "outputId": "3e6884c1-8029-405a-a957-0e2ba268cb51"
      },
      "execution_count": 79,
      "outputs": [
        {
          "output_type": "execute_result",
          "data": {
            "text/plain": [
              "       start       end syllables       duration  CUMSUM_duration\n",
              "0   1.257231  1.549610       she       0.292379     2.923790e-01\n",
              "1   1.549610  1.754276       had       1.081803     1.374182e+00\n",
              "2   1.777666  2.087588      your       2.678194     4.052376e+00\n",
              "3   2.087588  2.450138      dark       5.444102     9.496478e+00\n",
              "4   2.450138  2.859469      suit       9.788858     1.928534e+01\n",
              "..       ...       ...       ...            ...              ...\n",
              "3   1.461712  1.560811        er  340009.862156     1.775065e+07\n",
              "4   1.560811  1.864865       sin  344964.867289     1.809562e+07\n",
              "5   1.864865  1.941441        gu  349967.085913     1.844559e+07\n",
              "6   1.941441  2.117117       lar  355016.693704     1.880060e+07\n",
              "7   2.117117  2.500000       gol  360114.073545     1.916072e+07\n",
              "\n",
              "[208 rows x 5 columns]"
            ],
            "text/html": [
              "\n",
              "  <div id=\"df-1ebe4f9a-d572-4fb1-914c-674b01b38fcb\">\n",
              "    <div class=\"colab-df-container\">\n",
              "      <div>\n",
              "<style scoped>\n",
              "    .dataframe tbody tr th:only-of-type {\n",
              "        vertical-align: middle;\n",
              "    }\n",
              "\n",
              "    .dataframe tbody tr th {\n",
              "        vertical-align: top;\n",
              "    }\n",
              "\n",
              "    .dataframe thead th {\n",
              "        text-align: right;\n",
              "    }\n",
              "</style>\n",
              "<table border=\"1\" class=\"dataframe\">\n",
              "  <thead>\n",
              "    <tr style=\"text-align: right;\">\n",
              "      <th></th>\n",
              "      <th>start</th>\n",
              "      <th>end</th>\n",
              "      <th>syllables</th>\n",
              "      <th>duration</th>\n",
              "      <th>CUMSUM_duration</th>\n",
              "    </tr>\n",
              "  </thead>\n",
              "  <tbody>\n",
              "    <tr>\n",
              "      <th>0</th>\n",
              "      <td>1.257231</td>\n",
              "      <td>1.549610</td>\n",
              "      <td>she</td>\n",
              "      <td>0.292379</td>\n",
              "      <td>2.923790e-01</td>\n",
              "    </tr>\n",
              "    <tr>\n",
              "      <th>1</th>\n",
              "      <td>1.549610</td>\n",
              "      <td>1.754276</td>\n",
              "      <td>had</td>\n",
              "      <td>1.081803</td>\n",
              "      <td>1.374182e+00</td>\n",
              "    </tr>\n",
              "    <tr>\n",
              "      <th>2</th>\n",
              "      <td>1.777666</td>\n",
              "      <td>2.087588</td>\n",
              "      <td>your</td>\n",
              "      <td>2.678194</td>\n",
              "      <td>4.052376e+00</td>\n",
              "    </tr>\n",
              "    <tr>\n",
              "      <th>3</th>\n",
              "      <td>2.087588</td>\n",
              "      <td>2.450138</td>\n",
              "      <td>dark</td>\n",
              "      <td>5.444102</td>\n",
              "      <td>9.496478e+00</td>\n",
              "    </tr>\n",
              "    <tr>\n",
              "      <th>4</th>\n",
              "      <td>2.450138</td>\n",
              "      <td>2.859469</td>\n",
              "      <td>suit</td>\n",
              "      <td>9.788858</td>\n",
              "      <td>1.928534e+01</td>\n",
              "    </tr>\n",
              "    <tr>\n",
              "      <th>...</th>\n",
              "      <td>...</td>\n",
              "      <td>...</td>\n",
              "      <td>...</td>\n",
              "      <td>...</td>\n",
              "      <td>...</td>\n",
              "    </tr>\n",
              "    <tr>\n",
              "      <th>3</th>\n",
              "      <td>1.461712</td>\n",
              "      <td>1.560811</td>\n",
              "      <td>er</td>\n",
              "      <td>340009.862156</td>\n",
              "      <td>1.775065e+07</td>\n",
              "    </tr>\n",
              "    <tr>\n",
              "      <th>4</th>\n",
              "      <td>1.560811</td>\n",
              "      <td>1.864865</td>\n",
              "      <td>sin</td>\n",
              "      <td>344964.867289</td>\n",
              "      <td>1.809562e+07</td>\n",
              "    </tr>\n",
              "    <tr>\n",
              "      <th>5</th>\n",
              "      <td>1.864865</td>\n",
              "      <td>1.941441</td>\n",
              "      <td>gu</td>\n",
              "      <td>349967.085913</td>\n",
              "      <td>1.844559e+07</td>\n",
              "    </tr>\n",
              "    <tr>\n",
              "      <th>6</th>\n",
              "      <td>1.941441</td>\n",
              "      <td>2.117117</td>\n",
              "      <td>lar</td>\n",
              "      <td>355016.693704</td>\n",
              "      <td>1.880060e+07</td>\n",
              "    </tr>\n",
              "    <tr>\n",
              "      <th>7</th>\n",
              "      <td>2.117117</td>\n",
              "      <td>2.500000</td>\n",
              "      <td>gol</td>\n",
              "      <td>360114.073545</td>\n",
              "      <td>1.916072e+07</td>\n",
              "    </tr>\n",
              "  </tbody>\n",
              "</table>\n",
              "<p>208 rows × 5 columns</p>\n",
              "</div>\n",
              "      <button class=\"colab-df-convert\" onclick=\"convertToInteractive('df-1ebe4f9a-d572-4fb1-914c-674b01b38fcb')\"\n",
              "              title=\"Convert this dataframe to an interactive table.\"\n",
              "              style=\"display:none;\">\n",
              "        \n",
              "  <svg xmlns=\"http://www.w3.org/2000/svg\" height=\"24px\"viewBox=\"0 0 24 24\"\n",
              "       width=\"24px\">\n",
              "    <path d=\"M0 0h24v24H0V0z\" fill=\"none\"/>\n",
              "    <path d=\"M18.56 5.44l.94 2.06.94-2.06 2.06-.94-2.06-.94-.94-2.06-.94 2.06-2.06.94zm-11 1L8.5 8.5l.94-2.06 2.06-.94-2.06-.94L8.5 2.5l-.94 2.06-2.06.94zm10 10l.94 2.06.94-2.06 2.06-.94-2.06-.94-.94-2.06-.94 2.06-2.06.94z\"/><path d=\"M17.41 7.96l-1.37-1.37c-.4-.4-.92-.59-1.43-.59-.52 0-1.04.2-1.43.59L10.3 9.45l-7.72 7.72c-.78.78-.78 2.05 0 2.83L4 21.41c.39.39.9.59 1.41.59.51 0 1.02-.2 1.41-.59l7.78-7.78 2.81-2.81c.8-.78.8-2.07 0-2.86zM5.41 20L4 18.59l7.72-7.72 1.47 1.35L5.41 20z\"/>\n",
              "  </svg>\n",
              "      </button>\n",
              "      \n",
              "  <style>\n",
              "    .colab-df-container {\n",
              "      display:flex;\n",
              "      flex-wrap:wrap;\n",
              "      gap: 12px;\n",
              "    }\n",
              "\n",
              "    .colab-df-convert {\n",
              "      background-color: #E8F0FE;\n",
              "      border: none;\n",
              "      border-radius: 50%;\n",
              "      cursor: pointer;\n",
              "      display: none;\n",
              "      fill: #1967D2;\n",
              "      height: 32px;\n",
              "      padding: 0 0 0 0;\n",
              "      width: 32px;\n",
              "    }\n",
              "\n",
              "    .colab-df-convert:hover {\n",
              "      background-color: #E2EBFA;\n",
              "      box-shadow: 0px 1px 2px rgba(60, 64, 67, 0.3), 0px 1px 3px 1px rgba(60, 64, 67, 0.15);\n",
              "      fill: #174EA6;\n",
              "    }\n",
              "\n",
              "    [theme=dark] .colab-df-convert {\n",
              "      background-color: #3B4455;\n",
              "      fill: #D2E3FC;\n",
              "    }\n",
              "\n",
              "    [theme=dark] .colab-df-convert:hover {\n",
              "      background-color: #434B5C;\n",
              "      box-shadow: 0px 1px 3px 1px rgba(0, 0, 0, 0.15);\n",
              "      filter: drop-shadow(0px 1px 2px rgba(0, 0, 0, 0.3));\n",
              "      fill: #FFFFFF;\n",
              "    }\n",
              "  </style>\n",
              "\n",
              "      <script>\n",
              "        const buttonEl =\n",
              "          document.querySelector('#df-1ebe4f9a-d572-4fb1-914c-674b01b38fcb button.colab-df-convert');\n",
              "        buttonEl.style.display =\n",
              "          google.colab.kernel.accessAllowed ? 'block' : 'none';\n",
              "\n",
              "        async function convertToInteractive(key) {\n",
              "          const element = document.querySelector('#df-1ebe4f9a-d572-4fb1-914c-674b01b38fcb');\n",
              "          const dataTable =\n",
              "            await google.colab.kernel.invokeFunction('convertToInteractive',\n",
              "                                                     [key], {});\n",
              "          if (!dataTable) return;\n",
              "\n",
              "          const docLinkHtml = 'Like what you see? Visit the ' +\n",
              "            '<a target=\"_blank\" href=https://colab.research.google.com/notebooks/data_table.ipynb>data table notebook</a>'\n",
              "            + ' to learn more about interactive tables.';\n",
              "          element.innerHTML = '';\n",
              "          dataTable['output_type'] = 'display_data';\n",
              "          await google.colab.output.renderOutput(dataTable, element);\n",
              "          const docLink = document.createElement('div');\n",
              "          docLink.innerHTML = docLinkHtml;\n",
              "          element.appendChild(docLink);\n",
              "        }\n",
              "      </script>\n",
              "    </div>\n",
              "  </div>\n",
              "  "
            ]
          },
          "metadata": {},
          "execution_count": 79
        }
      ]
    },
    {
      "cell_type": "code",
      "source": [
        "syllable_rate = syllable_df['duration'].count()/syllable_df['duration'].sum()\n",
        "syllable_rate"
      ],
      "metadata": {
        "colab": {
          "base_uri": "https://localhost:8080/"
        },
        "id": "mPs6ozONiwe4",
        "outputId": "6426d848-3b67-4515-814f-5d401b44f5c2"
      },
      "execution_count": 85,
      "outputs": [
        {
          "output_type": "execute_result",
          "data": {
            "text/plain": [
              "1.0855543633067082e-05"
            ]
          },
          "metadata": {},
          "execution_count": 85
        }
      ]
    }
  ]
}