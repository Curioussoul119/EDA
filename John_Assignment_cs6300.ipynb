{
  "nbformat": 4,
  "nbformat_minor": 0,
  "metadata": {
    "colab": {
      "provenance": [],
      "collapsed_sections": [
        "K4fJJe_Emumz",
        "GoYxgdxyMNpx",
        "mz27IEk8xu9b",
        "uiQq0-c8evCO"
      ],
      "mount_file_id": "1fVUc7voQoJxTaHi_BAGbGNue6pAikt0t",
      "authorship_tag": "ABX9TyNEu4bui6jBk/GVdQY8eZbj",
      "include_colab_link": true
    },
    "kernelspec": {
      "name": "python3",
      "display_name": "Python 3"
    },
    "language_info": {
      "name": "python"
    }
  },
  "cells": [
    {
      "cell_type": "markdown",
      "metadata": {
        "id": "view-in-github",
        "colab_type": "text"
      },
      "source": [
        "<a href=\"https://colab.research.google.com/github/Curioussoul119/EDA/blob/main/John_Assignment_cs6300.ipynb\" target=\"_parent\"><img src=\"https://colab.research.google.com/assets/colab-badge.svg\" alt=\"Open In Colab\"/></a>"
      ]
    },
    {
      "cell_type": "markdown",
      "source": [
        "# III. Compute the histograms of durations for each of the vowels, and all syllables, syllable rate."
      ],
      "metadata": {
        "id": "dp61qRxemBsy"
      }
    },
    {
      "cell_type": "markdown",
      "source": [
        "## Import libraries\n"
      ],
      "metadata": {
        "id": "K4fJJe_Emumz"
      }
    },
    {
      "cell_type": "code",
      "execution_count": 96,
      "metadata": {
        "id": "qgtHQvMhlV2Q"
      },
      "outputs": [],
      "source": [
        "from matplotlib import pyplot as plt\n",
        "import numpy as np\n",
        "import pandas as pd"
      ]
    },
    {
      "cell_type": "markdown",
      "source": [
        "Syllables path"
      ],
      "metadata": {
        "id": "u5rjduo2n8MK"
      }
    },
    {
      "cell_type": "code",
      "source": [
        "ps1='/content/drive/MyDrive/SMT/Speech Technologies/Assignment 1/CS20S013/Labels/Syllables/sa1.txt'"
      ],
      "metadata": {
        "id": "zMnjaZoqnh14"
      },
      "execution_count": 97,
      "outputs": []
    },
    {
      "cell_type": "code",
      "source": [
        "ps2='/content/drive/MyDrive/SMT/Speech Technologies/Assignment 1/CS20S013/Labels/Syllables/sa2.txt'"
      ],
      "metadata": {
        "id": "Lg2cnXd-nhr_"
      },
      "execution_count": 98,
      "outputs": []
    },
    {
      "cell_type": "code",
      "source": [
        "ps3='/content/drive/MyDrive/SMT/Speech Technologies/Assignment 1/CS20S013/Labels/Syllables/sb1.txt'\n",
        "ps4='/content/drive/MyDrive/SMT/Speech Technologies/Assignment 1/CS20S013/Labels/Syllables/sb2.txt'\n",
        "ps5='/content/drive/MyDrive/SMT/Speech Technologies/Assignment 1/CS20S013/Labels/Syllables/sc1.txt'\n",
        "ps6='/content/drive/MyDrive/SMT/Speech Technologies/Assignment 1/CS20S013/Labels/Syllables/sc2.txt'\n",
        "ps7='/content/drive/MyDrive/SMT/Speech Technologies/Assignment 1/CS20S013/Labels/Syllables/sd1.txt'\n",
        "ps8='/content/drive/MyDrive/SMT/Speech Technologies/Assignment 1/CS20S013/Labels/Syllables/sd2.txt'\n",
        "ps9='/content/drive/MyDrive/SMT/Speech Technologies/Assignment 1/CS20S013/Labels/Syllables/se1.txt'\n",
        "ps10='/content/drive/MyDrive/SMT/Speech Technologies/Assignment 1/CS20S013/Labels/Syllables/se2.txt'\n",
        "ps11='/content/drive/MyDrive/SMT/Speech Technologies/Assignment 1/CS20S013/Labels/Syllables/sf1.txt'\n",
        "ps12='/content/drive/MyDrive/SMT/Speech Technologies/Assignment 1/CS20S013/Labels/Syllables/sf2.txt'\n",
        "ps13='/content/drive/MyDrive/SMT/Speech Technologies/Assignment 1/CS20S013/Labels/Syllables/sg1.txt'\n",
        "ps14='/content/drive/MyDrive/SMT/Speech Technologies/Assignment 1/CS20S013/Labels/Syllables/sg2.txt'\n",
        "ps15='/content/drive/MyDrive/SMT/Speech Technologies/Assignment 1/CS20S013/Labels/Syllables/sh1.txt'\n",
        "ps16='/content/drive/MyDrive/SMT/Speech Technologies/Assignment 1/CS20S013/Labels/Syllables/sh2.txt'\n",
        "ps17='/content/drive/MyDrive/SMT/Speech Technologies/Assignment 1/CS20S013/Labels/Syllables/si1.txt'\n",
        "ps18='/content/drive/MyDrive/SMT/Speech Technologies/Assignment 1/CS20S013/Labels/Syllables/si2.txt'\n",
        "ps19='/content/drive/MyDrive/SMT/Speech Technologies/Assignment 1/CS20S013/Labels/Syllables/sj1.txt'\n",
        "ps20='/content/drive/MyDrive/SMT/Speech Technologies/Assignment 1/CS20S013/Labels/Syllables/sj2.txt'\n"
      ],
      "metadata": {
        "id": "I20qj-wpnhi4"
      },
      "execution_count": 99,
      "outputs": []
    },
    {
      "cell_type": "markdown",
      "source": [
        "Vowels path"
      ],
      "metadata": {
        "id": "TRcoM-MzobJG"
      }
    },
    {
      "cell_type": "code",
      "source": [
        "pv1='/content/drive/MyDrive/SMT/Speech Technologies/Assignment 1/CS20S013/Labels/Vowels/va1.txt'"
      ],
      "metadata": {
        "id": "1wqqH_a-nhZm"
      },
      "execution_count": 100,
      "outputs": []
    },
    {
      "cell_type": "code",
      "source": [
        "pv2='/content/drive/MyDrive/SMT/Speech Technologies/Assignment 1/CS20S013/Labels/Vowels/va2.txt'"
      ],
      "metadata": {
        "id": "JgyQKHr2nhQt"
      },
      "execution_count": 101,
      "outputs": []
    },
    {
      "cell_type": "code",
      "source": [
        "pv3='/content/drive/MyDrive/SMT/Speech Technologies/Assignment 1/CS20S013/Labels/Vowels/vb1.txt'\n",
        "pv4='/content/drive/MyDrive/SMT/Speech Technologies/Assignment 1/CS20S013/Labels/Vowels/vb2.txt'\n",
        "pv5='/content/drive/MyDrive/SMT/Speech Technologies/Assignment 1/CS20S013/Labels/Vowels/vc1.txt'\n",
        "pv6='/content/drive/MyDrive/SMT/Speech Technologies/Assignment 1/CS20S013/Labels/Vowels/vc2.txt'\n",
        "pv7='/content/drive/MyDrive/SMT/Speech Technologies/Assignment 1/CS20S013/Labels/Vowels/vd1.txt'\n",
        "pv8='/content/drive/MyDrive/SMT/Speech Technologies/Assignment 1/CS20S013/Labels/Vowels/vd2.txt'\n",
        "pv9='/content/drive/MyDrive/SMT/Speech Technologies/Assignment 1/CS20S013/Labels/Vowels/ve1.txt'\n",
        "pv10='/content/drive/MyDrive/SMT/Speech Technologies/Assignment 1/CS20S013/Labels/Vowels/ve2.txt'\n",
        "pv11='/content/drive/MyDrive/SMT/Speech Technologies/Assignment 1/CS20S013/Labels/Vowels/vf1.txt'\n",
        "pv12='/content/drive/MyDrive/SMT/Speech Technologies/Assignment 1/CS20S013/Labels/Vowels/vf2.txt'\n",
        "pv13='/content/drive/MyDrive/SMT/Speech Technologies/Assignment 1/CS20S013/Labels/Vowels/vg1.txt'\n",
        "pv14='/content/drive/MyDrive/SMT/Speech Technologies/Assignment 1/CS20S013/Labels/Vowels/vg2.txt'\n",
        "pv15='/content/drive/MyDrive/SMT/Speech Technologies/Assignment 1/CS20S013/Labels/Vowels/vh1.txt'\n",
        "pv16='/content/drive/MyDrive/SMT/Speech Technologies/Assignment 1/CS20S013/Labels/Vowels/vh2.txt'\n",
        "pv17='/content/drive/MyDrive/SMT/Speech Technologies/Assignment 1/CS20S013/Labels/Vowels/vi1.txt'\n",
        "pv18='/content/drive/MyDrive/SMT/Speech Technologies/Assignment 1/CS20S013/Labels/Vowels/vi2.txt'\n",
        "pv19='/content/drive/MyDrive/SMT/Speech Technologies/Assignment 1/CS20S013/Labels/Vowels/vj1.txt'\n",
        "pv20='/content/drive/MyDrive/SMT/Speech Technologies/Assignment 1/CS20S013/Labels/Vowels/vj2.txt'"
      ],
      "metadata": {
        "id": "pD6x3sP0nhHG"
      },
      "execution_count": 102,
      "outputs": []
    },
    {
      "cell_type": "markdown",
      "source": [
        "Words path"
      ],
      "metadata": {
        "id": "U4FAPEgno6QE"
      }
    },
    {
      "cell_type": "code",
      "source": [
        "pw1='/content/drive/MyDrive/SMT/Speech Technologies/Assignment 1/CS20S013/Labels/Words/wa1.txt'"
      ],
      "metadata": {
        "id": "XpOJZH6Ang-H"
      },
      "execution_count": 103,
      "outputs": []
    },
    {
      "cell_type": "code",
      "source": [
        "pw2='/content/drive/MyDrive/SMT/Speech Technologies/Assignment 1/CS20S013/Labels/Words/wa2.txt'"
      ],
      "metadata": {
        "id": "kHckzIJ5ng0z"
      },
      "execution_count": 104,
      "outputs": []
    },
    {
      "cell_type": "code",
      "source": [
        "pw3='/content/drive/MyDrive/SMT/Speech Technologies/Assignment 1/CS20S013/Labels/Words/wb1.txt'\n",
        "pw4='/content/drive/MyDrive/SMT/Speech Technologies/Assignment 1/CS20S013/Labels/Words/wb2.txt'\n",
        "pw5='/content/drive/MyDrive/SMT/Speech Technologies/Assignment 1/CS20S013/Labels/Words/wc1.txt'\n",
        "pw6='/content/drive/MyDrive/SMT/Speech Technologies/Assignment 1/CS20S013/Labels/Words/wc2.txt'\n",
        "pw7='/content/drive/MyDrive/SMT/Speech Technologies/Assignment 1/CS20S013/Labels/Words/wd1.txt'\n",
        "pw8='/content/drive/MyDrive/SMT/Speech Technologies/Assignment 1/CS20S013/Labels/Words/wd2.txt'\n",
        "pw9='/content/drive/MyDrive/SMT/Speech Technologies/Assignment 1/CS20S013/Labels/Words/we1.txt'\n",
        "pw10='/content/drive/MyDrive/SMT/Speech Technologies/Assignment 1/CS20S013/Labels/Words/we2.txt'\n",
        "pw11='/content/drive/MyDrive/SMT/Speech Technologies/Assignment 1/CS20S013/Labels/Words/wf1.txt'\n",
        "pw12='/content/drive/MyDrive/SMT/Speech Technologies/Assignment 1/CS20S013/Labels/Words/wf2.txt'\n",
        "pw13='/content/drive/MyDrive/SMT/Speech Technologies/Assignment 1/CS20S013/Labels/Words/wg1.txt'\n",
        "pw14='/content/drive/MyDrive/SMT/Speech Technologies/Assignment 1/CS20S013/Labels/Words/wg2.txt'\n",
        "pw15='/content/drive/MyDrive/SMT/Speech Technologies/Assignment 1/CS20S013/Labels/Words/wh1.txt'\n",
        "pw16='/content/drive/MyDrive/SMT/Speech Technologies/Assignment 1/CS20S013/Labels/Words/wh2.txt'\n",
        "pw17='/content/drive/MyDrive/SMT/Speech Technologies/Assignment 1/CS20S013/Labels/Words/wi1.txt'\n",
        "pw18='/content/drive/MyDrive/SMT/Speech Technologies/Assignment 1/CS20S013/Labels/Words/wi2.txt'\n",
        "pw19='/content/drive/MyDrive/SMT/Speech Technologies/Assignment 1/CS20S013/Labels/Words/wj1.txt'\n",
        "pw20='/content/drive/MyDrive/SMT/Speech Technologies/Assignment 1/CS20S013/Labels/Words/wj2.txt'"
      ],
      "metadata": {
        "id": "sPR0jCUnngne"
      },
      "execution_count": 105,
      "outputs": []
    },
    {
      "cell_type": "markdown",
      "source": [
        "Read txt files\n",
        "\n",
        "1.read Syllables"
      ],
      "metadata": {
        "id": "W7ug1iXspaQ_"
      }
    },
    {
      "cell_type": "code",
      "source": [
        "ds1=pd.read_csv(ps1, sep='\\t', names= ['start', 'end', 'syllables'])\n",
        "ds2=pd.read_csv(ps2, sep='\\t', names= ['start', 'end', 'syllables'])\n",
        "ds3=pd.read_csv(ps3, sep='\\t', names= ['start', 'end', 'syllables'])\n",
        "ds4=pd.read_csv(ps4, sep='\\t', names= ['start', 'end', 'syllables'])\n",
        "ds5=pd.read_csv(ps5, sep='\\t', names= ['start', 'end', 'syllables'])\n",
        "ds6=pd.read_csv(ps6, sep='\\t', names= ['start', 'end', 'syllables'])\n",
        "ds7=pd.read_csv(ps7, sep='\\t', names= ['start', 'end', 'syllables'])\n",
        "ds8=pd.read_csv(ps8, sep='\\t', names= ['start', 'end', 'syllables'])\n",
        "ds9=pd.read_csv(ps9, sep='\\t', names= ['start', 'end', 'syllables'])\n",
        "ds10=pd.read_csv(ps10, sep='\\t', names= ['start', 'end', 'syllables'])\n",
        "ds11=pd.read_csv(ps11, sep='\\t', names= ['start', 'end', 'syllables'])\n",
        "ds12=pd.read_csv(ps12, sep='\\t', names= ['start', 'end', 'syllables'])\n",
        "ds13=pd.read_csv(ps13, sep='\\t', names= ['start', 'end', 'syllables'])\n",
        "ds14=pd.read_csv(ps14, sep='\\t', names= ['start', 'end', 'syllables'])\n",
        "ds15=pd.read_csv(ps15, sep='\\t', names= ['start', 'end', 'syllables'])\n",
        "ds16=pd.read_csv(ps16, sep='\\t', names= ['start', 'end', 'syllables'])\n",
        "ds17=pd.read_csv(ps17, sep='\\t', names= ['start', 'end', 'syllables'])\n",
        "ds18=pd.read_csv(ps18, sep='\\t', names= ['start', 'end', 'syllables'])\n",
        "ds19=pd.read_csv(ps19, sep='\\t', names= ['start', 'end', 'syllables'])\n",
        "ds20=pd.read_csv(ps20, sep='\\t', names= ['start', 'end', 'syllables'])"
      ],
      "metadata": {
        "id": "a-45SWXjplIO"
      },
      "execution_count": 106,
      "outputs": []
    },
    {
      "cell_type": "markdown",
      "source": [
        "2.read Vowels\n"
      ],
      "metadata": {
        "id": "_AB31ikbI4se"
      }
    },
    {
      "cell_type": "code",
      "source": [
        "dv1=pd.read_csv(pv1, sep='\\t', names= ['start', 'end', 'vowels'])\n",
        "dv2=pd.read_csv(pv2, sep='\\t', names= ['start', 'end', 'vowels'])\n",
        "dv3=pd.read_csv(pv3, sep='\\t', names= ['start', 'end', 'vowels'])\n",
        "dv4=pd.read_csv(pv4, sep='\\t', names= ['start', 'end', 'vowels'])\n",
        "dv5=pd.read_csv(pv5, sep='\\t', names= ['start', 'end', 'vowels'])\n",
        "dv6=pd.read_csv(pv6, sep='\\t', names= ['start', 'end', 'vowels'])\n",
        "dv7=pd.read_csv(pv7, sep='\\t', names= ['start', 'end', 'vowels'])\n",
        "dv8=pd.read_csv(pv8, sep='\\t', names= ['start', 'end', 'vowels'])\n",
        "dv9=pd.read_csv(pv9, sep='\\t', names= ['start', 'end', 'vowels'])\n",
        "dv10=pd.read_csv(pv10, sep='\\t', names= ['start', 'end', 'vowels'])\n",
        "dv11=pd.read_csv(pv11, sep='\\t', names= ['start', 'end', 'vowels'])\n",
        "dv12=pd.read_csv(pv12, sep='\\t', names= ['start', 'end', 'vowels'])\n",
        "dv13=pd.read_csv(pv13, sep='\\t', names= ['start', 'end', 'vowels'])\n",
        "dv14=pd.read_csv(pv14, sep='\\t', names= ['start', 'end', 'vowels'])\n",
        "dv15=pd.read_csv(pv15, sep='\\t', names= ['start', 'end', 'vowels'])\n",
        "dv16=pd.read_csv(pv16, sep='\\t', names= ['start', 'end', 'vowels'])\n",
        "dv17=pd.read_csv(pv17, sep='\\t', names= ['start', 'end', 'vowels'])\n",
        "dv18=pd.read_csv(pv18, sep='\\t', names= ['start', 'end', 'vowels'])\n",
        "dv19=pd.read_csv(pv19, sep='\\t', names= ['start', 'end', 'vowels'])\n",
        "dv20=pd.read_csv(pv20, sep='\\t', names= ['start', 'end', 'vowels'])"
      ],
      "metadata": {
        "id": "q7wAAqWbI3q5"
      },
      "execution_count": 107,
      "outputs": []
    },
    {
      "cell_type": "markdown",
      "source": [
        "3. Read words"
      ],
      "metadata": {
        "id": "cs5Vi8OGKspX"
      }
    },
    {
      "cell_type": "code",
      "source": [
        "dw1=pd.read_csv(pw1, sep='\\t', names= ['start', 'end', 'words'])\n",
        "dw2=pd.read_csv(pw2, sep='\\t', names= ['start', 'end', 'words'])\n",
        "dw3=pd.read_csv(pw3, sep='\\t', names= ['start', 'end', 'words'])\n",
        "dw4=pd.read_csv(pw4, sep='\\t', names= ['start', 'end', 'words'])\n",
        "dw5=pd.read_csv(pw5, sep='\\t', names= ['start', 'end', 'words'])\n",
        "dw6=pd.read_csv(pw6, sep='\\t', names= ['start', 'end', 'words'])\n",
        "dw7=pd.read_csv(pw7, sep='\\t', names= ['start', 'end', 'words'])\n",
        "dw8=pd.read_csv(pw8, sep='\\t', names= ['start', 'end', 'words'])\n",
        "dw9=pd.read_csv(pw9, sep='\\t', names= ['start', 'end', 'words'])\n",
        "dw10=pd.read_csv(pw10, sep='\\t', names= ['start', 'end', 'words'])\n",
        "dw11=pd.read_csv(pw11, sep='\\t', names= ['start', 'end', 'words'])\n",
        "dw12=pd.read_csv(pw12, sep='\\t', names= ['start', 'end', 'words'])\n",
        "dw13=pd.read_csv(pw13, sep='\\t', names= ['start', 'end', 'words'])\n",
        "dw14=pd.read_csv(pw14, sep='\\t', names= ['start', 'end', 'words'])\n",
        "dw15=pd.read_csv(pw15, sep='\\t', names= ['start', 'end', 'words'])\n",
        "dw16=pd.read_csv(pw16, sep='\\t', names= ['start', 'end', 'words'])\n",
        "dw17=pd.read_csv(pw17, sep='\\t', names= ['start', 'end', 'words'])\n",
        "dw18=pd.read_csv(pw18, sep='\\t', names= ['start', 'end', 'words'])\n",
        "dw19=pd.read_csv(pw19, sep='\\t', names= ['start', 'end', 'words'])\n",
        "dw20=pd.read_csv(pw20, sep='\\t', names= ['start', 'end', 'words'])"
      ],
      "metadata": {
        "id": "o_HK0-r9Kriy"
      },
      "execution_count": 108,
      "outputs": []
    },
    {
      "cell_type": "code",
      "source": [
        "ds1"
      ],
      "metadata": {
        "colab": {
          "base_uri": "https://localhost:8080/",
          "height": 457
        },
        "id": "XnUxle6LqgaY",
        "outputId": "5868e3e9-b364-4c6c-af5f-1891dc23e464"
      },
      "execution_count": 109,
      "outputs": [
        {
          "output_type": "execute_result",
          "data": {
            "text/plain": [
              "       start       end syllables\n",
              "0   1.257231  1.549610       she\n",
              "1   1.549610  1.754276       had\n",
              "2   1.777666  2.087588      your\n",
              "3   2.087588  2.450138      dark\n",
              "4   2.450138  2.859469      suit\n",
              "5   2.917945  3.163544        in\n",
              "6   3.210324  3.438380       gri\n",
              "7   3.438380  3.625503       siy\n",
              "8   3.625503  3.988053      wash\n",
              "9   3.988053  4.251195        wa\n",
              "10  4.251195  4.473403       ter\n",
              "11  4.602050  4.835953       all\n",
              "12  4.900277  5.192656      year"
            ],
            "text/html": [
              "\n",
              "  <div id=\"df-93fb6b78-2992-4481-b0d1-d6bf3f9eacca\">\n",
              "    <div class=\"colab-df-container\">\n",
              "      <div>\n",
              "<style scoped>\n",
              "    .dataframe tbody tr th:only-of-type {\n",
              "        vertical-align: middle;\n",
              "    }\n",
              "\n",
              "    .dataframe tbody tr th {\n",
              "        vertical-align: top;\n",
              "    }\n",
              "\n",
              "    .dataframe thead th {\n",
              "        text-align: right;\n",
              "    }\n",
              "</style>\n",
              "<table border=\"1\" class=\"dataframe\">\n",
              "  <thead>\n",
              "    <tr style=\"text-align: right;\">\n",
              "      <th></th>\n",
              "      <th>start</th>\n",
              "      <th>end</th>\n",
              "      <th>syllables</th>\n",
              "    </tr>\n",
              "  </thead>\n",
              "  <tbody>\n",
              "    <tr>\n",
              "      <th>0</th>\n",
              "      <td>1.257231</td>\n",
              "      <td>1.549610</td>\n",
              "      <td>she</td>\n",
              "    </tr>\n",
              "    <tr>\n",
              "      <th>1</th>\n",
              "      <td>1.549610</td>\n",
              "      <td>1.754276</td>\n",
              "      <td>had</td>\n",
              "    </tr>\n",
              "    <tr>\n",
              "      <th>2</th>\n",
              "      <td>1.777666</td>\n",
              "      <td>2.087588</td>\n",
              "      <td>your</td>\n",
              "    </tr>\n",
              "    <tr>\n",
              "      <th>3</th>\n",
              "      <td>2.087588</td>\n",
              "      <td>2.450138</td>\n",
              "      <td>dark</td>\n",
              "    </tr>\n",
              "    <tr>\n",
              "      <th>4</th>\n",
              "      <td>2.450138</td>\n",
              "      <td>2.859469</td>\n",
              "      <td>suit</td>\n",
              "    </tr>\n",
              "    <tr>\n",
              "      <th>5</th>\n",
              "      <td>2.917945</td>\n",
              "      <td>3.163544</td>\n",
              "      <td>in</td>\n",
              "    </tr>\n",
              "    <tr>\n",
              "      <th>6</th>\n",
              "      <td>3.210324</td>\n",
              "      <td>3.438380</td>\n",
              "      <td>gri</td>\n",
              "    </tr>\n",
              "    <tr>\n",
              "      <th>7</th>\n",
              "      <td>3.438380</td>\n",
              "      <td>3.625503</td>\n",
              "      <td>siy</td>\n",
              "    </tr>\n",
              "    <tr>\n",
              "      <th>8</th>\n",
              "      <td>3.625503</td>\n",
              "      <td>3.988053</td>\n",
              "      <td>wash</td>\n",
              "    </tr>\n",
              "    <tr>\n",
              "      <th>9</th>\n",
              "      <td>3.988053</td>\n",
              "      <td>4.251195</td>\n",
              "      <td>wa</td>\n",
              "    </tr>\n",
              "    <tr>\n",
              "      <th>10</th>\n",
              "      <td>4.251195</td>\n",
              "      <td>4.473403</td>\n",
              "      <td>ter</td>\n",
              "    </tr>\n",
              "    <tr>\n",
              "      <th>11</th>\n",
              "      <td>4.602050</td>\n",
              "      <td>4.835953</td>\n",
              "      <td>all</td>\n",
              "    </tr>\n",
              "    <tr>\n",
              "      <th>12</th>\n",
              "      <td>4.900277</td>\n",
              "      <td>5.192656</td>\n",
              "      <td>year</td>\n",
              "    </tr>\n",
              "  </tbody>\n",
              "</table>\n",
              "</div>\n",
              "      <button class=\"colab-df-convert\" onclick=\"convertToInteractive('df-93fb6b78-2992-4481-b0d1-d6bf3f9eacca')\"\n",
              "              title=\"Convert this dataframe to an interactive table.\"\n",
              "              style=\"display:none;\">\n",
              "        \n",
              "  <svg xmlns=\"http://www.w3.org/2000/svg\" height=\"24px\"viewBox=\"0 0 24 24\"\n",
              "       width=\"24px\">\n",
              "    <path d=\"M0 0h24v24H0V0z\" fill=\"none\"/>\n",
              "    <path d=\"M18.56 5.44l.94 2.06.94-2.06 2.06-.94-2.06-.94-.94-2.06-.94 2.06-2.06.94zm-11 1L8.5 8.5l.94-2.06 2.06-.94-2.06-.94L8.5 2.5l-.94 2.06-2.06.94zm10 10l.94 2.06.94-2.06 2.06-.94-2.06-.94-.94-2.06-.94 2.06-2.06.94z\"/><path d=\"M17.41 7.96l-1.37-1.37c-.4-.4-.92-.59-1.43-.59-.52 0-1.04.2-1.43.59L10.3 9.45l-7.72 7.72c-.78.78-.78 2.05 0 2.83L4 21.41c.39.39.9.59 1.41.59.51 0 1.02-.2 1.41-.59l7.78-7.78 2.81-2.81c.8-.78.8-2.07 0-2.86zM5.41 20L4 18.59l7.72-7.72 1.47 1.35L5.41 20z\"/>\n",
              "  </svg>\n",
              "      </button>\n",
              "      \n",
              "  <style>\n",
              "    .colab-df-container {\n",
              "      display:flex;\n",
              "      flex-wrap:wrap;\n",
              "      gap: 12px;\n",
              "    }\n",
              "\n",
              "    .colab-df-convert {\n",
              "      background-color: #E8F0FE;\n",
              "      border: none;\n",
              "      border-radius: 50%;\n",
              "      cursor: pointer;\n",
              "      display: none;\n",
              "      fill: #1967D2;\n",
              "      height: 32px;\n",
              "      padding: 0 0 0 0;\n",
              "      width: 32px;\n",
              "    }\n",
              "\n",
              "    .colab-df-convert:hover {\n",
              "      background-color: #E2EBFA;\n",
              "      box-shadow: 0px 1px 2px rgba(60, 64, 67, 0.3), 0px 1px 3px 1px rgba(60, 64, 67, 0.15);\n",
              "      fill: #174EA6;\n",
              "    }\n",
              "\n",
              "    [theme=dark] .colab-df-convert {\n",
              "      background-color: #3B4455;\n",
              "      fill: #D2E3FC;\n",
              "    }\n",
              "\n",
              "    [theme=dark] .colab-df-convert:hover {\n",
              "      background-color: #434B5C;\n",
              "      box-shadow: 0px 1px 3px 1px rgba(0, 0, 0, 0.15);\n",
              "      filter: drop-shadow(0px 1px 2px rgba(0, 0, 0, 0.3));\n",
              "      fill: #FFFFFF;\n",
              "    }\n",
              "  </style>\n",
              "\n",
              "      <script>\n",
              "        const buttonEl =\n",
              "          document.querySelector('#df-93fb6b78-2992-4481-b0d1-d6bf3f9eacca button.colab-df-convert');\n",
              "        buttonEl.style.display =\n",
              "          google.colab.kernel.accessAllowed ? 'block' : 'none';\n",
              "\n",
              "        async function convertToInteractive(key) {\n",
              "          const element = document.querySelector('#df-93fb6b78-2992-4481-b0d1-d6bf3f9eacca');\n",
              "          const dataTable =\n",
              "            await google.colab.kernel.invokeFunction('convertToInteractive',\n",
              "                                                     [key], {});\n",
              "          if (!dataTable) return;\n",
              "\n",
              "          const docLinkHtml = 'Like what you see? Visit the ' +\n",
              "            '<a target=\"_blank\" href=https://colab.research.google.com/notebooks/data_table.ipynb>data table notebook</a>'\n",
              "            + ' to learn more about interactive tables.';\n",
              "          element.innerHTML = '';\n",
              "          dataTable['output_type'] = 'display_data';\n",
              "          await google.colab.output.renderOutput(dataTable, element);\n",
              "          const docLink = document.createElement('div');\n",
              "          docLink.innerHTML = docLinkHtml;\n",
              "          element.appendChild(docLink);\n",
              "        }\n",
              "      </script>\n",
              "    </div>\n",
              "  </div>\n",
              "  "
            ]
          },
          "metadata": {},
          "execution_count": 109
        }
      ]
    },
    {
      "cell_type": "markdown",
      "source": [
        "## Duration Histogram for each vowel"
      ],
      "metadata": {
        "id": "GoYxgdxyMNpx"
      }
    },
    {
      "cell_type": "code",
      "source": [
        "dvf=[dv1,dv2,dv3,dv4,dv5,dv6,dv7,dv8,dv9,dv10,dv11,dv12,dv13,dv14,dv15,dv16,dv17,dv18,dv19,dv20]\n",
        "voweldf=pd.concat(dvf)\n",
        "voweldf"
      ],
      "metadata": {
        "colab": {
          "base_uri": "https://localhost:8080/",
          "height": 424
        },
        "id": "fuRE4U55NAcN",
        "outputId": "70db7877-c094-4582-92ff-8b491e5e3506"
      },
      "execution_count": 110,
      "outputs": [
        {
          "output_type": "execute_result",
          "data": {
            "text/plain": [
              "       start       end vowels\n",
              "0   0.322043  0.482627    /i/\n",
              "1   0.741141  0.891133    /a/\n",
              "2   1.724916  1.826382    /a/\n",
              "3   2.726327  2.876331    /i/\n",
              "4   3.335132  3.493948    /i/\n",
              "..       ...       ...    ...\n",
              "1   0.309677  0.415496    /i/\n",
              "2   0.961652  0.995623    /i/\n",
              "3   1.131509  1.178546    /u/\n",
              "4   1.270008  1.332724    /a/\n",
              "5   1.527406  1.625401    /o/\n",
              "\n",
              "[177 rows x 3 columns]"
            ],
            "text/html": [
              "\n",
              "  <div id=\"df-cb562b02-c211-4057-93b8-facafa7570ea\">\n",
              "    <div class=\"colab-df-container\">\n",
              "      <div>\n",
              "<style scoped>\n",
              "    .dataframe tbody tr th:only-of-type {\n",
              "        vertical-align: middle;\n",
              "    }\n",
              "\n",
              "    .dataframe tbody tr th {\n",
              "        vertical-align: top;\n",
              "    }\n",
              "\n",
              "    .dataframe thead th {\n",
              "        text-align: right;\n",
              "    }\n",
              "</style>\n",
              "<table border=\"1\" class=\"dataframe\">\n",
              "  <thead>\n",
              "    <tr style=\"text-align: right;\">\n",
              "      <th></th>\n",
              "      <th>start</th>\n",
              "      <th>end</th>\n",
              "      <th>vowels</th>\n",
              "    </tr>\n",
              "  </thead>\n",
              "  <tbody>\n",
              "    <tr>\n",
              "      <th>0</th>\n",
              "      <td>0.322043</td>\n",
              "      <td>0.482627</td>\n",
              "      <td>/i/</td>\n",
              "    </tr>\n",
              "    <tr>\n",
              "      <th>1</th>\n",
              "      <td>0.741141</td>\n",
              "      <td>0.891133</td>\n",
              "      <td>/a/</td>\n",
              "    </tr>\n",
              "    <tr>\n",
              "      <th>2</th>\n",
              "      <td>1.724916</td>\n",
              "      <td>1.826382</td>\n",
              "      <td>/a/</td>\n",
              "    </tr>\n",
              "    <tr>\n",
              "      <th>3</th>\n",
              "      <td>2.726327</td>\n",
              "      <td>2.876331</td>\n",
              "      <td>/i/</td>\n",
              "    </tr>\n",
              "    <tr>\n",
              "      <th>4</th>\n",
              "      <td>3.335132</td>\n",
              "      <td>3.493948</td>\n",
              "      <td>/i/</td>\n",
              "    </tr>\n",
              "    <tr>\n",
              "      <th>...</th>\n",
              "      <td>...</td>\n",
              "      <td>...</td>\n",
              "      <td>...</td>\n",
              "    </tr>\n",
              "    <tr>\n",
              "      <th>1</th>\n",
              "      <td>0.309677</td>\n",
              "      <td>0.415496</td>\n",
              "      <td>/i/</td>\n",
              "    </tr>\n",
              "    <tr>\n",
              "      <th>2</th>\n",
              "      <td>0.961652</td>\n",
              "      <td>0.995623</td>\n",
              "      <td>/i/</td>\n",
              "    </tr>\n",
              "    <tr>\n",
              "      <th>3</th>\n",
              "      <td>1.131509</td>\n",
              "      <td>1.178546</td>\n",
              "      <td>/u/</td>\n",
              "    </tr>\n",
              "    <tr>\n",
              "      <th>4</th>\n",
              "      <td>1.270008</td>\n",
              "      <td>1.332724</td>\n",
              "      <td>/a/</td>\n",
              "    </tr>\n",
              "    <tr>\n",
              "      <th>5</th>\n",
              "      <td>1.527406</td>\n",
              "      <td>1.625401</td>\n",
              "      <td>/o/</td>\n",
              "    </tr>\n",
              "  </tbody>\n",
              "</table>\n",
              "<p>177 rows × 3 columns</p>\n",
              "</div>\n",
              "      <button class=\"colab-df-convert\" onclick=\"convertToInteractive('df-cb562b02-c211-4057-93b8-facafa7570ea')\"\n",
              "              title=\"Convert this dataframe to an interactive table.\"\n",
              "              style=\"display:none;\">\n",
              "        \n",
              "  <svg xmlns=\"http://www.w3.org/2000/svg\" height=\"24px\"viewBox=\"0 0 24 24\"\n",
              "       width=\"24px\">\n",
              "    <path d=\"M0 0h24v24H0V0z\" fill=\"none\"/>\n",
              "    <path d=\"M18.56 5.44l.94 2.06.94-2.06 2.06-.94-2.06-.94-.94-2.06-.94 2.06-2.06.94zm-11 1L8.5 8.5l.94-2.06 2.06-.94-2.06-.94L8.5 2.5l-.94 2.06-2.06.94zm10 10l.94 2.06.94-2.06 2.06-.94-2.06-.94-.94-2.06-.94 2.06-2.06.94z\"/><path d=\"M17.41 7.96l-1.37-1.37c-.4-.4-.92-.59-1.43-.59-.52 0-1.04.2-1.43.59L10.3 9.45l-7.72 7.72c-.78.78-.78 2.05 0 2.83L4 21.41c.39.39.9.59 1.41.59.51 0 1.02-.2 1.41-.59l7.78-7.78 2.81-2.81c.8-.78.8-2.07 0-2.86zM5.41 20L4 18.59l7.72-7.72 1.47 1.35L5.41 20z\"/>\n",
              "  </svg>\n",
              "      </button>\n",
              "      \n",
              "  <style>\n",
              "    .colab-df-container {\n",
              "      display:flex;\n",
              "      flex-wrap:wrap;\n",
              "      gap: 12px;\n",
              "    }\n",
              "\n",
              "    .colab-df-convert {\n",
              "      background-color: #E8F0FE;\n",
              "      border: none;\n",
              "      border-radius: 50%;\n",
              "      cursor: pointer;\n",
              "      display: none;\n",
              "      fill: #1967D2;\n",
              "      height: 32px;\n",
              "      padding: 0 0 0 0;\n",
              "      width: 32px;\n",
              "    }\n",
              "\n",
              "    .colab-df-convert:hover {\n",
              "      background-color: #E2EBFA;\n",
              "      box-shadow: 0px 1px 2px rgba(60, 64, 67, 0.3), 0px 1px 3px 1px rgba(60, 64, 67, 0.15);\n",
              "      fill: #174EA6;\n",
              "    }\n",
              "\n",
              "    [theme=dark] .colab-df-convert {\n",
              "      background-color: #3B4455;\n",
              "      fill: #D2E3FC;\n",
              "    }\n",
              "\n",
              "    [theme=dark] .colab-df-convert:hover {\n",
              "      background-color: #434B5C;\n",
              "      box-shadow: 0px 1px 3px 1px rgba(0, 0, 0, 0.15);\n",
              "      filter: drop-shadow(0px 1px 2px rgba(0, 0, 0, 0.3));\n",
              "      fill: #FFFFFF;\n",
              "    }\n",
              "  </style>\n",
              "\n",
              "      <script>\n",
              "        const buttonEl =\n",
              "          document.querySelector('#df-cb562b02-c211-4057-93b8-facafa7570ea button.colab-df-convert');\n",
              "        buttonEl.style.display =\n",
              "          google.colab.kernel.accessAllowed ? 'block' : 'none';\n",
              "\n",
              "        async function convertToInteractive(key) {\n",
              "          const element = document.querySelector('#df-cb562b02-c211-4057-93b8-facafa7570ea');\n",
              "          const dataTable =\n",
              "            await google.colab.kernel.invokeFunction('convertToInteractive',\n",
              "                                                     [key], {});\n",
              "          if (!dataTable) return;\n",
              "\n",
              "          const docLinkHtml = 'Like what you see? Visit the ' +\n",
              "            '<a target=\"_blank\" href=https://colab.research.google.com/notebooks/data_table.ipynb>data table notebook</a>'\n",
              "            + ' to learn more about interactive tables.';\n",
              "          element.innerHTML = '';\n",
              "          dataTable['output_type'] = 'display_data';\n",
              "          await google.colab.output.renderOutput(dataTable, element);\n",
              "          const docLink = document.createElement('div');\n",
              "          docLink.innerHTML = docLinkHtml;\n",
              "          element.appendChild(docLink);\n",
              "        }\n",
              "      </script>\n",
              "    </div>\n",
              "  </div>\n",
              "  "
            ]
          },
          "metadata": {},
          "execution_count": 110
        }
      ]
    },
    {
      "cell_type": "code",
      "source": [
        "voweldf['duration'] = voweldf.apply(lambda x: x['end'] - x['start'], axis=1)\n",
        "voweldf"
      ],
      "metadata": {
        "colab": {
          "base_uri": "https://localhost:8080/",
          "height": 424
        },
        "id": "aWPrBj4tNAm0",
        "outputId": "2bdfab68-b73a-4966-c67e-8bfbcb119fbf"
      },
      "execution_count": 111,
      "outputs": [
        {
          "output_type": "execute_result",
          "data": {
            "text/plain": [
              "       start       end vowels  duration\n",
              "0   0.322043  0.482627    /i/  0.160584\n",
              "1   0.741141  0.891133    /a/  0.149992\n",
              "2   1.724916  1.826382    /a/  0.101466\n",
              "3   2.726327  2.876331    /i/  0.150004\n",
              "4   3.335132  3.493948    /i/  0.158816\n",
              "..       ...       ...    ...       ...\n",
              "1   0.309677  0.415496    /i/  0.105819\n",
              "2   0.961652  0.995623    /i/  0.033971\n",
              "3   1.131509  1.178546    /u/  0.047037\n",
              "4   1.270008  1.332724    /a/  0.062716\n",
              "5   1.527406  1.625401    /o/  0.097995\n",
              "\n",
              "[177 rows x 4 columns]"
            ],
            "text/html": [
              "\n",
              "  <div id=\"df-c427a2ef-4800-4098-a131-7e49069301da\">\n",
              "    <div class=\"colab-df-container\">\n",
              "      <div>\n",
              "<style scoped>\n",
              "    .dataframe tbody tr th:only-of-type {\n",
              "        vertical-align: middle;\n",
              "    }\n",
              "\n",
              "    .dataframe tbody tr th {\n",
              "        vertical-align: top;\n",
              "    }\n",
              "\n",
              "    .dataframe thead th {\n",
              "        text-align: right;\n",
              "    }\n",
              "</style>\n",
              "<table border=\"1\" class=\"dataframe\">\n",
              "  <thead>\n",
              "    <tr style=\"text-align: right;\">\n",
              "      <th></th>\n",
              "      <th>start</th>\n",
              "      <th>end</th>\n",
              "      <th>vowels</th>\n",
              "      <th>duration</th>\n",
              "    </tr>\n",
              "  </thead>\n",
              "  <tbody>\n",
              "    <tr>\n",
              "      <th>0</th>\n",
              "      <td>0.322043</td>\n",
              "      <td>0.482627</td>\n",
              "      <td>/i/</td>\n",
              "      <td>0.160584</td>\n",
              "    </tr>\n",
              "    <tr>\n",
              "      <th>1</th>\n",
              "      <td>0.741141</td>\n",
              "      <td>0.891133</td>\n",
              "      <td>/a/</td>\n",
              "      <td>0.149992</td>\n",
              "    </tr>\n",
              "    <tr>\n",
              "      <th>2</th>\n",
              "      <td>1.724916</td>\n",
              "      <td>1.826382</td>\n",
              "      <td>/a/</td>\n",
              "      <td>0.101466</td>\n",
              "    </tr>\n",
              "    <tr>\n",
              "      <th>3</th>\n",
              "      <td>2.726327</td>\n",
              "      <td>2.876331</td>\n",
              "      <td>/i/</td>\n",
              "      <td>0.150004</td>\n",
              "    </tr>\n",
              "    <tr>\n",
              "      <th>4</th>\n",
              "      <td>3.335132</td>\n",
              "      <td>3.493948</td>\n",
              "      <td>/i/</td>\n",
              "      <td>0.158816</td>\n",
              "    </tr>\n",
              "    <tr>\n",
              "      <th>...</th>\n",
              "      <td>...</td>\n",
              "      <td>...</td>\n",
              "      <td>...</td>\n",
              "      <td>...</td>\n",
              "    </tr>\n",
              "    <tr>\n",
              "      <th>1</th>\n",
              "      <td>0.309677</td>\n",
              "      <td>0.415496</td>\n",
              "      <td>/i/</td>\n",
              "      <td>0.105819</td>\n",
              "    </tr>\n",
              "    <tr>\n",
              "      <th>2</th>\n",
              "      <td>0.961652</td>\n",
              "      <td>0.995623</td>\n",
              "      <td>/i/</td>\n",
              "      <td>0.033971</td>\n",
              "    </tr>\n",
              "    <tr>\n",
              "      <th>3</th>\n",
              "      <td>1.131509</td>\n",
              "      <td>1.178546</td>\n",
              "      <td>/u/</td>\n",
              "      <td>0.047037</td>\n",
              "    </tr>\n",
              "    <tr>\n",
              "      <th>4</th>\n",
              "      <td>1.270008</td>\n",
              "      <td>1.332724</td>\n",
              "      <td>/a/</td>\n",
              "      <td>0.062716</td>\n",
              "    </tr>\n",
              "    <tr>\n",
              "      <th>5</th>\n",
              "      <td>1.527406</td>\n",
              "      <td>1.625401</td>\n",
              "      <td>/o/</td>\n",
              "      <td>0.097995</td>\n",
              "    </tr>\n",
              "  </tbody>\n",
              "</table>\n",
              "<p>177 rows × 4 columns</p>\n",
              "</div>\n",
              "      <button class=\"colab-df-convert\" onclick=\"convertToInteractive('df-c427a2ef-4800-4098-a131-7e49069301da')\"\n",
              "              title=\"Convert this dataframe to an interactive table.\"\n",
              "              style=\"display:none;\">\n",
              "        \n",
              "  <svg xmlns=\"http://www.w3.org/2000/svg\" height=\"24px\"viewBox=\"0 0 24 24\"\n",
              "       width=\"24px\">\n",
              "    <path d=\"M0 0h24v24H0V0z\" fill=\"none\"/>\n",
              "    <path d=\"M18.56 5.44l.94 2.06.94-2.06 2.06-.94-2.06-.94-.94-2.06-.94 2.06-2.06.94zm-11 1L8.5 8.5l.94-2.06 2.06-.94-2.06-.94L8.5 2.5l-.94 2.06-2.06.94zm10 10l.94 2.06.94-2.06 2.06-.94-2.06-.94-.94-2.06-.94 2.06-2.06.94z\"/><path d=\"M17.41 7.96l-1.37-1.37c-.4-.4-.92-.59-1.43-.59-.52 0-1.04.2-1.43.59L10.3 9.45l-7.72 7.72c-.78.78-.78 2.05 0 2.83L4 21.41c.39.39.9.59 1.41.59.51 0 1.02-.2 1.41-.59l7.78-7.78 2.81-2.81c.8-.78.8-2.07 0-2.86zM5.41 20L4 18.59l7.72-7.72 1.47 1.35L5.41 20z\"/>\n",
              "  </svg>\n",
              "      </button>\n",
              "      \n",
              "  <style>\n",
              "    .colab-df-container {\n",
              "      display:flex;\n",
              "      flex-wrap:wrap;\n",
              "      gap: 12px;\n",
              "    }\n",
              "\n",
              "    .colab-df-convert {\n",
              "      background-color: #E8F0FE;\n",
              "      border: none;\n",
              "      border-radius: 50%;\n",
              "      cursor: pointer;\n",
              "      display: none;\n",
              "      fill: #1967D2;\n",
              "      height: 32px;\n",
              "      padding: 0 0 0 0;\n",
              "      width: 32px;\n",
              "    }\n",
              "\n",
              "    .colab-df-convert:hover {\n",
              "      background-color: #E2EBFA;\n",
              "      box-shadow: 0px 1px 2px rgba(60, 64, 67, 0.3), 0px 1px 3px 1px rgba(60, 64, 67, 0.15);\n",
              "      fill: #174EA6;\n",
              "    }\n",
              "\n",
              "    [theme=dark] .colab-df-convert {\n",
              "      background-color: #3B4455;\n",
              "      fill: #D2E3FC;\n",
              "    }\n",
              "\n",
              "    [theme=dark] .colab-df-convert:hover {\n",
              "      background-color: #434B5C;\n",
              "      box-shadow: 0px 1px 3px 1px rgba(0, 0, 0, 0.15);\n",
              "      filter: drop-shadow(0px 1px 2px rgba(0, 0, 0, 0.3));\n",
              "      fill: #FFFFFF;\n",
              "    }\n",
              "  </style>\n",
              "\n",
              "      <script>\n",
              "        const buttonEl =\n",
              "          document.querySelector('#df-c427a2ef-4800-4098-a131-7e49069301da button.colab-df-convert');\n",
              "        buttonEl.style.display =\n",
              "          google.colab.kernel.accessAllowed ? 'block' : 'none';\n",
              "\n",
              "        async function convertToInteractive(key) {\n",
              "          const element = document.querySelector('#df-c427a2ef-4800-4098-a131-7e49069301da');\n",
              "          const dataTable =\n",
              "            await google.colab.kernel.invokeFunction('convertToInteractive',\n",
              "                                                     [key], {});\n",
              "          if (!dataTable) return;\n",
              "\n",
              "          const docLinkHtml = 'Like what you see? Visit the ' +\n",
              "            '<a target=\"_blank\" href=https://colab.research.google.com/notebooks/data_table.ipynb>data table notebook</a>'\n",
              "            + ' to learn more about interactive tables.';\n",
              "          element.innerHTML = '';\n",
              "          dataTable['output_type'] = 'display_data';\n",
              "          await google.colab.output.renderOutput(dataTable, element);\n",
              "          const docLink = document.createElement('div');\n",
              "          docLink.innerHTML = docLinkHtml;\n",
              "          element.appendChild(docLink);\n",
              "        }\n",
              "      </script>\n",
              "    </div>\n",
              "  </div>\n",
              "  "
            ]
          },
          "metadata": {},
          "execution_count": 111
        }
      ]
    },
    {
      "cell_type": "code",
      "source": [
        "voweldf['vowels'].unique()"
      ],
      "metadata": {
        "colab": {
          "base_uri": "https://localhost:8080/"
        },
        "id": "sd07qFfhNAuN",
        "outputId": "588b5068-4ece-41c4-da6f-2c6e4d113317"
      },
      "execution_count": 112,
      "outputs": [
        {
          "output_type": "execute_result",
          "data": {
            "text/plain": [
              "array(['/i/', '/a/', '/o/', '/u/', '/e/'], dtype=object)"
            ]
          },
          "metadata": {},
          "execution_count": 112
        }
      ]
    },
    {
      "cell_type": "markdown",
      "source": [
        "vowel_a = voweldf[voweldf[vowels]=='/a/')]"
      ],
      "metadata": {
        "id": "E1GQKTwiRPb9"
      }
    },
    {
      "cell_type": "code",
      "source": [
        "vowel_a = voweldf[voweldf['vowels']=='/a/']\n"
      ],
      "metadata": {
        "id": "aFiqjF3ONAzG"
      },
      "execution_count": 113,
      "outputs": []
    },
    {
      "cell_type": "code",
      "source": [
        "bins_width= (vowel_a['duration'].max()-vowel_a['duration'].min())/6\n",
        "bins_width"
      ],
      "metadata": {
        "colab": {
          "base_uri": "https://localhost:8080/"
        },
        "id": "1HaQCINwTevC",
        "outputId": "9e4a98ab-760c-4a24-8a35-f55230a11556"
      },
      "execution_count": 114,
      "outputs": [
        {
          "output_type": "execute_result",
          "data": {
            "text/plain": [
              "0.040712333333333274"
            ]
          },
          "metadata": {},
          "execution_count": 114
        }
      ]
    },
    {
      "cell_type": "code",
      "source": [
        "plt.hist(vowel_a['duration'], bins=6)\n",
        "plt.title('Duration Histogram for /a/')"
      ],
      "metadata": {
        "colab": {
          "base_uri": "https://localhost:8080/",
          "height": 298
        },
        "id": "JBhuU2l4UMh0",
        "outputId": "3ac360f7-70b5-4107-8cb6-fb001f3f0861"
      },
      "execution_count": 115,
      "outputs": [
        {
          "output_type": "execute_result",
          "data": {
            "text/plain": [
              "Text(0.5, 1.0, 'Duration Histogram for /a/')"
            ]
          },
          "metadata": {},
          "execution_count": 115
        },
        {
          "output_type": "display_data",
          "data": {
            "text/plain": [
              "<Figure size 432x288 with 1 Axes>"
            ],
            "image/png": "[encoded data removed]"
          },
          "metadata": {
            "needs_background": "light"
          }
        }
      ]
    },
    {
      "cell_type": "code",
      "source": [
        "pip install -U klib"
      ],
      "metadata": {
        "colab": {
          "base_uri": "https://localhost:8080/"
        },
        "id": "sNmlaRXFJZy5",
        "outputId": "bcf6884c-a2fa-48fc-de7f-1d70bcea8ba2"
      },
      "execution_count": 163,
      "outputs": [
        {
          "output_type": "stream",
          "name": "stdout",
          "text": [
            "Looking in indexes: https://pypi.org/simple, https://us-python.pkg.dev/colab-wheels/public/simple/\n",
            "Collecting klib\n",
            "  Downloading klib-1.0.7-py3-none-any.whl (20 kB)\n",
            "Requirement already satisfied: pandas<2.0.0,>=1.2.0 in /usr/local/lib/python3.8/dist-packages (from klib) (1.3.5)\n",
            "Requirement already satisfied: scipy<2.0.0,>=1.1.0 in /usr/local/lib/python3.8/dist-packages (from klib) (1.7.3)\n",
            "Requirement already satisfied: matplotlib<4.0.0,>=3.0.3 in /usr/local/lib/python3.8/dist-packages (from klib) (3.2.2)\n",
            "Requirement already satisfied: seaborn<0.13.0,>=0.11.2 in /usr/local/lib/python3.8/dist-packages (from klib) (0.11.2)\n",
            "Requirement already satisfied: numpy<2.0.0,>=1.16.3 in /usr/local/lib/python3.8/dist-packages (from klib) (1.21.6)\n",
            "Collecting Jinja2<4.0.0,>=3.0.3\n",
            "  Downloading Jinja2-3.1.2-py3-none-any.whl (133 kB)\n",
            "\u001b[2K     \u001b[90m━━━━━━━━━━━━━━━━━━━━━━━━━━━━━━━━━━━━━━━\u001b[0m \u001b[32m133.1/133.1 KB\u001b[0m \u001b[31m7.4 MB/s\u001b[0m eta \u001b[36m0:00:00\u001b[0m\n",
            "\u001b[?25hRequirement already satisfied: MarkupSafe>=2.0 in /usr/local/lib/python3.8/dist-packages (from Jinja2<4.0.0,>=3.0.3->klib) (2.0.1)\n",
            "Requirement already satisfied: cycler>=0.10 in /usr/local/lib/python3.8/dist-packages (from matplotlib<4.0.0,>=3.0.3->klib) (0.11.0)\n",
            "Requirement already satisfied: python-dateutil>=2.1 in /usr/local/lib/python3.8/dist-packages (from matplotlib<4.0.0,>=3.0.3->klib) (2.8.2)\n",
            "Requirement already satisfied: pyparsing!=2.0.4,!=2.1.2,!=2.1.6,>=2.0.1 in /usr/local/lib/python3.8/dist-packages (from matplotlib<4.0.0,>=3.0.3->klib) (3.0.9)\n",
            "Requirement already satisfied: kiwisolver>=1.0.1 in /usr/local/lib/python3.8/dist-packages (from matplotlib<4.0.0,>=3.0.3->klib) (1.4.4)\n",
            "Requirement already satisfied: pytz>=2017.3 in /usr/local/lib/python3.8/dist-packages (from pandas<2.0.0,>=1.2.0->klib) (2022.7)\n",
            "Requirement already satisfied: six>=1.5 in /usr/local/lib/python3.8/dist-packages (from python-dateutil>=2.1->matplotlib<4.0.0,>=3.0.3->klib) (1.15.0)\n",
            "Installing collected packages: Jinja2, klib\n",
            "  Attempting uninstall: Jinja2\n",
            "    Found existing installation: Jinja2 2.11.3\n",
            "    Uninstalling Jinja2-2.11.3:\n",
            "      Successfully uninstalled Jinja2-2.11.3\n",
            "\u001b[31mERROR: pip's dependency resolver does not currently take into account all the packages that are installed. This behaviour is the source of the following dependency conflicts.\n",
            "notebook 5.7.16 requires jinja2<=3.0.0, but you have jinja2 3.1.2 which is incompatible.\n",
            "flask 1.1.4 requires Jinja2<3.0,>=2.10.1, but you have jinja2 3.1.2 which is incompatible.\u001b[0m\u001b[31m\n",
            "\u001b[0mSuccessfully installed Jinja2-3.1.2 klib-1.0.7\n"
          ]
        }
      ]
    },
    {
      "cell_type": "code",
      "source": [
        "import klib\n",
        "klib.dist_plot(vowel_a['duration'])"
      ],
      "metadata": {
        "colab": {
          "base_uri": "https://localhost:8080/",
          "height": 242
        },
        "id": "MHvBLpoWKSys",
        "outputId": "24850267-20a8-4316-81f3-e62337b902e2"
      },
      "execution_count": 164,
      "outputs": [
        {
          "output_type": "execute_result",
          "data": {
            "text/plain": [
              "<matplotlib.axes._subplots.AxesSubplot at 0x7f1698f56e80>"
            ]
          },
          "metadata": {},
          "execution_count": 164
        },
        {
          "output_type": "display_data",
          "data": {
            "text/plain": [
              "<Figure size 1080x216 with 1 Axes>"
            ],
            "image/png": "[encoded data removed]"
          },
          "metadata": {
            "needs_background": "light"
          }
        }
      ]
    },
    {
      "cell_type": "code",
      "source": [
        "vowel_e = voweldf[voweldf['vowels']=='/e/']\n",
        "plt.hist(vowel_e['duration'], bins=6)\n",
        "plt.title('Duration Histogram for /e/')\n",
        "klib.dist_plot(vowel_e['duration'])"
      ],
      "metadata": {
        "colab": {
          "base_uri": "https://localhost:8080/",
          "height": 506
        },
        "id": "mDrmhNudNA2p",
        "outputId": "b9384473-ed75-4fd1-8759-affb92a541b1"
      },
      "execution_count": 168,
      "outputs": [
        {
          "output_type": "execute_result",
          "data": {
            "text/plain": [
              "<matplotlib.axes._subplots.AxesSubplot at 0x7f16a3193700>"
            ]
          },
          "metadata": {},
          "execution_count": 168
        },
        {
          "output_type": "display_data",
          "data": {
            "text/plain": [
              "<Figure size 432x288 with 1 Axes>"
            ],
            "image/png": "[encoded data removed]"
          },
          "metadata": {
            "needs_background": "light"
          }
        },
        {
          "output_type": "display_data",
          "data": {
            "text/plain": [
              "<Figure size 1080x216 with 1 Axes>"
            ],
            "image/png": "[encoded data removed]"
          },
          "metadata": {
            "needs_background": "light"
          }
        }
      ]
    },
    {
      "cell_type": "code",
      "source": [
        "vowel_i = voweldf[voweldf['vowels']=='/i/']\n",
        "plt.hist(vowel_i['duration'], bins=6)\n",
        "plt.title('Duration Histogram for /i/')\n",
        "klib.dist_plot(vowel_i['duration'])"
      ],
      "metadata": {
        "colab": {
          "base_uri": "https://localhost:8080/",
          "height": 506
        },
        "id": "SpVny8elNA5S",
        "outputId": "7fc474c0-920b-47ad-c733-2bd307f2a2b3"
      },
      "execution_count": 169,
      "outputs": [
        {
          "output_type": "execute_result",
          "data": {
            "text/plain": [
              "<matplotlib.axes._subplots.AxesSubplot at 0x7f169ba46a90>"
            ]
          },
          "metadata": {},
          "execution_count": 169
        },
        {
          "output_type": "display_data",
          "data": {
            "text/plain": [
              "<Figure size 432x288 with 1 Axes>"
            ],
            "image/png": "[encoded data removed]"
          },
          "metadata": {
            "needs_background": "light"
          }
        },
        {
          "output_type": "display_data",
          "data": {
            "text/plain": [
              "<Figure size 1080x216 with 1 Axes>"
            ],
            "image/png": "[encoded data removed]"
          },
          "metadata": {
            "needs_background": "light"
          }
        }
      ]
    },
    {
      "cell_type": "code",
      "source": [
        "vowel_o = voweldf[voweldf['vowels']=='/o/']\n",
        "plt.hist(vowel_o['duration'], bins=6)\n",
        "plt.title('Duration Histogram for /o/')\n",
        "klib.dist_plot(vowel_o['duration'])"
      ],
      "metadata": {
        "colab": {
          "base_uri": "https://localhost:8080/",
          "height": 506
        },
        "id": "6VXKPCd-NA7q",
        "outputId": "335c431c-0309-4775-8830-c1e7ea738c19"
      },
      "execution_count": 170,
      "outputs": [
        {
          "output_type": "execute_result",
          "data": {
            "text/plain": [
              "<matplotlib.axes._subplots.AxesSubplot at 0x7f169966cbe0>"
            ]
          },
          "metadata": {},
          "execution_count": 170
        },
        {
          "output_type": "display_data",
          "data": {
            "text/plain": [
              "<Figure size 432x288 with 1 Axes>"
            ],
            "image/png": "[encoded data removed]"
          },
          "metadata": {
            "needs_background": "light"
          }
        },
        {
          "output_type": "display_data",
          "data": {
            "text/plain": [
              "<Figure size 1080x216 with 1 Axes>"
            ],
            "image/png": "[encoded data removed]"
          },
          "metadata": {
            "needs_background": "light"
          }
        }
      ]
    },
    {
      "cell_type": "code",
      "source": [
        "vowel_u = voweldf[voweldf['vowels']=='/u/']\n",
        "plt.hist(vowel_u['duration'], bins=6)\n",
        "plt.title('Duration Histogram for /u/')\n",
        "klib.dist_plot(vowel_u['duration'])"
      ],
      "metadata": {
        "colab": {
          "base_uri": "https://localhost:8080/",
          "height": 506
        },
        "id": "0Vlf6hKDNA_B",
        "outputId": "71e3a7d1-f84b-4ab2-e320-c007cd7a1c4c"
      },
      "execution_count": 171,
      "outputs": [
        {
          "output_type": "execute_result",
          "data": {
            "text/plain": [
              "<matplotlib.axes._subplots.AxesSubplot at 0x7f1696bd2880>"
            ]
          },
          "metadata": {},
          "execution_count": 171
        },
        {
          "output_type": "display_data",
          "data": {
            "text/plain": [
              "<Figure size 432x288 with 1 Axes>"
            ],
            "image/png": "[encoded data removed]"
          },
          "metadata": {
            "needs_background": "light"
          }
        },
        {
          "output_type": "display_data",
          "data": {
            "text/plain": [
              "<Figure size 1080x216 with 1 Axes>"
            ],
            "image/png": "[encoded data removed]"
          },
          "metadata": {
            "needs_background": "light"
          }
        }
      ]
    },
    {
      "cell_type": "markdown",
      "source": [
        "## Duration Histogram for syallbles"
      ],
      "metadata": {
        "id": "mz27IEk8xu9b"
      }
    },
    {
      "cell_type": "code",
      "source": [
        "dsf=[ds1,ds2,ds3,ds4,ds5,ds6,ds7,ds8,ds9,ds10,ds11,ds12,ds13,ds14,ds15,ds16,ds17,ds18,ds19,ds20]\n",
        "syllable_df=pd.concat(dsf)\n",
        "syllable_df['duration'] = syllable_df.apply(lambda x: x['end'] - x['start'], axis=1)\n",
        "syllable_df.head()"
      ],
      "metadata": {
        "colab": {
          "base_uri": "https://localhost:8080/",
          "height": 206
        },
        "id": "sHRHwZxpagnp",
        "outputId": "3c771875-6fa9-40f9-b619-61596f2c98e9"
      },
      "execution_count": 120,
      "outputs": [
        {
          "output_type": "execute_result",
          "data": {
            "text/plain": [
              "      start       end syllables  duration\n",
              "0  1.257231  1.549610       she  0.292379\n",
              "1  1.549610  1.754276       had  0.204666\n",
              "2  1.777666  2.087588      your  0.309922\n",
              "3  2.087588  2.450138      dark  0.362550\n",
              "4  2.450138  2.859469      suit  0.409331"
            ],
            "text/html": [
              "\n",
              "  <div id=\"df-72a1f1d3-2919-4974-bec0-9efa95ee9b9e\">\n",
              "    <div class=\"colab-df-container\">\n",
              "      <div>\n",
              "<style scoped>\n",
              "    .dataframe tbody tr th:only-of-type {\n",
              "        vertical-align: middle;\n",
              "    }\n",
              "\n",
              "    .dataframe tbody tr th {\n",
              "        vertical-align: top;\n",
              "    }\n",
              "\n",
              "    .dataframe thead th {\n",
              "        text-align: right;\n",
              "    }\n",
              "</style>\n",
              "<table border=\"1\" class=\"dataframe\">\n",
              "  <thead>\n",
              "    <tr style=\"text-align: right;\">\n",
              "      <th></th>\n",
              "      <th>start</th>\n",
              "      <th>end</th>\n",
              "      <th>syllables</th>\n",
              "      <th>duration</th>\n",
              "    </tr>\n",
              "  </thead>\n",
              "  <tbody>\n",
              "    <tr>\n",
              "      <th>0</th>\n",
              "      <td>1.257231</td>\n",
              "      <td>1.549610</td>\n",
              "      <td>she</td>\n",
              "      <td>0.292379</td>\n",
              "    </tr>\n",
              "    <tr>\n",
              "      <th>1</th>\n",
              "      <td>1.549610</td>\n",
              "      <td>1.754276</td>\n",
              "      <td>had</td>\n",
              "      <td>0.204666</td>\n",
              "    </tr>\n",
              "    <tr>\n",
              "      <th>2</th>\n",
              "      <td>1.777666</td>\n",
              "      <td>2.087588</td>\n",
              "      <td>your</td>\n",
              "      <td>0.309922</td>\n",
              "    </tr>\n",
              "    <tr>\n",
              "      <th>3</th>\n",
              "      <td>2.087588</td>\n",
              "      <td>2.450138</td>\n",
              "      <td>dark</td>\n",
              "      <td>0.362550</td>\n",
              "    </tr>\n",
              "    <tr>\n",
              "      <th>4</th>\n",
              "      <td>2.450138</td>\n",
              "      <td>2.859469</td>\n",
              "      <td>suit</td>\n",
              "      <td>0.409331</td>\n",
              "    </tr>\n",
              "  </tbody>\n",
              "</table>\n",
              "</div>\n",
              "      <button class=\"colab-df-convert\" onclick=\"convertToInteractive('df-72a1f1d3-2919-4974-bec0-9efa95ee9b9e')\"\n",
              "              title=\"Convert this dataframe to an interactive table.\"\n",
              "              style=\"display:none;\">\n",
              "        \n",
              "  <svg xmlns=\"http://www.w3.org/2000/svg\" height=\"24px\"viewBox=\"0 0 24 24\"\n",
              "       width=\"24px\">\n",
              "    <path d=\"M0 0h24v24H0V0z\" fill=\"none\"/>\n",
              "    <path d=\"M18.56 5.44l.94 2.06.94-2.06 2.06-.94-2.06-.94-.94-2.06-.94 2.06-2.06.94zm-11 1L8.5 8.5l.94-2.06 2.06-.94-2.06-.94L8.5 2.5l-.94 2.06-2.06.94zm10 10l.94 2.06.94-2.06 2.06-.94-2.06-.94-.94-2.06-.94 2.06-2.06.94z\"/><path d=\"M17.41 7.96l-1.37-1.37c-.4-.4-.92-.59-1.43-.59-.52 0-1.04.2-1.43.59L10.3 9.45l-7.72 7.72c-.78.78-.78 2.05 0 2.83L4 21.41c.39.39.9.59 1.41.59.51 0 1.02-.2 1.41-.59l7.78-7.78 2.81-2.81c.8-.78.8-2.07 0-2.86zM5.41 20L4 18.59l7.72-7.72 1.47 1.35L5.41 20z\"/>\n",
              "  </svg>\n",
              "      </button>\n",
              "      \n",
              "  <style>\n",
              "    .colab-df-container {\n",
              "      display:flex;\n",
              "      flex-wrap:wrap;\n",
              "      gap: 12px;\n",
              "    }\n",
              "\n",
              "    .colab-df-convert {\n",
              "      background-color: #E8F0FE;\n",
              "      border: none;\n",
              "      border-radius: 50%;\n",
              "      cursor: pointer;\n",
              "      display: none;\n",
              "      fill: #1967D2;\n",
              "      height: 32px;\n",
              "      padding: 0 0 0 0;\n",
              "      width: 32px;\n",
              "    }\n",
              "\n",
              "    .colab-df-convert:hover {\n",
              "      background-color: #E2EBFA;\n",
              "      box-shadow: 0px 1px 2px rgba(60, 64, 67, 0.3), 0px 1px 3px 1px rgba(60, 64, 67, 0.15);\n",
              "      fill: #174EA6;\n",
              "    }\n",
              "\n",
              "    [theme=dark] .colab-df-convert {\n",
              "      background-color: #3B4455;\n",
              "      fill: #D2E3FC;\n",
              "    }\n",
              "\n",
              "    [theme=dark] .colab-df-convert:hover {\n",
              "      background-color: #434B5C;\n",
              "      box-shadow: 0px 1px 3px 1px rgba(0, 0, 0, 0.15);\n",
              "      filter: drop-shadow(0px 1px 2px rgba(0, 0, 0, 0.3));\n",
              "      fill: #FFFFFF;\n",
              "    }\n",
              "  </style>\n",
              "\n",
              "      <script>\n",
              "        const buttonEl =\n",
              "          document.querySelector('#df-72a1f1d3-2919-4974-bec0-9efa95ee9b9e button.colab-df-convert');\n",
              "        buttonEl.style.display =\n",
              "          google.colab.kernel.accessAllowed ? 'block' : 'none';\n",
              "\n",
              "        async function convertToInteractive(key) {\n",
              "          const element = document.querySelector('#df-72a1f1d3-2919-4974-bec0-9efa95ee9b9e');\n",
              "          const dataTable =\n",
              "            await google.colab.kernel.invokeFunction('convertToInteractive',\n",
              "                                                     [key], {});\n",
              "          if (!dataTable) return;\n",
              "\n",
              "          const docLinkHtml = 'Like what you see? Visit the ' +\n",
              "            '<a target=\"_blank\" href=https://colab.research.google.com/notebooks/data_table.ipynb>data table notebook</a>'\n",
              "            + ' to learn more about interactive tables.';\n",
              "          element.innerHTML = '';\n",
              "          dataTable['output_type'] = 'display_data';\n",
              "          await google.colab.output.renderOutput(dataTable, element);\n",
              "          const docLink = document.createElement('div');\n",
              "          docLink.innerHTML = docLinkHtml;\n",
              "          element.appendChild(docLink);\n",
              "        }\n",
              "      </script>\n",
              "    </div>\n",
              "  </div>\n",
              "  "
            ]
          },
          "metadata": {},
          "execution_count": 120
        }
      ]
    },
    {
      "cell_type": "code",
      "source": [
        "syllable_df.shape"
      ],
      "metadata": {
        "colab": {
          "base_uri": "https://localhost:8080/"
        },
        "id": "FAgYgFziceP5",
        "outputId": "6a73670a-f72f-4381-fa0a-4961fba07c70"
      },
      "execution_count": 121,
      "outputs": [
        {
          "output_type": "execute_result",
          "data": {
            "text/plain": [
              "(208, 4)"
            ]
          },
          "metadata": {},
          "execution_count": 121
        }
      ]
    },
    {
      "cell_type": "code",
      "source": [
        "syllable_df['syllables'].unique()"
      ],
      "metadata": {
        "colab": {
          "base_uri": "https://localhost:8080/"
        },
        "id": "XSi7whSvbh9A",
        "outputId": "75bfccab-151f-4c15-ca37-35cb2954a228"
      },
      "execution_count": 122,
      "outputs": [
        {
          "output_type": "execute_result",
          "data": {
            "text/plain": [
              "array(['she', 'had', 'your', 'dark', 'suit', 'in', 'gri', 'siy', 'wash',\n",
              "       'wa', 'ter', 'all', 'year', 'dont', 'ask', 'me', 'to', 'car',\n",
              "       'riy', 'an', 'oi', 'liy', 'rag', 'laik', 'that', 'this', 'was',\n",
              "       'ea', 'for', 'us', 'wher', 'wer', 'you', 'vil', 'we', 'a', 'way',\n",
              "       'the', 'mu', 'se', 'um', 'hai', 'ers', 'si', 'ci', 'ans', 'ev',\n",
              "       'ry', 'ning', 'berth', 'day', 'par', 'ties', 'hav', 'cup', 'keks',\n",
              "       'and', 'ais', 'crim', 'briks', 'ar', 'al', 'na', 'tiv', 'pab',\n",
              "       'li', 'tiy', 'no', 'ri', 'go', 'hand', 'lu', 'mi', 'num', 'sil',\n",
              "       'ver', 'can ', 'of', 'ten', 'be', 'flim', 'sy', 'can', 'is', 'ao',\n",
              "       'er', 'sin', 'gu', 'lar', 'gol'], dtype=object)"
            ]
          },
          "metadata": {},
          "execution_count": 122
        }
      ]
    },
    {
      "cell_type": "code",
      "source": [
        "import seaborn as sns\n",
        "sns.histplot(syllable_df['duration'], bins= 90, kde=True).set_title(\"Duration histogram for syllables\")\n"
      ],
      "metadata": {
        "colab": {
          "base_uri": "https://localhost:8080/",
          "height": 312
        },
        "id": "vmv4FVGybiIx",
        "outputId": "3b234288-0bf4-4184-8c63-68c00f69f2e3"
      },
      "execution_count": 123,
      "outputs": [
        {
          "output_type": "execute_result",
          "data": {
            "text/plain": [
              "Text(0.5, 1.0, 'Duration histogram for syllables')"
            ]
          },
          "metadata": {},
          "execution_count": 123
        },
        {
          "output_type": "display_data",
          "data": {
            "text/plain": [
              "<Figure size 432x288 with 1 Axes>"
            ],
            "image/png": "[encoded data removed]"
          },
          "metadata": {
            "needs_background": "light"
          }
        }
      ]
    },
    {
      "cell_type": "markdown",
      "source": [
        "## Syallable rate\n"
      ],
      "metadata": {
        "id": "uiQq0-c8evCO"
      }
    },
    {
      "cell_type": "code",
      "source": [
        "ds1['duration'] = ds1.apply(lambda x: x['end'] - x['start'], axis=1)\n",
        "ds1_sr = ds1['syllables'].count()/ds1['duration'].sum()\n",
        "ds1_sr"
      ],
      "metadata": {
        "colab": {
          "base_uri": "https://localhost:8080/"
        },
        "id": "JaTukT5DiwTe",
        "outputId": "87496ae2-b27c-414d-89cf-d498827ac3bd"
      },
      "execution_count": 124,
      "outputs": [
        {
          "output_type": "execute_result",
          "data": {
            "text/plain": [
              "3.5973134156546225"
            ]
          },
          "metadata": {},
          "execution_count": 124
        }
      ]
    },
    {
      "cell_type": "code",
      "source": [
        "ds2['duration'] = ds2.apply(lambda x: x['end'] - x['start'], axis=1)\n",
        "ds2_sr = ds2['syllables'].count()/ds2['duration'].sum()\n",
        "ds2_sr"
      ],
      "metadata": {
        "colab": {
          "base_uri": "https://localhost:8080/"
        },
        "id": "vWZiK-WfQbrN",
        "outputId": "569add5c-f894-463c-b09e-cec2694bfaf8"
      },
      "execution_count": 125,
      "outputs": [
        {
          "output_type": "execute_result",
          "data": {
            "text/plain": [
              "4.245464945359233"
            ]
          },
          "metadata": {},
          "execution_count": 125
        }
      ]
    },
    {
      "cell_type": "code",
      "source": [
        "ds3['duration'] = ds3.apply(lambda x: x['end'] - x['start'], axis=1)\n",
        "ds3_sr = ds3['syllables'].count()/ds3['duration'].sum()\n",
        "ds3_sr"
      ],
      "metadata": {
        "colab": {
          "base_uri": "https://localhost:8080/"
        },
        "id": "mPs6ozONiwe4",
        "outputId": "7ab2cf8c-2b4e-464c-e053-9990e1530222"
      },
      "execution_count": 126,
      "outputs": [
        {
          "output_type": "execute_result",
          "data": {
            "text/plain": [
              "4.414981799237533"
            ]
          },
          "metadata": {},
          "execution_count": 126
        }
      ]
    },
    {
      "cell_type": "code",
      "source": [
        "ds4['duration'] = ds4.apply(lambda x: x['end'] - x['start'], axis=1)\n",
        "ds4_sr = ds4['syllables'].count()/ds4['duration'].sum()\n",
        "ds4_sr"
      ],
      "metadata": {
        "colab": {
          "base_uri": "https://localhost:8080/"
        },
        "id": "YGLUkFNeSpTo",
        "outputId": "358fe392-3e79-48d5-c9ee-86c07c0cc5fe"
      },
      "execution_count": 127,
      "outputs": [
        {
          "output_type": "execute_result",
          "data": {
            "text/plain": [
              "4.687296761741972"
            ]
          },
          "metadata": {},
          "execution_count": 127
        }
      ]
    },
    {
      "cell_type": "code",
      "source": [
        "ds5['duration'] = ds5.apply(lambda x: x['end'] - x['start'], axis=1)\n",
        "ds5_sr = ds5['syllables'].count()/ds5['duration'].sum()\n",
        "ds5_sr"
      ],
      "metadata": {
        "colab": {
          "base_uri": "https://localhost:8080/"
        },
        "id": "ePRlJZRhStVv",
        "outputId": "d974699e-f744-4693-ecc4-93337311120e"
      },
      "execution_count": 128,
      "outputs": [
        {
          "output_type": "execute_result",
          "data": {
            "text/plain": [
              "4.011097369388642"
            ]
          },
          "metadata": {},
          "execution_count": 128
        }
      ]
    },
    {
      "cell_type": "code",
      "source": [
        "ds6['duration'] = ds6.apply(lambda x: x['end'] - x['start'], axis=1)\n",
        "ds6_sr = ds6['syllables'].count()/ds6['duration'].sum()\n",
        "ds6_sr"
      ],
      "metadata": {
        "colab": {
          "base_uri": "https://localhost:8080/"
        },
        "id": "CcTtro2XStfS",
        "outputId": "86ef2f9c-b8d1-438f-d5ba-ef96ed42a99f"
      },
      "execution_count": 129,
      "outputs": [
        {
          "output_type": "execute_result",
          "data": {
            "text/plain": [
              "4.915973719204498"
            ]
          },
          "metadata": {},
          "execution_count": 129
        }
      ]
    },
    {
      "cell_type": "code",
      "source": [
        "ds7['duration'] = ds7.apply(lambda x: x['end'] - x['start'], axis=1)\n",
        "ds7_sr = ds7['syllables'].count()/ds7['duration'].sum()\n",
        "ds7_sr"
      ],
      "metadata": {
        "colab": {
          "base_uri": "https://localhost:8080/"
        },
        "id": "uGWDY0gTStn9",
        "outputId": "36d0cd3f-b9a4-4821-9618-5f059f070cfe"
      },
      "execution_count": 130,
      "outputs": [
        {
          "output_type": "execute_result",
          "data": {
            "text/plain": [
              "5.417525287992257"
            ]
          },
          "metadata": {},
          "execution_count": 130
        }
      ]
    },
    {
      "cell_type": "code",
      "source": [
        "ds8['duration'] = ds8.apply(lambda x: x['end'] - x['start'], axis=1)\n",
        "ds8_sr = ds8['syllables'].count()/ds8['duration'].sum()\n",
        "ds8_sr"
      ],
      "metadata": {
        "colab": {
          "base_uri": "https://localhost:8080/"
        },
        "id": "GPKTIlbuStwl",
        "outputId": "2de59f42-2ba9-4298-d4c0-07b3119b7c63"
      },
      "execution_count": 131,
      "outputs": [
        {
          "output_type": "execute_result",
          "data": {
            "text/plain": [
              "4.59627207862383"
            ]
          },
          "metadata": {},
          "execution_count": 131
        }
      ]
    },
    {
      "cell_type": "code",
      "source": [
        "ds9['duration'] = ds9.apply(lambda x: x['end'] - x['start'], axis=1)\n",
        "ds9_sr = ds9['syllables'].count()/ds9['duration'].sum()\n",
        "ds9_sr"
      ],
      "metadata": {
        "colab": {
          "base_uri": "https://localhost:8080/"
        },
        "id": "OkbyB1DrSuCd",
        "outputId": "2c1e1646-64d0-45b6-9353-a9e3677c4908"
      },
      "execution_count": 132,
      "outputs": [
        {
          "output_type": "execute_result",
          "data": {
            "text/plain": [
              "4.557977143698043"
            ]
          },
          "metadata": {},
          "execution_count": 132
        }
      ]
    },
    {
      "cell_type": "code",
      "source": [
        "ds10['duration'] = ds10.apply(lambda x: x['end'] - x['start'], axis=1)\n",
        "ds10_sr = ds10['syllables'].count()/ds10['duration'].sum()\n",
        "ds10_sr"
      ],
      "metadata": {
        "colab": {
          "base_uri": "https://localhost:8080/"
        },
        "id": "ioc6DO8QSpdk",
        "outputId": "f39708e5-8177-452f-b24d-e7b91e0dad60"
      },
      "execution_count": 133,
      "outputs": [
        {
          "output_type": "execute_result",
          "data": {
            "text/plain": [
              "4.422036651103204"
            ]
          },
          "metadata": {},
          "execution_count": 133
        }
      ]
    },
    {
      "cell_type": "code",
      "source": [
        "ds11['duration'] = ds11.apply(lambda x: x['end'] - x['start'], axis=1)\n",
        "ds11_sr = ds11['syllables'].count()/ds11['duration'].sum()\n",
        "ds11_sr"
      ],
      "metadata": {
        "colab": {
          "base_uri": "https://localhost:8080/"
        },
        "id": "ABZIOnkGSplc",
        "outputId": "49312127-3147-4c41-be94-c4110e399461"
      },
      "execution_count": 134,
      "outputs": [
        {
          "output_type": "execute_result",
          "data": {
            "text/plain": [
              "3.200484425322616"
            ]
          },
          "metadata": {},
          "execution_count": 134
        }
      ]
    },
    {
      "cell_type": "code",
      "source": [
        "ds12['duration'] = ds12.apply(lambda x: x['end'] - x['start'], axis=1)\n",
        "ds12_sr = ds12['syllables'].count()/ds12['duration'].sum()\n",
        "ds12_sr"
      ],
      "metadata": {
        "colab": {
          "base_uri": "https://localhost:8080/"
        },
        "id": "KCLJja3JSpst",
        "outputId": "dcbccac6-0625-4288-a4e8-a658f991727e"
      },
      "execution_count": 135,
      "outputs": [
        {
          "output_type": "execute_result",
          "data": {
            "text/plain": [
              "3.408765914249766"
            ]
          },
          "metadata": {},
          "execution_count": 135
        }
      ]
    },
    {
      "cell_type": "code",
      "source": [
        "ds13['duration'] = ds13.apply(lambda x: x['end'] - x['start'], axis=1)\n",
        "ds13_sr = ds13['syllables'].count()/ds13['duration'].sum()\n",
        "ds13_sr"
      ],
      "metadata": {
        "colab": {
          "base_uri": "https://localhost:8080/"
        },
        "id": "Il2F3NzTSp11",
        "outputId": "0298cf37-4ae1-4b09-eee4-5e3e18aec84c"
      },
      "execution_count": 136,
      "outputs": [
        {
          "output_type": "execute_result",
          "data": {
            "text/plain": [
              "4.4719433468662855"
            ]
          },
          "metadata": {},
          "execution_count": 136
        }
      ]
    },
    {
      "cell_type": "code",
      "source": [
        "ds14['duration'] = ds14.apply(lambda x: x['end'] - x['start'], axis=1)\n",
        "ds14_sr = ds14['syllables'].count()/ds14['duration'].sum()\n",
        "ds14_sr"
      ],
      "metadata": {
        "colab": {
          "base_uri": "https://localhost:8080/"
        },
        "id": "beIuLK8ySp9d",
        "outputId": "b8feb4be-ce24-4608-cbeb-1abb970815cd"
      },
      "execution_count": 137,
      "outputs": [
        {
          "output_type": "execute_result",
          "data": {
            "text/plain": [
              "3.8668734891572867"
            ]
          },
          "metadata": {},
          "execution_count": 137
        }
      ]
    },
    {
      "cell_type": "code",
      "source": [
        "ds15['duration'] = ds15.apply(lambda x: x['end'] - x['start'], axis=1)\n",
        "ds15_sr = ds15['syllables'].count()/ds15['duration'].sum()\n",
        "ds15_sr"
      ],
      "metadata": {
        "colab": {
          "base_uri": "https://localhost:8080/"
        },
        "id": "ygLUQwRMSqHe",
        "outputId": "ac545812-9dab-4678-d473-8b0a51d48391"
      },
      "execution_count": 138,
      "outputs": [
        {
          "output_type": "execute_result",
          "data": {
            "text/plain": [
              "4.8160188195196945"
            ]
          },
          "metadata": {},
          "execution_count": 138
        }
      ]
    },
    {
      "cell_type": "code",
      "source": [
        "ds16['duration'] = ds16.apply(lambda x: x['end'] - x['start'], axis=1)\n",
        "ds16_sr = ds16['syllables'].count()/ds16['duration'].sum()\n",
        "ds16_sr"
      ],
      "metadata": {
        "colab": {
          "base_uri": "https://localhost:8080/"
        },
        "id": "7tGu5oAVSqPu",
        "outputId": "23ac337d-21ac-4b06-8465-01f686d48366"
      },
      "execution_count": 139,
      "outputs": [
        {
          "output_type": "execute_result",
          "data": {
            "text/plain": [
              "4.722244824419673"
            ]
          },
          "metadata": {},
          "execution_count": 139
        }
      ]
    },
    {
      "cell_type": "code",
      "source": [
        "ds17['duration'] = ds17.apply(lambda x: x['end'] - x['start'], axis=1)\n",
        "ds17_sr = ds17['syllables'].count()/ds17['duration'].sum()\n",
        "ds17_sr"
      ],
      "metadata": {
        "colab": {
          "base_uri": "https://localhost:8080/"
        },
        "id": "tHgf4CSsSqcN",
        "outputId": "76b8ad1e-34f7-471e-a5cf-f6c8ff3ef233"
      },
      "execution_count": 140,
      "outputs": [
        {
          "output_type": "execute_result",
          "data": {
            "text/plain": [
              "4.889833922432941"
            ]
          },
          "metadata": {},
          "execution_count": 140
        }
      ]
    },
    {
      "cell_type": "code",
      "source": [
        "ds18['duration'] = ds18.apply(lambda x: x['end'] - x['start'], axis=1)\n",
        "ds18_sr = ds18['syllables'].count()/ds18['duration'].sum()\n",
        "ds18_sr"
      ],
      "metadata": {
        "colab": {
          "base_uri": "https://localhost:8080/"
        },
        "id": "eT6Y0r2bSq_-",
        "outputId": "0994562b-41b4-46b5-a3b2-9b783c87b5a7"
      },
      "execution_count": 141,
      "outputs": [
        {
          "output_type": "execute_result",
          "data": {
            "text/plain": [
              "5.055554712963103"
            ]
          },
          "metadata": {},
          "execution_count": 141
        }
      ]
    },
    {
      "cell_type": "code",
      "source": [
        "ds19['duration'] = ds19.apply(lambda x: x['end'] - x['start'], axis=1)\n",
        "ds19_sr = ds19['syllables'].count()/ds19['duration'].sum()\n",
        "ds19_sr"
      ],
      "metadata": {
        "colab": {
          "base_uri": "https://localhost:8080/"
        },
        "id": "wILXuyVNTo7M",
        "outputId": "29f8fd23-bf12-4b85-c16e-6857570d067e"
      },
      "execution_count": 142,
      "outputs": [
        {
          "output_type": "execute_result",
          "data": {
            "text/plain": [
              "4.209777418543438"
            ]
          },
          "metadata": {},
          "execution_count": 142
        }
      ]
    },
    {
      "cell_type": "code",
      "source": [
        "ds20['duration'] = ds20.apply(lambda x: x['end'] - x['start'], axis=1)\n",
        "ds20_sr = ds20['syllables'].count()/ds20['duration'].sum()\n",
        "ds20_sr"
      ],
      "metadata": {
        "colab": {
          "base_uri": "https://localhost:8080/"
        },
        "id": "xXqUdFWHTpMK",
        "outputId": "ca3ccee2-101c-4e83-a7c6-9333d999c004"
      },
      "execution_count": 143,
      "outputs": [
        {
          "output_type": "execute_result",
          "data": {
            "text/plain": [
              "4.906076236745161"
            ]
          },
          "metadata": {},
          "execution_count": 143
        }
      ]
    },
    {
      "cell_type": "markdown",
      "source": [
        "##Mean and Standard deviation of 4 batches of each syllables\n"
      ],
      "metadata": {
        "id": "cu0oY84BZblg"
      }
    },
    {
      "cell_type": "code",
      "source": [
        "pb1s1='/content/drive/MyDrive/SMT/Speech Technologies/Assignment 1/batch1_syllables/sa1.txt'\n",
        "pb1s2='/content/drive/MyDrive/SMT/Speech Technologies/Assignment 1/batch1_syllables/sa2.txt'\n",
        "pb1s3='/content/drive/MyDrive/SMT/Speech Technologies/Assignment 1/batch1_syllables/sb1.txt'\n",
        "pb1s4='/content/drive/MyDrive/SMT/Speech Technologies/Assignment 1/batch1_syllables/sb2.txt'\n",
        "pb2s1='/content/drive/MyDrive/SMT/Speech Technologies/Assignment 1/batch2_syllables/sa1.txt'\n",
        "pb2s2='/content/drive/MyDrive/SMT/Speech Technologies/Assignment 1/batch2_syllables/sa2.txt'\n",
        "pb2s3='/content/drive/MyDrive/SMT/Speech Technologies/Assignment 1/batch2_syllables/sb1.txt'\n",
        "pb2s4='/content/drive/MyDrive/SMT/Speech Technologies/Assignment 1/batch2_syllables/sb2.txt'\n",
        "pb3s1='/content/drive/MyDrive/SMT/Speech Technologies/Assignment 1/batch3_syllables/sa1.txt'\n",
        "pb3s2='/content/drive/MyDrive/SMT/Speech Technologies/Assignment 1/batch3_syllables/sa2.txt'\n",
        "pb3s3='/content/drive/MyDrive/SMT/Speech Technologies/Assignment 1/batch3_syllables/sb1.txt'\n",
        "pb3s4='/content/drive/MyDrive/SMT/Speech Technologies/Assignment 1/batch3_syllables/sb2.txt'\n",
        "pb4s1='/content/drive/MyDrive/SMT/Speech Technologies/Assignment 1/batch4_syllables/sa1.txt'\n",
        "pb4s2='/content/drive/MyDrive/SMT/Speech Technologies/Assignment 1/batch4_syllables/sa2.txt'\n",
        "pb4s3='/content/drive/MyDrive/SMT/Speech Technologies/Assignment 1/batch4_syllables/sb1.txt'\n",
        "pb4s4='/content/drive/MyDrive/SMT/Speech Technologies/Assignment 1/batch4_syllables/sb2.txt'\n"
      ],
      "metadata": {
        "id": "dTyJ_vMQWp3S"
      },
      "execution_count": 144,
      "outputs": []
    },
    {
      "cell_type": "code",
      "source": [
        "db1s1=pd.read_csv(pb1s1, sep='\\t', names= ['start', 'end', 'syllables'])\n",
        "db1s2=pd.read_csv(pb1s2, sep='\\t', names= ['start', 'end', 'syllables'])\n",
        "db1s3=pd.read_csv(pb1s3, sep='\\t', names= ['start', 'end', 'syllables'])\n",
        "db1s4=pd.read_csv(pb1s4, sep='\\t', names= ['start', 'end', 'syllables'])\n",
        "db2s1=pd.read_csv(pb2s1, sep='\\t', names= ['start', 'end', 'syllables'])\n",
        "db2s2=pd.read_csv(pb2s2, sep='\\t', names= ['start', 'end', 'syllables'])\n",
        "db2s3=pd.read_csv(pb2s3, sep='\\t', names= ['start', 'end', 'syllables'])\n",
        "db2s4=pd.read_csv(pb2s4, sep='\\t', names= ['start', 'end', 'syllables'])\n",
        "db3s1=pd.read_csv(pb3s1, sep='\\t', names= ['start', 'end', 'syllables'])\n",
        "db3s2=pd.read_csv(pb3s2, sep='\\t', names= ['start', 'end', 'syllables'])\n",
        "db3s3=pd.read_csv(pb3s3, sep='\\t', names= ['start', 'end', 'syllables'])\n",
        "db3s4=pd.read_csv(pb3s4, sep='\\t', names= ['start', 'end', 'syllables'])\n",
        "db4s1=pd.read_csv(pb4s1, sep='\\t', names= ['start', 'end', 'syllables'])\n",
        "db4s2=pd.read_csv(pb4s2, sep='\\t', names= ['start', 'end', 'syllables'])\n",
        "db4s3=pd.read_csv(pb4s3, sep='\\t', names= ['start', 'end', 'syllables'])\n",
        "db4s4=pd.read_csv(pb4s4, sep='\\t', names= ['start', 'end', 'syllables'])"
      ],
      "metadata": {
        "id": "0RcbCx_IWqFa"
      },
      "execution_count": 145,
      "outputs": []
    },
    {
      "cell_type": "code",
      "source": [
        "db1s1['b1s1_duration'] = db1s1.apply(lambda x: x['end'] - x['start'], axis=1)\n",
        "db1s2['b1s2_duration'] = db1s2.apply(lambda x: x['end'] - x['start'], axis=1)\n",
        "db1s3['b1s3_duration'] = db1s3.apply(lambda x: x['end'] - x['start'], axis=1)\n",
        "db1s4['b1s4_duration'] = db1s4.apply(lambda x: x['end'] - x['start'], axis=1)\n",
        "db2s1['b2s1_duration'] = db2s1.apply(lambda x: x['end'] - x['start'], axis=1)\n",
        "db2s2['b2s2_duration'] = db2s2.apply(lambda x: x['end'] - x['start'], axis=1)\n",
        "db2s3['b2s3_duration'] = db2s3.apply(lambda x: x['end'] - x['start'], axis=1)\n",
        "db2s4['b2s4_duration'] = db2s4.apply(lambda x: x['end'] - x['start'], axis=1)\n",
        "db3s1['b3s1_duration'] = db3s1.apply(lambda x: x['end'] - x['start'], axis=1)\n",
        "db3s2['b3s2_duration'] = db3s2.apply(lambda x: x['end'] - x['start'], axis=1)\n",
        "db3s3['b3s3_duration'] = db3s3.apply(lambda x: x['end'] - x['start'], axis=1)\n",
        "db3s4['b3s4_duration'] = db3s4.apply(lambda x: x['end'] - x['start'], axis=1)\n",
        "db4s1['b4s1_duration'] = db4s1.apply(lambda x: x['end'] - x['start'], axis=1)\n",
        "db4s2['b4s2_duration'] = db4s2.apply(lambda x: x['end'] - x['start'], axis=1)\n",
        "db4s3['b4s3_duration'] = db4s3.apply(lambda x: x['end'] - x['start'], axis=1)\n",
        "db4s4['b4s4_duration'] = db4s4.apply(lambda x: x['end'] - x['start'], axis=1)"
      ],
      "metadata": {
        "id": "r7wo1SvEWqPJ"
      },
      "execution_count": 146,
      "outputs": []
    },
    {
      "cell_type": "code",
      "source": [
        "db1s1"
      ],
      "metadata": {
        "colab": {
          "base_uri": "https://localhost:8080/",
          "height": 457
        },
        "id": "R3jPo55iWqYB",
        "outputId": "8d87ae95-0830-40ae-f2d5-d154df0b9797"
      },
      "execution_count": 147,
      "outputs": [
        {
          "output_type": "execute_result",
          "data": {
            "text/plain": [
              "       start       end syllables  b1s1_duration\n",
              "0   0.743039  1.352562       she       0.609523\n",
              "1   1.375782  1.677642       had       0.301860\n",
              "2   1.677642  1.956281      your       0.278639\n",
              "3   1.996916  2.246531      dark       0.249615\n",
              "4   2.292971  2.647075      suit       0.354104\n",
              "5   2.844444  3.070839        in       0.226395\n",
              "6   3.099864  3.406077       gri       0.306213\n",
              "7   3.411882  3.593288       siy       0.181406\n",
              "8   3.628118  3.912562      wash       0.284444\n",
              "9   3.953197  4.144762        wa       0.191565\n",
              "10  4.154921  4.359546       ter       0.204625\n",
              "11  4.498866  4.793469       all       0.294603\n",
              "12  4.800726  5.079365      year       0.278639"
            ],
            "text/html": [
              "\n",
              "  <div id=\"df-62901ce7-d030-4d05-9b32-6aba5296851d\">\n",
              "    <div class=\"colab-df-container\">\n",
              "      <div>\n",
              "<style scoped>\n",
              "    .dataframe tbody tr th:only-of-type {\n",
              "        vertical-align: middle;\n",
              "    }\n",
              "\n",
              "    .dataframe tbody tr th {\n",
              "        vertical-align: top;\n",
              "    }\n",
              "\n",
              "    .dataframe thead th {\n",
              "        text-align: right;\n",
              "    }\n",
              "</style>\n",
              "<table border=\"1\" class=\"dataframe\">\n",
              "  <thead>\n",
              "    <tr style=\"text-align: right;\">\n",
              "      <th></th>\n",
              "      <th>start</th>\n",
              "      <th>end</th>\n",
              "      <th>syllables</th>\n",
              "      <th>b1s1_duration</th>\n",
              "    </tr>\n",
              "  </thead>\n",
              "  <tbody>\n",
              "    <tr>\n",
              "      <th>0</th>\n",
              "      <td>0.743039</td>\n",
              "      <td>1.352562</td>\n",
              "      <td>she</td>\n",
              "      <td>0.609523</td>\n",
              "    </tr>\n",
              "    <tr>\n",
              "      <th>1</th>\n",
              "      <td>1.375782</td>\n",
              "      <td>1.677642</td>\n",
              "      <td>had</td>\n",
              "      <td>0.301860</td>\n",
              "    </tr>\n",
              "    <tr>\n",
              "      <th>2</th>\n",
              "      <td>1.677642</td>\n",
              "      <td>1.956281</td>\n",
              "      <td>your</td>\n",
              "      <td>0.278639</td>\n",
              "    </tr>\n",
              "    <tr>\n",
              "      <th>3</th>\n",
              "      <td>1.996916</td>\n",
              "      <td>2.246531</td>\n",
              "      <td>dark</td>\n",
              "      <td>0.249615</td>\n",
              "    </tr>\n",
              "    <tr>\n",
              "      <th>4</th>\n",
              "      <td>2.292971</td>\n",
              "      <td>2.647075</td>\n",
              "      <td>suit</td>\n",
              "      <td>0.354104</td>\n",
              "    </tr>\n",
              "    <tr>\n",
              "      <th>5</th>\n",
              "      <td>2.844444</td>\n",
              "      <td>3.070839</td>\n",
              "      <td>in</td>\n",
              "      <td>0.226395</td>\n",
              "    </tr>\n",
              "    <tr>\n",
              "      <th>6</th>\n",
              "      <td>3.099864</td>\n",
              "      <td>3.406077</td>\n",
              "      <td>gri</td>\n",
              "      <td>0.306213</td>\n",
              "    </tr>\n",
              "    <tr>\n",
              "      <th>7</th>\n",
              "      <td>3.411882</td>\n",
              "      <td>3.593288</td>\n",
              "      <td>siy</td>\n",
              "      <td>0.181406</td>\n",
              "    </tr>\n",
              "    <tr>\n",
              "      <th>8</th>\n",
              "      <td>3.628118</td>\n",
              "      <td>3.912562</td>\n",
              "      <td>wash</td>\n",
              "      <td>0.284444</td>\n",
              "    </tr>\n",
              "    <tr>\n",
              "      <th>9</th>\n",
              "      <td>3.953197</td>\n",
              "      <td>4.144762</td>\n",
              "      <td>wa</td>\n",
              "      <td>0.191565</td>\n",
              "    </tr>\n",
              "    <tr>\n",
              "      <th>10</th>\n",
              "      <td>4.154921</td>\n",
              "      <td>4.359546</td>\n",
              "      <td>ter</td>\n",
              "      <td>0.204625</td>\n",
              "    </tr>\n",
              "    <tr>\n",
              "      <th>11</th>\n",
              "      <td>4.498866</td>\n",
              "      <td>4.793469</td>\n",
              "      <td>all</td>\n",
              "      <td>0.294603</td>\n",
              "    </tr>\n",
              "    <tr>\n",
              "      <th>12</th>\n",
              "      <td>4.800726</td>\n",
              "      <td>5.079365</td>\n",
              "      <td>year</td>\n",
              "      <td>0.278639</td>\n",
              "    </tr>\n",
              "  </tbody>\n",
              "</table>\n",
              "</div>\n",
              "      <button class=\"colab-df-convert\" onclick=\"convertToInteractive('df-62901ce7-d030-4d05-9b32-6aba5296851d')\"\n",
              "              title=\"Convert this dataframe to an interactive table.\"\n",
              "              style=\"display:none;\">\n",
              "        \n",
              "  <svg xmlns=\"http://www.w3.org/2000/svg\" height=\"24px\"viewBox=\"0 0 24 24\"\n",
              "       width=\"24px\">\n",
              "    <path d=\"M0 0h24v24H0V0z\" fill=\"none\"/>\n",
              "    <path d=\"M18.56 5.44l.94 2.06.94-2.06 2.06-.94-2.06-.94-.94-2.06-.94 2.06-2.06.94zm-11 1L8.5 8.5l.94-2.06 2.06-.94-2.06-.94L8.5 2.5l-.94 2.06-2.06.94zm10 10l.94 2.06.94-2.06 2.06-.94-2.06-.94-.94-2.06-.94 2.06-2.06.94z\"/><path d=\"M17.41 7.96l-1.37-1.37c-.4-.4-.92-.59-1.43-.59-.52 0-1.04.2-1.43.59L10.3 9.45l-7.72 7.72c-.78.78-.78 2.05 0 2.83L4 21.41c.39.39.9.59 1.41.59.51 0 1.02-.2 1.41-.59l7.78-7.78 2.81-2.81c.8-.78.8-2.07 0-2.86zM5.41 20L4 18.59l7.72-7.72 1.47 1.35L5.41 20z\"/>\n",
              "  </svg>\n",
              "      </button>\n",
              "      \n",
              "  <style>\n",
              "    .colab-df-container {\n",
              "      display:flex;\n",
              "      flex-wrap:wrap;\n",
              "      gap: 12px;\n",
              "    }\n",
              "\n",
              "    .colab-df-convert {\n",
              "      background-color: #E8F0FE;\n",
              "      border: none;\n",
              "      border-radius: 50%;\n",
              "      cursor: pointer;\n",
              "      display: none;\n",
              "      fill: #1967D2;\n",
              "      height: 32px;\n",
              "      padding: 0 0 0 0;\n",
              "      width: 32px;\n",
              "    }\n",
              "\n",
              "    .colab-df-convert:hover {\n",
              "      background-color: #E2EBFA;\n",
              "      box-shadow: 0px 1px 2px rgba(60, 64, 67, 0.3), 0px 1px 3px 1px rgba(60, 64, 67, 0.15);\n",
              "      fill: #174EA6;\n",
              "    }\n",
              "\n",
              "    [theme=dark] .colab-df-convert {\n",
              "      background-color: #3B4455;\n",
              "      fill: #D2E3FC;\n",
              "    }\n",
              "\n",
              "    [theme=dark] .colab-df-convert:hover {\n",
              "      background-color: #434B5C;\n",
              "      box-shadow: 0px 1px 3px 1px rgba(0, 0, 0, 0.15);\n",
              "      filter: drop-shadow(0px 1px 2px rgba(0, 0, 0, 0.3));\n",
              "      fill: #FFFFFF;\n",
              "    }\n",
              "  </style>\n",
              "\n",
              "      <script>\n",
              "        const buttonEl =\n",
              "          document.querySelector('#df-62901ce7-d030-4d05-9b32-6aba5296851d button.colab-df-convert');\n",
              "        buttonEl.style.display =\n",
              "          google.colab.kernel.accessAllowed ? 'block' : 'none';\n",
              "\n",
              "        async function convertToInteractive(key) {\n",
              "          const element = document.querySelector('#df-62901ce7-d030-4d05-9b32-6aba5296851d');\n",
              "          const dataTable =\n",
              "            await google.colab.kernel.invokeFunction('convertToInteractive',\n",
              "                                                     [key], {});\n",
              "          if (!dataTable) return;\n",
              "\n",
              "          const docLinkHtml = 'Like what you see? Visit the ' +\n",
              "            '<a target=\"_blank\" href=https://colab.research.google.com/notebooks/data_table.ipynb>data table notebook</a>'\n",
              "            + ' to learn more about interactive tables.';\n",
              "          element.innerHTML = '';\n",
              "          dataTable['output_type'] = 'display_data';\n",
              "          await google.colab.output.renderOutput(dataTable, element);\n",
              "          const docLink = document.createElement('div');\n",
              "          docLink.innerHTML = docLinkHtml;\n",
              "          element.appendChild(docLink);\n",
              "        }\n",
              "      </script>\n",
              "    </div>\n",
              "  </div>\n",
              "  "
            ]
          },
          "metadata": {},
          "execution_count": 147
        }
      ]
    },
    {
      "cell_type": "markdown",
      "source": [
        "Batch-1: Syllable duration table"
      ],
      "metadata": {
        "id": "bbjVi0wskPTE"
      }
    },
    {
      "cell_type": "code",
      "source": [
        "Batch1 = pd.DataFrame().assign(duration=ds1['duration'], b1s1=db1s1['b1s1_duration'], b1s2=db1s2['b1s2_duration'], b1s3=db1s3['b1s3_duration'], b1s4=db1s4['b1s4_duration'])\n",
        "Batch1['mean_batch1'] = Batch1.mean(axis=1)\n",
        "Batch1['std_batch1']= Batch1.std(axis=1)\n",
        "Batch1.round(2)"
      ],
      "metadata": {
        "colab": {
          "base_uri": "https://localhost:8080/",
          "height": 457
        },
        "id": "H_C0zFOmWqjh",
        "outputId": "6f330bc2-69be-4b95-a8cf-bdda2e41c62c"
      },
      "execution_count": 155,
      "outputs": [
        {
          "output_type": "execute_result",
          "data": {
            "text/plain": [
              "    duration  b1s1  b1s2  b1s3  b1s4  mean_batch1  std_batch1\n",
              "0       0.29  0.61  0.61  0.32  0.32         0.43        0.15\n",
              "1       0.20  0.30  0.30  0.47  0.35         0.32        0.09\n",
              "2       0.31  0.28  0.28  0.23  0.23         0.27        0.03\n",
              "3       0.36  0.25  0.25  0.13  0.13         0.22        0.09\n",
              "4       0.41  0.35  0.61  0.25  0.25         0.37        0.13\n",
              "5       0.25  0.23  0.23  0.19  0.19         0.22        0.02\n",
              "6       0.23  0.31  0.34  0.27  0.27         0.28        0.04\n",
              "7       0.19  0.18  0.26  0.31  0.26         0.24        0.05\n",
              "8       0.36  0.28  0.55  0.23  0.19         0.32        0.13\n",
              "9       0.26  0.19  0.24  0.25  0.20         0.23        0.03\n",
              "10      0.22  0.20  0.25  0.26  0.26         0.24        0.02\n",
              "11      0.23  0.29  0.29  0.36  0.36         0.31        0.05\n",
              "12      0.29  0.28  0.35   NaN   NaN         0.31        0.03"
            ],
            "text/html": [
              "\n",
              "  <div id=\"df-d820748b-a005-4f7d-8859-950abf178913\">\n",
              "    <div class=\"colab-df-container\">\n",
              "      <div>\n",
              "<style scoped>\n",
              "    .dataframe tbody tr th:only-of-type {\n",
              "        vertical-align: middle;\n",
              "    }\n",
              "\n",
              "    .dataframe tbody tr th {\n",
              "        vertical-align: top;\n",
              "    }\n",
              "\n",
              "    .dataframe thead th {\n",
              "        text-align: right;\n",
              "    }\n",
              "</style>\n",
              "<table border=\"1\" class=\"dataframe\">\n",
              "  <thead>\n",
              "    <tr style=\"text-align: right;\">\n",
              "      <th></th>\n",
              "      <th>duration</th>\n",
              "      <th>b1s1</th>\n",
              "      <th>b1s2</th>\n",
              "      <th>b1s3</th>\n",
              "      <th>b1s4</th>\n",
              "      <th>mean_batch1</th>\n",
              "      <th>std_batch1</th>\n",
              "    </tr>\n",
              "  </thead>\n",
              "  <tbody>\n",
              "    <tr>\n",
              "      <th>0</th>\n",
              "      <td>0.29</td>\n",
              "      <td>0.61</td>\n",
              "      <td>0.61</td>\n",
              "      <td>0.32</td>\n",
              "      <td>0.32</td>\n",
              "      <td>0.43</td>\n",
              "      <td>0.15</td>\n",
              "    </tr>\n",
              "    <tr>\n",
              "      <th>1</th>\n",
              "      <td>0.20</td>\n",
              "      <td>0.30</td>\n",
              "      <td>0.30</td>\n",
              "      <td>0.47</td>\n",
              "      <td>0.35</td>\n",
              "      <td>0.32</td>\n",
              "      <td>0.09</td>\n",
              "    </tr>\n",
              "    <tr>\n",
              "      <th>2</th>\n",
              "      <td>0.31</td>\n",
              "      <td>0.28</td>\n",
              "      <td>0.28</td>\n",
              "      <td>0.23</td>\n",
              "      <td>0.23</td>\n",
              "      <td>0.27</td>\n",
              "      <td>0.03</td>\n",
              "    </tr>\n",
              "    <tr>\n",
              "      <th>3</th>\n",
              "      <td>0.36</td>\n",
              "      <td>0.25</td>\n",
              "      <td>0.25</td>\n",
              "      <td>0.13</td>\n",
              "      <td>0.13</td>\n",
              "      <td>0.22</td>\n",
              "      <td>0.09</td>\n",
              "    </tr>\n",
              "    <tr>\n",
              "      <th>4</th>\n",
              "      <td>0.41</td>\n",
              "      <td>0.35</td>\n",
              "      <td>0.61</td>\n",
              "      <td>0.25</td>\n",
              "      <td>0.25</td>\n",
              "      <td>0.37</td>\n",
              "      <td>0.13</td>\n",
              "    </tr>\n",
              "    <tr>\n",
              "      <th>5</th>\n",
              "      <td>0.25</td>\n",
              "      <td>0.23</td>\n",
              "      <td>0.23</td>\n",
              "      <td>0.19</td>\n",
              "      <td>0.19</td>\n",
              "      <td>0.22</td>\n",
              "      <td>0.02</td>\n",
              "    </tr>\n",
              "    <tr>\n",
              "      <th>6</th>\n",
              "      <td>0.23</td>\n",
              "      <td>0.31</td>\n",
              "      <td>0.34</td>\n",
              "      <td>0.27</td>\n",
              "      <td>0.27</td>\n",
              "      <td>0.28</td>\n",
              "      <td>0.04</td>\n",
              "    </tr>\n",
              "    <tr>\n",
              "      <th>7</th>\n",
              "      <td>0.19</td>\n",
              "      <td>0.18</td>\n",
              "      <td>0.26</td>\n",
              "      <td>0.31</td>\n",
              "      <td>0.26</td>\n",
              "      <td>0.24</td>\n",
              "      <td>0.05</td>\n",
              "    </tr>\n",
              "    <tr>\n",
              "      <th>8</th>\n",
              "      <td>0.36</td>\n",
              "      <td>0.28</td>\n",
              "      <td>0.55</td>\n",
              "      <td>0.23</td>\n",
              "      <td>0.19</td>\n",
              "      <td>0.32</td>\n",
              "      <td>0.13</td>\n",
              "    </tr>\n",
              "    <tr>\n",
              "      <th>9</th>\n",
              "      <td>0.26</td>\n",
              "      <td>0.19</td>\n",
              "      <td>0.24</td>\n",
              "      <td>0.25</td>\n",
              "      <td>0.20</td>\n",
              "      <td>0.23</td>\n",
              "      <td>0.03</td>\n",
              "    </tr>\n",
              "    <tr>\n",
              "      <th>10</th>\n",
              "      <td>0.22</td>\n",
              "      <td>0.20</td>\n",
              "      <td>0.25</td>\n",
              "      <td>0.26</td>\n",
              "      <td>0.26</td>\n",
              "      <td>0.24</td>\n",
              "      <td>0.02</td>\n",
              "    </tr>\n",
              "    <tr>\n",
              "      <th>11</th>\n",
              "      <td>0.23</td>\n",
              "      <td>0.29</td>\n",
              "      <td>0.29</td>\n",
              "      <td>0.36</td>\n",
              "      <td>0.36</td>\n",
              "      <td>0.31</td>\n",
              "      <td>0.05</td>\n",
              "    </tr>\n",
              "    <tr>\n",
              "      <th>12</th>\n",
              "      <td>0.29</td>\n",
              "      <td>0.28</td>\n",
              "      <td>0.35</td>\n",
              "      <td>NaN</td>\n",
              "      <td>NaN</td>\n",
              "      <td>0.31</td>\n",
              "      <td>0.03</td>\n",
              "    </tr>\n",
              "  </tbody>\n",
              "</table>\n",
              "</div>\n",
              "      <button class=\"colab-df-convert\" onclick=\"convertToInteractive('df-d820748b-a005-4f7d-8859-950abf178913')\"\n",
              "              title=\"Convert this dataframe to an interactive table.\"\n",
              "              style=\"display:none;\">\n",
              "        \n",
              "  <svg xmlns=\"http://www.w3.org/2000/svg\" height=\"24px\"viewBox=\"0 0 24 24\"\n",
              "       width=\"24px\">\n",
              "    <path d=\"M0 0h24v24H0V0z\" fill=\"none\"/>\n",
              "    <path d=\"M18.56 5.44l.94 2.06.94-2.06 2.06-.94-2.06-.94-.94-2.06-.94 2.06-2.06.94zm-11 1L8.5 8.5l.94-2.06 2.06-.94-2.06-.94L8.5 2.5l-.94 2.06-2.06.94zm10 10l.94 2.06.94-2.06 2.06-.94-2.06-.94-.94-2.06-.94 2.06-2.06.94z\"/><path d=\"M17.41 7.96l-1.37-1.37c-.4-.4-.92-.59-1.43-.59-.52 0-1.04.2-1.43.59L10.3 9.45l-7.72 7.72c-.78.78-.78 2.05 0 2.83L4 21.41c.39.39.9.59 1.41.59.51 0 1.02-.2 1.41-.59l7.78-7.78 2.81-2.81c.8-.78.8-2.07 0-2.86zM5.41 20L4 18.59l7.72-7.72 1.47 1.35L5.41 20z\"/>\n",
              "  </svg>\n",
              "      </button>\n",
              "      \n",
              "  <style>\n",
              "    .colab-df-container {\n",
              "      display:flex;\n",
              "      flex-wrap:wrap;\n",
              "      gap: 12px;\n",
              "    }\n",
              "\n",
              "    .colab-df-convert {\n",
              "      background-color: #E8F0FE;\n",
              "      border: none;\n",
              "      border-radius: 50%;\n",
              "      cursor: pointer;\n",
              "      display: none;\n",
              "      fill: #1967D2;\n",
              "      height: 32px;\n",
              "      padding: 0 0 0 0;\n",
              "      width: 32px;\n",
              "    }\n",
              "\n",
              "    .colab-df-convert:hover {\n",
              "      background-color: #E2EBFA;\n",
              "      box-shadow: 0px 1px 2px rgba(60, 64, 67, 0.3), 0px 1px 3px 1px rgba(60, 64, 67, 0.15);\n",
              "      fill: #174EA6;\n",
              "    }\n",
              "\n",
              "    [theme=dark] .colab-df-convert {\n",
              "      background-color: #3B4455;\n",
              "      fill: #D2E3FC;\n",
              "    }\n",
              "\n",
              "    [theme=dark] .colab-df-convert:hover {\n",
              "      background-color: #434B5C;\n",
              "      box-shadow: 0px 1px 3px 1px rgba(0, 0, 0, 0.15);\n",
              "      filter: drop-shadow(0px 1px 2px rgba(0, 0, 0, 0.3));\n",
              "      fill: #FFFFFF;\n",
              "    }\n",
              "  </style>\n",
              "\n",
              "      <script>\n",
              "        const buttonEl =\n",
              "          document.querySelector('#df-d820748b-a005-4f7d-8859-950abf178913 button.colab-df-convert');\n",
              "        buttonEl.style.display =\n",
              "          google.colab.kernel.accessAllowed ? 'block' : 'none';\n",
              "\n",
              "        async function convertToInteractive(key) {\n",
              "          const element = document.querySelector('#df-d820748b-a005-4f7d-8859-950abf178913');\n",
              "          const dataTable =\n",
              "            await google.colab.kernel.invokeFunction('convertToInteractive',\n",
              "                                                     [key], {});\n",
              "          if (!dataTable) return;\n",
              "\n",
              "          const docLinkHtml = 'Like what you see? Visit the ' +\n",
              "            '<a target=\"_blank\" href=https://colab.research.google.com/notebooks/data_table.ipynb>data table notebook</a>'\n",
              "            + ' to learn more about interactive tables.';\n",
              "          element.innerHTML = '';\n",
              "          dataTable['output_type'] = 'display_data';\n",
              "          await google.colab.output.renderOutput(dataTable, element);\n",
              "          const docLink = document.createElement('div');\n",
              "          docLink.innerHTML = docLinkHtml;\n",
              "          element.appendChild(docLink);\n",
              "        }\n",
              "      </script>\n",
              "    </div>\n",
              "  </div>\n",
              "  "
            ]
          },
          "metadata": {},
          "execution_count": 155
        }
      ]
    },
    {
      "cell_type": "markdown",
      "source": [
        "Batch2"
      ],
      "metadata": {
        "id": "cWEYTxMakJC_"
      }
    },
    {
      "cell_type": "code",
      "source": [
        "Batch2 = pd.DataFrame().assign(duration=ds2['duration'], b2s1=db2s1['b2s1_duration'], b2s2=db2s2['b2s2_duration'], b2s3=db2s3['b2s3_duration'], b2s4=db2s4['b2s4_duration'])\n",
        "Batch2['mean_batch2'] = Batch2.mean(axis=1)\n",
        "Batch2['std_batch2']= Batch2.std(axis=1)\n",
        "Batch2.round(2)"
      ],
      "metadata": {
        "colab": {
          "base_uri": "https://localhost:8080/",
          "height": 457
        },
        "id": "srhEbamgWqtx",
        "outputId": "dda983f0-aaa0-4577-fef5-5744f9fcbab3"
      },
      "execution_count": 156,
      "outputs": [
        {
          "output_type": "execute_result",
          "data": {
            "text/plain": [
              "    duration  b2s1  b2s2  b2s3  b2s4  mean_batch2  std_batch2\n",
              "0       0.30  0.40  0.29  0.32  0.44         0.35        0.06\n",
              "1       0.25  0.43  0.24  0.27  0.36         0.31        0.07\n",
              "2       0.26  0.29  0.29  0.18  0.12         0.23        0.07\n",
              "3       0.22  0.35  0.31  0.15  0.11         0.23        0.09\n",
              "4       0.26  0.61  0.46  0.15  0.13         0.32        0.18\n",
              "5       0.22  0.29  0.23  0.14  0.14         0.20        0.06\n",
              "6       0.18  0.23  0.21  0.17  0.10         0.18        0.04\n",
              "7       0.15  0.27  0.22  0.14  0.16         0.19        0.05\n",
              "8       0.30  0.32  0.29  0.17  0.19         0.25        0.06\n",
              "9       0.14  0.15  0.20  0.34  0.39         0.25        0.10\n",
              "10      0.24  0.28  0.32  0.28  0.26         0.28        0.03\n",
              "11      0.27  0.32  0.29  0.39  0.45         0.34        0.07\n",
              "12      0.27  0.22  0.21   NaN   NaN         0.23        0.02"
            ],
            "text/html": [
              "\n",
              "  <div id=\"df-a33ee45f-9152-4979-a84d-cc7de7e971ad\">\n",
              "    <div class=\"colab-df-container\">\n",
              "      <div>\n",
              "<style scoped>\n",
              "    .dataframe tbody tr th:only-of-type {\n",
              "        vertical-align: middle;\n",
              "    }\n",
              "\n",
              "    .dataframe tbody tr th {\n",
              "        vertical-align: top;\n",
              "    }\n",
              "\n",
              "    .dataframe thead th {\n",
              "        text-align: right;\n",
              "    }\n",
              "</style>\n",
              "<table border=\"1\" class=\"dataframe\">\n",
              "  <thead>\n",
              "    <tr style=\"text-align: right;\">\n",
              "      <th></th>\n",
              "      <th>duration</th>\n",
              "      <th>b2s1</th>\n",
              "      <th>b2s2</th>\n",
              "      <th>b2s3</th>\n",
              "      <th>b2s4</th>\n",
              "      <th>mean_batch2</th>\n",
              "      <th>std_batch2</th>\n",
              "    </tr>\n",
              "  </thead>\n",
              "  <tbody>\n",
              "    <tr>\n",
              "      <th>0</th>\n",
              "      <td>0.30</td>\n",
              "      <td>0.40</td>\n",
              "      <td>0.29</td>\n",
              "      <td>0.32</td>\n",
              "      <td>0.44</td>\n",
              "      <td>0.35</td>\n",
              "      <td>0.06</td>\n",
              "    </tr>\n",
              "    <tr>\n",
              "      <th>1</th>\n",
              "      <td>0.25</td>\n",
              "      <td>0.43</td>\n",
              "      <td>0.24</td>\n",
              "      <td>0.27</td>\n",
              "      <td>0.36</td>\n",
              "      <td>0.31</td>\n",
              "      <td>0.07</td>\n",
              "    </tr>\n",
              "    <tr>\n",
              "      <th>2</th>\n",
              "      <td>0.26</td>\n",
              "      <td>0.29</td>\n",
              "      <td>0.29</td>\n",
              "      <td>0.18</td>\n",
              "      <td>0.12</td>\n",
              "      <td>0.23</td>\n",
              "      <td>0.07</td>\n",
              "    </tr>\n",
              "    <tr>\n",
              "      <th>3</th>\n",
              "      <td>0.22</td>\n",
              "      <td>0.35</td>\n",
              "      <td>0.31</td>\n",
              "      <td>0.15</td>\n",
              "      <td>0.11</td>\n",
              "      <td>0.23</td>\n",
              "      <td>0.09</td>\n",
              "    </tr>\n",
              "    <tr>\n",
              "      <th>4</th>\n",
              "      <td>0.26</td>\n",
              "      <td>0.61</td>\n",
              "      <td>0.46</td>\n",
              "      <td>0.15</td>\n",
              "      <td>0.13</td>\n",
              "      <td>0.32</td>\n",
              "      <td>0.18</td>\n",
              "    </tr>\n",
              "    <tr>\n",
              "      <th>5</th>\n",
              "      <td>0.22</td>\n",
              "      <td>0.29</td>\n",
              "      <td>0.23</td>\n",
              "      <td>0.14</td>\n",
              "      <td>0.14</td>\n",
              "      <td>0.20</td>\n",
              "      <td>0.06</td>\n",
              "    </tr>\n",
              "    <tr>\n",
              "      <th>6</th>\n",
              "      <td>0.18</td>\n",
              "      <td>0.23</td>\n",
              "      <td>0.21</td>\n",
              "      <td>0.17</td>\n",
              "      <td>0.10</td>\n",
              "      <td>0.18</td>\n",
              "      <td>0.04</td>\n",
              "    </tr>\n",
              "    <tr>\n",
              "      <th>7</th>\n",
              "      <td>0.15</td>\n",
              "      <td>0.27</td>\n",
              "      <td>0.22</td>\n",
              "      <td>0.14</td>\n",
              "      <td>0.16</td>\n",
              "      <td>0.19</td>\n",
              "      <td>0.05</td>\n",
              "    </tr>\n",
              "    <tr>\n",
              "      <th>8</th>\n",
              "      <td>0.30</td>\n",
              "      <td>0.32</td>\n",
              "      <td>0.29</td>\n",
              "      <td>0.17</td>\n",
              "      <td>0.19</td>\n",
              "      <td>0.25</td>\n",
              "      <td>0.06</td>\n",
              "    </tr>\n",
              "    <tr>\n",
              "      <th>9</th>\n",
              "      <td>0.14</td>\n",
              "      <td>0.15</td>\n",
              "      <td>0.20</td>\n",
              "      <td>0.34</td>\n",
              "      <td>0.39</td>\n",
              "      <td>0.25</td>\n",
              "      <td>0.10</td>\n",
              "    </tr>\n",
              "    <tr>\n",
              "      <th>10</th>\n",
              "      <td>0.24</td>\n",
              "      <td>0.28</td>\n",
              "      <td>0.32</td>\n",
              "      <td>0.28</td>\n",
              "      <td>0.26</td>\n",
              "      <td>0.28</td>\n",
              "      <td>0.03</td>\n",
              "    </tr>\n",
              "    <tr>\n",
              "      <th>11</th>\n",
              "      <td>0.27</td>\n",
              "      <td>0.32</td>\n",
              "      <td>0.29</td>\n",
              "      <td>0.39</td>\n",
              "      <td>0.45</td>\n",
              "      <td>0.34</td>\n",
              "      <td>0.07</td>\n",
              "    </tr>\n",
              "    <tr>\n",
              "      <th>12</th>\n",
              "      <td>0.27</td>\n",
              "      <td>0.22</td>\n",
              "      <td>0.21</td>\n",
              "      <td>NaN</td>\n",
              "      <td>NaN</td>\n",
              "      <td>0.23</td>\n",
              "      <td>0.02</td>\n",
              "    </tr>\n",
              "  </tbody>\n",
              "</table>\n",
              "</div>\n",
              "      <button class=\"colab-df-convert\" onclick=\"convertToInteractive('df-a33ee45f-9152-4979-a84d-cc7de7e971ad')\"\n",
              "              title=\"Convert this dataframe to an interactive table.\"\n",
              "              style=\"display:none;\">\n",
              "        \n",
              "  <svg xmlns=\"http://www.w3.org/2000/svg\" height=\"24px\"viewBox=\"0 0 24 24\"\n",
              "       width=\"24px\">\n",
              "    <path d=\"M0 0h24v24H0V0z\" fill=\"none\"/>\n",
              "    <path d=\"M18.56 5.44l.94 2.06.94-2.06 2.06-.94-2.06-.94-.94-2.06-.94 2.06-2.06.94zm-11 1L8.5 8.5l.94-2.06 2.06-.94-2.06-.94L8.5 2.5l-.94 2.06-2.06.94zm10 10l.94 2.06.94-2.06 2.06-.94-2.06-.94-.94-2.06-.94 2.06-2.06.94z\"/><path d=\"M17.41 7.96l-1.37-1.37c-.4-.4-.92-.59-1.43-.59-.52 0-1.04.2-1.43.59L10.3 9.45l-7.72 7.72c-.78.78-.78 2.05 0 2.83L4 21.41c.39.39.9.59 1.41.59.51 0 1.02-.2 1.41-.59l7.78-7.78 2.81-2.81c.8-.78.8-2.07 0-2.86zM5.41 20L4 18.59l7.72-7.72 1.47 1.35L5.41 20z\"/>\n",
              "  </svg>\n",
              "      </button>\n",
              "      \n",
              "  <style>\n",
              "    .colab-df-container {\n",
              "      display:flex;\n",
              "      flex-wrap:wrap;\n",
              "      gap: 12px;\n",
              "    }\n",
              "\n",
              "    .colab-df-convert {\n",
              "      background-color: #E8F0FE;\n",
              "      border: none;\n",
              "      border-radius: 50%;\n",
              "      cursor: pointer;\n",
              "      display: none;\n",
              "      fill: #1967D2;\n",
              "      height: 32px;\n",
              "      padding: 0 0 0 0;\n",
              "      width: 32px;\n",
              "    }\n",
              "\n",
              "    .colab-df-convert:hover {\n",
              "      background-color: #E2EBFA;\n",
              "      box-shadow: 0px 1px 2px rgba(60, 64, 67, 0.3), 0px 1px 3px 1px rgba(60, 64, 67, 0.15);\n",
              "      fill: #174EA6;\n",
              "    }\n",
              "\n",
              "    [theme=dark] .colab-df-convert {\n",
              "      background-color: #3B4455;\n",
              "      fill: #D2E3FC;\n",
              "    }\n",
              "\n",
              "    [theme=dark] .colab-df-convert:hover {\n",
              "      background-color: #434B5C;\n",
              "      box-shadow: 0px 1px 3px 1px rgba(0, 0, 0, 0.15);\n",
              "      filter: drop-shadow(0px 1px 2px rgba(0, 0, 0, 0.3));\n",
              "      fill: #FFFFFF;\n",
              "    }\n",
              "  </style>\n",
              "\n",
              "      <script>\n",
              "        const buttonEl =\n",
              "          document.querySelector('#df-a33ee45f-9152-4979-a84d-cc7de7e971ad button.colab-df-convert');\n",
              "        buttonEl.style.display =\n",
              "          google.colab.kernel.accessAllowed ? 'block' : 'none';\n",
              "\n",
              "        async function convertToInteractive(key) {\n",
              "          const element = document.querySelector('#df-a33ee45f-9152-4979-a84d-cc7de7e971ad');\n",
              "          const dataTable =\n",
              "            await google.colab.kernel.invokeFunction('convertToInteractive',\n",
              "                                                     [key], {});\n",
              "          if (!dataTable) return;\n",
              "\n",
              "          const docLinkHtml = 'Like what you see? Visit the ' +\n",
              "            '<a target=\"_blank\" href=https://colab.research.google.com/notebooks/data_table.ipynb>data table notebook</a>'\n",
              "            + ' to learn more about interactive tables.';\n",
              "          element.innerHTML = '';\n",
              "          dataTable['output_type'] = 'display_data';\n",
              "          await google.colab.output.renderOutput(dataTable, element);\n",
              "          const docLink = document.createElement('div');\n",
              "          docLink.innerHTML = docLinkHtml;\n",
              "          element.appendChild(docLink);\n",
              "        }\n",
              "      </script>\n",
              "    </div>\n",
              "  </div>\n",
              "  "
            ]
          },
          "metadata": {},
          "execution_count": 156
        }
      ]
    },
    {
      "cell_type": "code",
      "source": [
        "Batch3 = pd.DataFrame().assign(duration=ds3['duration'], b3s1=db3s1['b3s1_duration'], b3s2=db3s2['b3s2_duration'], b3s3=db3s3['b3s3_duration'], b3s4=db3s4['b3s4_duration'])\n",
        "Batch3['mean_batch3'] = Batch3.mean(axis=1)\n",
        "Batch3['std_batch3']= Batch3.std(axis=1)\n",
        "Batch3.round(2)"
      ],
      "metadata": {
        "colab": {
          "base_uri": "https://localhost:8080/",
          "height": 426
        },
        "id": "fin6_peDWq4J",
        "outputId": "ef6bed22-2067-49b7-cd18-f2639c3cad5b"
      },
      "execution_count": 157,
      "outputs": [
        {
          "output_type": "execute_result",
          "data": {
            "text/plain": [
              "    duration  b3s1  b3s2  b3s3  b3s4  mean_batch3  std_batch3\n",
              "0       0.31  0.48  0.37  0.45  0.55         0.43        0.08\n",
              "1       0.37  0.58  0.24  0.27  0.43         0.38        0.12\n",
              "2       0.31  0.51  0.33  0.19  0.48         0.36        0.12\n",
              "3       0.15  0.48  0.21  0.16  0.44         0.29        0.14\n",
              "4       0.18  0.68  0.28  0.28  0.52         0.39        0.18\n",
              "5       0.11  0.46  0.15  0.09  0.33         0.23        0.14\n",
              "6       0.14  0.35  0.23  0.18  0.62         0.30        0.17\n",
              "7       0.20  0.23  0.22  0.21  0.40         0.25        0.08\n",
              "8       0.11  0.48  0.30  0.25  0.33         0.29        0.12\n",
              "9       0.31  0.37  0.16  0.31  0.71         0.37        0.18\n",
              "10      0.27  0.29  0.22  0.30  0.52         0.32        0.10\n",
              "11      0.26  0.62  0.24  0.22  0.56         0.38        0.17"
            ],
            "text/html": [
              "\n",
              "  <div id=\"df-bc1c0bf2-5bbb-4294-9c9d-4b22bb21d9a7\">\n",
              "    <div class=\"colab-df-container\">\n",
              "      <div>\n",
              "<style scoped>\n",
              "    .dataframe tbody tr th:only-of-type {\n",
              "        vertical-align: middle;\n",
              "    }\n",
              "\n",
              "    .dataframe tbody tr th {\n",
              "        vertical-align: top;\n",
              "    }\n",
              "\n",
              "    .dataframe thead th {\n",
              "        text-align: right;\n",
              "    }\n",
              "</style>\n",
              "<table border=\"1\" class=\"dataframe\">\n",
              "  <thead>\n",
              "    <tr style=\"text-align: right;\">\n",
              "      <th></th>\n",
              "      <th>duration</th>\n",
              "      <th>b3s1</th>\n",
              "      <th>b3s2</th>\n",
              "      <th>b3s3</th>\n",
              "      <th>b3s4</th>\n",
              "      <th>mean_batch3</th>\n",
              "      <th>std_batch3</th>\n",
              "    </tr>\n",
              "  </thead>\n",
              "  <tbody>\n",
              "    <tr>\n",
              "      <th>0</th>\n",
              "      <td>0.31</td>\n",
              "      <td>0.48</td>\n",
              "      <td>0.37</td>\n",
              "      <td>0.45</td>\n",
              "      <td>0.55</td>\n",
              "      <td>0.43</td>\n",
              "      <td>0.08</td>\n",
              "    </tr>\n",
              "    <tr>\n",
              "      <th>1</th>\n",
              "      <td>0.37</td>\n",
              "      <td>0.58</td>\n",
              "      <td>0.24</td>\n",
              "      <td>0.27</td>\n",
              "      <td>0.43</td>\n",
              "      <td>0.38</td>\n",
              "      <td>0.12</td>\n",
              "    </tr>\n",
              "    <tr>\n",
              "      <th>2</th>\n",
              "      <td>0.31</td>\n",
              "      <td>0.51</td>\n",
              "      <td>0.33</td>\n",
              "      <td>0.19</td>\n",
              "      <td>0.48</td>\n",
              "      <td>0.36</td>\n",
              "      <td>0.12</td>\n",
              "    </tr>\n",
              "    <tr>\n",
              "      <th>3</th>\n",
              "      <td>0.15</td>\n",
              "      <td>0.48</td>\n",
              "      <td>0.21</td>\n",
              "      <td>0.16</td>\n",
              "      <td>0.44</td>\n",
              "      <td>0.29</td>\n",
              "      <td>0.14</td>\n",
              "    </tr>\n",
              "    <tr>\n",
              "      <th>4</th>\n",
              "      <td>0.18</td>\n",
              "      <td>0.68</td>\n",
              "      <td>0.28</td>\n",
              "      <td>0.28</td>\n",
              "      <td>0.52</td>\n",
              "      <td>0.39</td>\n",
              "      <td>0.18</td>\n",
              "    </tr>\n",
              "    <tr>\n",
              "      <th>5</th>\n",
              "      <td>0.11</td>\n",
              "      <td>0.46</td>\n",
              "      <td>0.15</td>\n",
              "      <td>0.09</td>\n",
              "      <td>0.33</td>\n",
              "      <td>0.23</td>\n",
              "      <td>0.14</td>\n",
              "    </tr>\n",
              "    <tr>\n",
              "      <th>6</th>\n",
              "      <td>0.14</td>\n",
              "      <td>0.35</td>\n",
              "      <td>0.23</td>\n",
              "      <td>0.18</td>\n",
              "      <td>0.62</td>\n",
              "      <td>0.30</td>\n",
              "      <td>0.17</td>\n",
              "    </tr>\n",
              "    <tr>\n",
              "      <th>7</th>\n",
              "      <td>0.20</td>\n",
              "      <td>0.23</td>\n",
              "      <td>0.22</td>\n",
              "      <td>0.21</td>\n",
              "      <td>0.40</td>\n",
              "      <td>0.25</td>\n",
              "      <td>0.08</td>\n",
              "    </tr>\n",
              "    <tr>\n",
              "      <th>8</th>\n",
              "      <td>0.11</td>\n",
              "      <td>0.48</td>\n",
              "      <td>0.30</td>\n",
              "      <td>0.25</td>\n",
              "      <td>0.33</td>\n",
              "      <td>0.29</td>\n",
              "      <td>0.12</td>\n",
              "    </tr>\n",
              "    <tr>\n",
              "      <th>9</th>\n",
              "      <td>0.31</td>\n",
              "      <td>0.37</td>\n",
              "      <td>0.16</td>\n",
              "      <td>0.31</td>\n",
              "      <td>0.71</td>\n",
              "      <td>0.37</td>\n",
              "      <td>0.18</td>\n",
              "    </tr>\n",
              "    <tr>\n",
              "      <th>10</th>\n",
              "      <td>0.27</td>\n",
              "      <td>0.29</td>\n",
              "      <td>0.22</td>\n",
              "      <td>0.30</td>\n",
              "      <td>0.52</td>\n",
              "      <td>0.32</td>\n",
              "      <td>0.10</td>\n",
              "    </tr>\n",
              "    <tr>\n",
              "      <th>11</th>\n",
              "      <td>0.26</td>\n",
              "      <td>0.62</td>\n",
              "      <td>0.24</td>\n",
              "      <td>0.22</td>\n",
              "      <td>0.56</td>\n",
              "      <td>0.38</td>\n",
              "      <td>0.17</td>\n",
              "    </tr>\n",
              "  </tbody>\n",
              "</table>\n",
              "</div>\n",
              "      <button class=\"colab-df-convert\" onclick=\"convertToInteractive('df-bc1c0bf2-5bbb-4294-9c9d-4b22bb21d9a7')\"\n",
              "              title=\"Convert this dataframe to an interactive table.\"\n",
              "              style=\"display:none;\">\n",
              "        \n",
              "  <svg xmlns=\"http://www.w3.org/2000/svg\" height=\"24px\"viewBox=\"0 0 24 24\"\n",
              "       width=\"24px\">\n",
              "    <path d=\"M0 0h24v24H0V0z\" fill=\"none\"/>\n",
              "    <path d=\"M18.56 5.44l.94 2.06.94-2.06 2.06-.94-2.06-.94-.94-2.06-.94 2.06-2.06.94zm-11 1L8.5 8.5l.94-2.06 2.06-.94-2.06-.94L8.5 2.5l-.94 2.06-2.06.94zm10 10l.94 2.06.94-2.06 2.06-.94-2.06-.94-.94-2.06-.94 2.06-2.06.94z\"/><path d=\"M17.41 7.96l-1.37-1.37c-.4-.4-.92-.59-1.43-.59-.52 0-1.04.2-1.43.59L10.3 9.45l-7.72 7.72c-.78.78-.78 2.05 0 2.83L4 21.41c.39.39.9.59 1.41.59.51 0 1.02-.2 1.41-.59l7.78-7.78 2.81-2.81c.8-.78.8-2.07 0-2.86zM5.41 20L4 18.59l7.72-7.72 1.47 1.35L5.41 20z\"/>\n",
              "  </svg>\n",
              "      </button>\n",
              "      \n",
              "  <style>\n",
              "    .colab-df-container {\n",
              "      display:flex;\n",
              "      flex-wrap:wrap;\n",
              "      gap: 12px;\n",
              "    }\n",
              "\n",
              "    .colab-df-convert {\n",
              "      background-color: #E8F0FE;\n",
              "      border: none;\n",
              "      border-radius: 50%;\n",
              "      cursor: pointer;\n",
              "      display: none;\n",
              "      fill: #1967D2;\n",
              "      height: 32px;\n",
              "      padding: 0 0 0 0;\n",
              "      width: 32px;\n",
              "    }\n",
              "\n",
              "    .colab-df-convert:hover {\n",
              "      background-color: #E2EBFA;\n",
              "      box-shadow: 0px 1px 2px rgba(60, 64, 67, 0.3), 0px 1px 3px 1px rgba(60, 64, 67, 0.15);\n",
              "      fill: #174EA6;\n",
              "    }\n",
              "\n",
              "    [theme=dark] .colab-df-convert {\n",
              "      background-color: #3B4455;\n",
              "      fill: #D2E3FC;\n",
              "    }\n",
              "\n",
              "    [theme=dark] .colab-df-convert:hover {\n",
              "      background-color: #434B5C;\n",
              "      box-shadow: 0px 1px 3px 1px rgba(0, 0, 0, 0.15);\n",
              "      filter: drop-shadow(0px 1px 2px rgba(0, 0, 0, 0.3));\n",
              "      fill: #FFFFFF;\n",
              "    }\n",
              "  </style>\n",
              "\n",
              "      <script>\n",
              "        const buttonEl =\n",
              "          document.querySelector('#df-bc1c0bf2-5bbb-4294-9c9d-4b22bb21d9a7 button.colab-df-convert');\n",
              "        buttonEl.style.display =\n",
              "          google.colab.kernel.accessAllowed ? 'block' : 'none';\n",
              "\n",
              "        async function convertToInteractive(key) {\n",
              "          const element = document.querySelector('#df-bc1c0bf2-5bbb-4294-9c9d-4b22bb21d9a7');\n",
              "          const dataTable =\n",
              "            await google.colab.kernel.invokeFunction('convertToInteractive',\n",
              "                                                     [key], {});\n",
              "          if (!dataTable) return;\n",
              "\n",
              "          const docLinkHtml = 'Like what you see? Visit the ' +\n",
              "            '<a target=\"_blank\" href=https://colab.research.google.com/notebooks/data_table.ipynb>data table notebook</a>'\n",
              "            + ' to learn more about interactive tables.';\n",
              "          element.innerHTML = '';\n",
              "          dataTable['output_type'] = 'display_data';\n",
              "          await google.colab.output.renderOutput(dataTable, element);\n",
              "          const docLink = document.createElement('div');\n",
              "          docLink.innerHTML = docLinkHtml;\n",
              "          element.appendChild(docLink);\n",
              "        }\n",
              "      </script>\n",
              "    </div>\n",
              "  </div>\n",
              "  "
            ]
          },
          "metadata": {},
          "execution_count": 157
        }
      ]
    },
    {
      "cell_type": "code",
      "source": [
        "Batch4 = pd.DataFrame().assign(duration=ds4['duration'], b4s1=db4s1['b4s1_duration'], b4s2=db4s2['b4s2_duration'], b4s3=db4s3['b4s3_duration'], b4s4=db4s4['b4s4_duration'])\n",
        "Batch4['mean_batch4'] = Batch4.mean(axis=1)\n",
        "Batch4['std_batch1']= Batch4.std(axis=1)\n",
        "Batch4.round(2)"
      ],
      "metadata": {
        "colab": {
          "base_uri": "https://localhost:8080/",
          "height": 426
        },
        "id": "UH4EKPMUWrWZ",
        "outputId": "abc2c08f-a060-4bd4-b892-df9021bdf65d"
      },
      "execution_count": 158,
      "outputs": [
        {
          "output_type": "execute_result",
          "data": {
            "text/plain": [
              "    duration  b4s1  b4s2  b4s3  b4s4  mean_batch4  std_batch1\n",
              "0       0.33  8.31  0.33  0.53  0.37         1.97        3.17\n",
              "1       0.26  0.49  0.37  0.62  0.43         0.44        0.12\n",
              "2       0.25  0.49  0.37  0.66  0.33         0.42        0.14\n",
              "3       0.17  0.43  0.34  0.61  0.25         0.36        0.15\n",
              "4       0.14  0.55  0.33  0.30  0.17         0.30        0.15\n",
              "5       0.14  0.54  0.33  0.29  0.13         0.29        0.15\n",
              "6       0.16  0.39  0.26  0.57  0.20         0.31        0.15\n",
              "7       0.17  0.27  0.28  0.28  0.15         0.23        0.06\n",
              "8       0.16  0.37  0.37  0.26  0.18         0.27        0.09\n",
              "9       0.22  0.53  0.20  0.52  0.28         0.35        0.14\n",
              "10      0.25  0.26  0.24  0.56  0.33         0.33        0.12\n",
              "11      0.30  0.31  0.38  0.43  0.37         0.36        0.05"
            ],
            "text/html": [
              "\n",
              "  <div id=\"df-a3dccc59-39bb-4ba8-a2c9-0d9bece1c3b5\">\n",
              "    <div class=\"colab-df-container\">\n",
              "      <div>\n",
              "<style scoped>\n",
              "    .dataframe tbody tr th:only-of-type {\n",
              "        vertical-align: middle;\n",
              "    }\n",
              "\n",
              "    .dataframe tbody tr th {\n",
              "        vertical-align: top;\n",
              "    }\n",
              "\n",
              "    .dataframe thead th {\n",
              "        text-align: right;\n",
              "    }\n",
              "</style>\n",
              "<table border=\"1\" class=\"dataframe\">\n",
              "  <thead>\n",
              "    <tr style=\"text-align: right;\">\n",
              "      <th></th>\n",
              "      <th>duration</th>\n",
              "      <th>b4s1</th>\n",
              "      <th>b4s2</th>\n",
              "      <th>b4s3</th>\n",
              "      <th>b4s4</th>\n",
              "      <th>mean_batch4</th>\n",
              "      <th>std_batch1</th>\n",
              "    </tr>\n",
              "  </thead>\n",
              "  <tbody>\n",
              "    <tr>\n",
              "      <th>0</th>\n",
              "      <td>0.33</td>\n",
              "      <td>8.31</td>\n",
              "      <td>0.33</td>\n",
              "      <td>0.53</td>\n",
              "      <td>0.37</td>\n",
              "      <td>1.97</td>\n",
              "      <td>3.17</td>\n",
              "    </tr>\n",
              "    <tr>\n",
              "      <th>1</th>\n",
              "      <td>0.26</td>\n",
              "      <td>0.49</td>\n",
              "      <td>0.37</td>\n",
              "      <td>0.62</td>\n",
              "      <td>0.43</td>\n",
              "      <td>0.44</td>\n",
              "      <td>0.12</td>\n",
              "    </tr>\n",
              "    <tr>\n",
              "      <th>2</th>\n",
              "      <td>0.25</td>\n",
              "      <td>0.49</td>\n",
              "      <td>0.37</td>\n",
              "      <td>0.66</td>\n",
              "      <td>0.33</td>\n",
              "      <td>0.42</td>\n",
              "      <td>0.14</td>\n",
              "    </tr>\n",
              "    <tr>\n",
              "      <th>3</th>\n",
              "      <td>0.17</td>\n",
              "      <td>0.43</td>\n",
              "      <td>0.34</td>\n",
              "      <td>0.61</td>\n",
              "      <td>0.25</td>\n",
              "      <td>0.36</td>\n",
              "      <td>0.15</td>\n",
              "    </tr>\n",
              "    <tr>\n",
              "      <th>4</th>\n",
              "      <td>0.14</td>\n",
              "      <td>0.55</td>\n",
              "      <td>0.33</td>\n",
              "      <td>0.30</td>\n",
              "      <td>0.17</td>\n",
              "      <td>0.30</td>\n",
              "      <td>0.15</td>\n",
              "    </tr>\n",
              "    <tr>\n",
              "      <th>5</th>\n",
              "      <td>0.14</td>\n",
              "      <td>0.54</td>\n",
              "      <td>0.33</td>\n",
              "      <td>0.29</td>\n",
              "      <td>0.13</td>\n",
              "      <td>0.29</td>\n",
              "      <td>0.15</td>\n",
              "    </tr>\n",
              "    <tr>\n",
              "      <th>6</th>\n",
              "      <td>0.16</td>\n",
              "      <td>0.39</td>\n",
              "      <td>0.26</td>\n",
              "      <td>0.57</td>\n",
              "      <td>0.20</td>\n",
              "      <td>0.31</td>\n",
              "      <td>0.15</td>\n",
              "    </tr>\n",
              "    <tr>\n",
              "      <th>7</th>\n",
              "      <td>0.17</td>\n",
              "      <td>0.27</td>\n",
              "      <td>0.28</td>\n",
              "      <td>0.28</td>\n",
              "      <td>0.15</td>\n",
              "      <td>0.23</td>\n",
              "      <td>0.06</td>\n",
              "    </tr>\n",
              "    <tr>\n",
              "      <th>8</th>\n",
              "      <td>0.16</td>\n",
              "      <td>0.37</td>\n",
              "      <td>0.37</td>\n",
              "      <td>0.26</td>\n",
              "      <td>0.18</td>\n",
              "      <td>0.27</td>\n",
              "      <td>0.09</td>\n",
              "    </tr>\n",
              "    <tr>\n",
              "      <th>9</th>\n",
              "      <td>0.22</td>\n",
              "      <td>0.53</td>\n",
              "      <td>0.20</td>\n",
              "      <td>0.52</td>\n",
              "      <td>0.28</td>\n",
              "      <td>0.35</td>\n",
              "      <td>0.14</td>\n",
              "    </tr>\n",
              "    <tr>\n",
              "      <th>10</th>\n",
              "      <td>0.25</td>\n",
              "      <td>0.26</td>\n",
              "      <td>0.24</td>\n",
              "      <td>0.56</td>\n",
              "      <td>0.33</td>\n",
              "      <td>0.33</td>\n",
              "      <td>0.12</td>\n",
              "    </tr>\n",
              "    <tr>\n",
              "      <th>11</th>\n",
              "      <td>0.30</td>\n",
              "      <td>0.31</td>\n",
              "      <td>0.38</td>\n",
              "      <td>0.43</td>\n",
              "      <td>0.37</td>\n",
              "      <td>0.36</td>\n",
              "      <td>0.05</td>\n",
              "    </tr>\n",
              "  </tbody>\n",
              "</table>\n",
              "</div>\n",
              "      <button class=\"colab-df-convert\" onclick=\"convertToInteractive('df-a3dccc59-39bb-4ba8-a2c9-0d9bece1c3b5')\"\n",
              "              title=\"Convert this dataframe to an interactive table.\"\n",
              "              style=\"display:none;\">\n",
              "        \n",
              "  <svg xmlns=\"http://www.w3.org/2000/svg\" height=\"24px\"viewBox=\"0 0 24 24\"\n",
              "       width=\"24px\">\n",
              "    <path d=\"M0 0h24v24H0V0z\" fill=\"none\"/>\n",
              "    <path d=\"M18.56 5.44l.94 2.06.94-2.06 2.06-.94-2.06-.94-.94-2.06-.94 2.06-2.06.94zm-11 1L8.5 8.5l.94-2.06 2.06-.94-2.06-.94L8.5 2.5l-.94 2.06-2.06.94zm10 10l.94 2.06.94-2.06 2.06-.94-2.06-.94-.94-2.06-.94 2.06-2.06.94z\"/><path d=\"M17.41 7.96l-1.37-1.37c-.4-.4-.92-.59-1.43-.59-.52 0-1.04.2-1.43.59L10.3 9.45l-7.72 7.72c-.78.78-.78 2.05 0 2.83L4 21.41c.39.39.9.59 1.41.59.51 0 1.02-.2 1.41-.59l7.78-7.78 2.81-2.81c.8-.78.8-2.07 0-2.86zM5.41 20L4 18.59l7.72-7.72 1.47 1.35L5.41 20z\"/>\n",
              "  </svg>\n",
              "      </button>\n",
              "      \n",
              "  <style>\n",
              "    .colab-df-container {\n",
              "      display:flex;\n",
              "      flex-wrap:wrap;\n",
              "      gap: 12px;\n",
              "    }\n",
              "\n",
              "    .colab-df-convert {\n",
              "      background-color: #E8F0FE;\n",
              "      border: none;\n",
              "      border-radius: 50%;\n",
              "      cursor: pointer;\n",
              "      display: none;\n",
              "      fill: #1967D2;\n",
              "      height: 32px;\n",
              "      padding: 0 0 0 0;\n",
              "      width: 32px;\n",
              "    }\n",
              "\n",
              "    .colab-df-convert:hover {\n",
              "      background-color: #E2EBFA;\n",
              "      box-shadow: 0px 1px 2px rgba(60, 64, 67, 0.3), 0px 1px 3px 1px rgba(60, 64, 67, 0.15);\n",
              "      fill: #174EA6;\n",
              "    }\n",
              "\n",
              "    [theme=dark] .colab-df-convert {\n",
              "      background-color: #3B4455;\n",
              "      fill: #D2E3FC;\n",
              "    }\n",
              "\n",
              "    [theme=dark] .colab-df-convert:hover {\n",
              "      background-color: #434B5C;\n",
              "      box-shadow: 0px 1px 3px 1px rgba(0, 0, 0, 0.15);\n",
              "      filter: drop-shadow(0px 1px 2px rgba(0, 0, 0, 0.3));\n",
              "      fill: #FFFFFF;\n",
              "    }\n",
              "  </style>\n",
              "\n",
              "      <script>\n",
              "        const buttonEl =\n",
              "          document.querySelector('#df-a3dccc59-39bb-4ba8-a2c9-0d9bece1c3b5 button.colab-df-convert');\n",
              "        buttonEl.style.display =\n",
              "          google.colab.kernel.accessAllowed ? 'block' : 'none';\n",
              "\n",
              "        async function convertToInteractive(key) {\n",
              "          const element = document.querySelector('#df-a3dccc59-39bb-4ba8-a2c9-0d9bece1c3b5');\n",
              "          const dataTable =\n",
              "            await google.colab.kernel.invokeFunction('convertToInteractive',\n",
              "                                                     [key], {});\n",
              "          if (!dataTable) return;\n",
              "\n",
              "          const docLinkHtml = 'Like what you see? Visit the ' +\n",
              "            '<a target=\"_blank\" href=https://colab.research.google.com/notebooks/data_table.ipynb>data table notebook</a>'\n",
              "            + ' to learn more about interactive tables.';\n",
              "          element.innerHTML = '';\n",
              "          dataTable['output_type'] = 'display_data';\n",
              "          await google.colab.output.renderOutput(dataTable, element);\n",
              "          const docLink = document.createElement('div');\n",
              "          docLink.innerHTML = docLinkHtml;\n",
              "          element.appendChild(docLink);\n",
              "        }\n",
              "      </script>\n",
              "    </div>\n",
              "  </div>\n",
              "  "
            ]
          },
          "metadata": {},
          "execution_count": 158
        }
      ]
    },
    {
      "cell_type": "code",
      "source": [],
      "metadata": {
        "id": "pZEL-zUwWr2B"
      },
      "execution_count": 151,
      "outputs": []
    },
    {
      "cell_type": "code",
      "source": [],
      "metadata": {
        "id": "PRrIseZHWxPw"
      },
      "execution_count": 151,
      "outputs": []
    },
    {
      "cell_type": "code",
      "source": [],
      "metadata": {
        "id": "fz-7eKLMWxug"
      },
      "execution_count": 151,
      "outputs": []
    }
  ]
}